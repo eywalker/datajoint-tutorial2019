{
 "cells": [
  {
   "cell_type": "markdown",
   "metadata": {},
   "source": [
    "# Organizing data into a data pipeline with DataJoint"
   ]
  },
  {
   "cell_type": "markdown",
   "metadata": {},
   "source": [
    "Here we are going to take a very quick look at how you can create, organize, and even run computations inside a **data pipeline** built using a Python (and MATLAB) package called **DataJoint**."
   ]
  },
  {
   "cell_type": "code",
   "execution_count": 1,
   "metadata": {},
   "outputs": [],
   "source": [
    "import numpy as np\n",
    "import matplotlib.pyplot as plt\n",
    "%matplotlib inline"
   ]
  },
  {
   "cell_type": "markdown",
   "metadata": {},
   "source": [
    "### NOTE"
   ]
  },
  {
   "cell_type": "markdown",
   "metadata": {},
   "source": [
    "This notebook is kept intentionally succinct and a lot of details about DataJoint is explained only minimally. Interested students who wish to learn more about DataJoint are referred to the [tutorials](https://tutorials.datajoint.io) as well as on [DataJoint two-days workshop](https://github.com/datajoint/neuronex_workshop_2018) with accompanying videos."
   ]
  },
  {
   "cell_type": "markdown",
   "metadata": {},
   "source": [
    "Once you have successfully installed DataJoint, you can go ahead and import the package just like for NumPy and Matplotlib. The convention is to import `datajoint as dj`."
   ]
  },
  {
   "cell_type": "code",
   "execution_count": 87,
   "metadata": {},
   "outputs": [],
   "source": [
    "import datajoint as dj"
   ]
  },
  {
   "cell_type": "markdown",
   "metadata": {},
   "source": [
    "# So... What is a data pipeline?"
   ]
  },
  {
   "cell_type": "markdown",
   "metadata": {},
   "source": [
    "A data pipeline is a listing or a \"map\" of various \"things\" that you work with in a project, with line connecting things to each other to indicate their dependecies. The \"things\" may include anything from mouse, experimenter, equipment, to experiment session, trial, two-photon scans, electric activities, to receptive fields, neuronal spikes, to figures for a publication! \n",
    "\n",
    "\n",
    "A data pipeline gives you a framework to:\n",
    "\n",
    "1. define these \"things\" as tables in which you can store the information about them\n",
    "2. define the relationships (in particular the dependencies) between the \"things\""
   ]
  },
  {
   "cell_type": "markdown",
   "metadata": {},
   "source": [
    "Let's go ahead and build together a pipeline from scratch to better understand what a data pipeline is all about."
   ]
  },
  {
   "cell_type": "markdown",
   "metadata": {},
   "source": [
    "# Building our first pipeline: single electrode recording from mouse"
   ]
  },
  {
   "cell_type": "markdown",
   "metadata": {},
   "source": [
    "Let's build a pipeline to collect, store and process data and analysis for our hypothetical single electrode recording study in mice. To help us understand the project better, here is a brief description:"
   ]
  },
  {
   "cell_type": "markdown",
   "metadata": {},
   "source": [
    "> * Your lab houses many **mice**, and each mouse is identified by a unique ID. You also want to keep track of information about each mouse such as their date of birth and gender.\n",
    "> * As a hard working neuroscientist, you perform experiments every day, sometimes working with more than one mouse in a day! However, on an any given day, a mouse undergoes at most one recording session.\n",
    "> * For each **experimental session**, you would like to record what mouse you worked with and when you performed the experiment. You would also like to keep track of other helpful information such as the experimental setup you worked on.\n",
    "> * In each **experimental session**, you record electrical activity from **a single neuron**. You use recording equipment that produces separate data files for each neuron you recorded.\n",
    "> * Neuron's activities are recorded as raw traces. **Neuron's spikes** needs to be detected for further analysis to be performed."
   ]
  },
  {
   "cell_type": "markdown",
   "metadata": {},
   "source": [
    "Just by going though the description, we can start to identify **things** that we might want to store and represent in our data pipeline:\n",
    "\n",
    "* mouse\n",
    "* experimental session\n",
    "* neuron\n",
    "* spikes"
   ]
  },
  {
   "cell_type": "markdown",
   "metadata": {},
   "source": [
    "In DataJoint data pipeline, we represent these **things** as **tables**. Different *kinds* of entities become distinct tables, and each row of the table is a single example (instance) of the category of entity. \n",
    "\n",
    "For example, if we have a `Mouse` table, then each row in the mouse table represents a single mouse!"
   ]
  },
  {
   "cell_type": "markdown",
   "metadata": {},
   "source": [
    "When constructing such table, we need to figure out what it would take to **uniquely identify** each entry. For example, in constructing a table for mice, we might conclude that each mouse can be uniquely identified by knowing its **mouse ID** - a unique ID number assigned to each mouse in the lab. The mouse ID is then a column in the table or an **attribute** that can be used to **uniquely identify** each mouse. Such attribute is called the **primary key** of the table.\n",
    "\n",
    "| mouse_id* |\n",
    "|:--------:|\n",
    "| 11234    |\n",
    "| 11432    |"
   ]
  },
  {
   "cell_type": "markdown",
   "metadata": {},
   "source": [
    "Once we have successfully identified the primary key of the table, we can now think about what other columns, or **non-primary key attributes** that we would want to include in the table. These are additional information **about each entry in the table that we want to store**."
   ]
  },
  {
   "cell_type": "markdown",
   "metadata": {},
   "source": [
    "For the case of mouse, what other information about the mouse you might want to store? Based on the project description, we would probably want to store information such as the mouse's **date of birth** and **gender**."
   ]
  },
  {
   "cell_type": "markdown",
   "metadata": {},
   "source": [
    "| mouse_id* | dob        | sex |\n",
    "|:--------:|------------|--------|\n",
    "| 11234    | 2017-11-17 | M      |\n",
    "| 11432    | 2018-03-04 | F      |"
   ]
  },
  {
   "cell_type": "markdown",
   "metadata": {},
   "source": [
    "Now we have an idea on how to represent information about mouse, let's create the table using **DataJoint**!"
   ]
  },
  {
   "cell_type": "markdown",
   "metadata": {},
   "source": [
    "# Creating Mouse table"
   ]
  },
  {
   "cell_type": "markdown",
   "metadata": {},
   "source": [
    "One or more tables can be grouped together into a **schema**, allowing you to keep related entities together for conceptual clarity."
   ]
  },
  {
   "cell_type": "code",
   "execution_count": 5,
   "metadata": {},
   "outputs": [],
   "source": [
    "schema = dj.schema('pipeline')"
   ]
  },
  {
   "cell_type": "code",
   "execution_count": 6,
   "metadata": {},
   "outputs": [
    {
     "data": {
      "text/plain": [
       "Schema `pipeline`"
      ]
     },
     "execution_count": 6,
     "metadata": {},
     "output_type": "execute_result"
    }
   ],
   "source": [
    "schema"
   ]
  },
  {
   "cell_type": "markdown",
   "metadata": {},
   "source": [
    "In DataJoint, you define each table as a class, and provide the table definition (e.g. attribute definitions) as the `definition` string property. The class will inherit from the `dj.Manual` class provided by DataJoint."
   ]
  },
  {
   "cell_type": "code",
   "execution_count": 7,
   "metadata": {},
   "outputs": [],
   "source": [
    "@schema\n",
    "class Mouse(dj.Manual):\n",
    "    definition = \"\"\"\n",
    "    # Experimental animals\n",
    "    mouse_id             : int                          # Unique animal ID\n",
    "    ---\n",
    "    dob=null             : date                         # date of birth\n",
    "    sex=\"unknown\"        : enum('M','F','unknown')      # sex\n",
    "    \"\"\""
   ]
  },
  {
   "cell_type": "markdown",
   "metadata": {},
   "source": [
    "Let's take a look at our brand new table"
   ]
  },
  {
   "cell_type": "code",
   "execution_count": 8,
   "metadata": {},
   "outputs": [
    {
     "data": {
      "text/html": [
       "\n",
       "        \n",
       "        <style type=\"text/css\">\n",
       "            .Relation{\n",
       "                border-collapse:collapse;\n",
       "            }\n",
       "            .Relation th{\n",
       "                background: #A0A0A0; color: #ffffff; padding:4px; border:#f0e0e0 1px solid;\n",
       "                font-weight: normal; font-family: monospace; font-size: 100%;\n",
       "            }\n",
       "            .Relation td{\n",
       "                padding:4px; border:#f0e0e0 1px solid; font-size:100%;\n",
       "            }\n",
       "            .Relation tr:nth-child(odd){\n",
       "                background: #ffffff;\n",
       "            }\n",
       "            .Relation tr:nth-child(even){\n",
       "                background: #f3f1ff;\n",
       "            }\n",
       "            /* Tooltip container */\n",
       "            .djtooltip {\n",
       "            }\n",
       "            /* Tooltip text */\n",
       "            .djtooltip .djtooltiptext {\n",
       "                visibility: hidden;\n",
       "                width: 120px;\n",
       "                background-color: black;\n",
       "                color: #fff;\n",
       "                text-align: center;\n",
       "                padding: 5px 0;\n",
       "                border-radius: 6px;\n",
       "                /* Position the tooltip text - see examples below! */\n",
       "                position: absolute;\n",
       "                z-index: 1;\n",
       "            }\n",
       "            #primary {\n",
       "                font-weight: bold;\n",
       "                color: black;\n",
       "            }\n",
       "\n",
       "            #nonprimary {\n",
       "                font-weight: normal;\n",
       "                color: white;\n",
       "            }\n",
       "\n",
       "            /* Show the tooltip text when you mouse over the tooltip container */\n",
       "            .djtooltip:hover .djtooltiptext {\n",
       "                visibility: visible;\n",
       "            }\n",
       "        </style>\n",
       "        \n",
       "        <b>Experimental animals</b>\n",
       "            <div style=\"max-height:1000px;max-width:1500px;overflow:auto;\">\n",
       "            <table border=\"1\" class=\"Relation\">\n",
       "                <thead> <tr style=\"text-align: right;\"> <th> <div class=\"djtooltip\">\n",
       "                                <p id=\"primary\">mouse_id</p>\n",
       "                                <span class=\"djtooltiptext\">Unique animal ID</span>\n",
       "                            </div></th><th><div class=\"djtooltip\">\n",
       "                                <p id=\"nonprimary\">dob</p>\n",
       "                                <span class=\"djtooltiptext\">date of birth</span>\n",
       "                            </div></th><th><div class=\"djtooltip\">\n",
       "                                <p id=\"nonprimary\">sex</p>\n",
       "                                <span class=\"djtooltiptext\">sex</span>\n",
       "                            </div> </th> </tr> </thead>\n",
       "                <tbody> <tr>  </tr> </tbody>\n",
       "            </table>\n",
       "            \n",
       "            <p>Total: 0</p></div>\n",
       "            "
      ],
      "text/plain": [
       "*mouse_id    dob     sex    \n",
       "+----------+ +-----+ +-----+\n",
       "\n",
       " (Total: 0)"
      ]
     },
     "execution_count": 8,
     "metadata": {},
     "output_type": "execute_result"
    }
   ],
   "source": [
    "Mouse()"
   ]
  },
  {
   "cell_type": "markdown",
   "metadata": {},
   "source": [
    "Once created you can **insert** data into the table. Below I insert information about multiple mice, using various methods of insertion:"
   ]
  },
  {
   "cell_type": "code",
   "execution_count": 9,
   "metadata": {},
   "outputs": [],
   "source": [
    "# insert one a time\n",
    "Mouse.insert1((0, '2017-03-01', 'M'))"
   ]
  },
  {
   "cell_type": "code",
   "execution_count": 10,
   "metadata": {},
   "outputs": [],
   "source": [
    "# or insert in batches\n",
    "data = [\n",
    "  (1, '2016-11-19', 'M'),\n",
    "  (2, '2016-11-20', 'unknown'),\n",
    "  (5, '2016-12-25', 'F')\n",
    "]\n",
    "\n",
    "# now insert all at once\n",
    "Mouse.insert(data)"
   ]
  },
  {
   "cell_type": "code",
   "execution_count": 11,
   "metadata": {},
   "outputs": [],
   "source": [
    "# inserting as dictionary\n",
    "data = {\n",
    "    'mouse_id': 100,\n",
    "    'dob': '2017-05-12',\n",
    "    'sex': 'F'\n",
    "}\n",
    "\n",
    "Mouse.insert1(data)"
   ]
  },
  {
   "cell_type": "code",
   "execution_count": 12,
   "metadata": {},
   "outputs": [],
   "source": [
    "# inserting list of dictionaries\n",
    "\n",
    "data = [\n",
    "  {'mouse_id': 10, 'dob': '2017-01-01', 'sex': 'F'},\n",
    "  {'mouse_id': 11, 'dob': '2017-01-03', 'sex': 'F'},\n",
    "]\n",
    "\n",
    "# insert them all\n",
    "Mouse.insert(data)"
   ]
  },
  {
   "cell_type": "markdown",
   "metadata": {},
   "source": [
    "We now have multilpe mice in our table!"
   ]
  },
  {
   "cell_type": "code",
   "execution_count": 13,
   "metadata": {},
   "outputs": [
    {
     "data": {
      "text/html": [
       "\n",
       "        \n",
       "        <style type=\"text/css\">\n",
       "            .Relation{\n",
       "                border-collapse:collapse;\n",
       "            }\n",
       "            .Relation th{\n",
       "                background: #A0A0A0; color: #ffffff; padding:4px; border:#f0e0e0 1px solid;\n",
       "                font-weight: normal; font-family: monospace; font-size: 100%;\n",
       "            }\n",
       "            .Relation td{\n",
       "                padding:4px; border:#f0e0e0 1px solid; font-size:100%;\n",
       "            }\n",
       "            .Relation tr:nth-child(odd){\n",
       "                background: #ffffff;\n",
       "            }\n",
       "            .Relation tr:nth-child(even){\n",
       "                background: #f3f1ff;\n",
       "            }\n",
       "            /* Tooltip container */\n",
       "            .djtooltip {\n",
       "            }\n",
       "            /* Tooltip text */\n",
       "            .djtooltip .djtooltiptext {\n",
       "                visibility: hidden;\n",
       "                width: 120px;\n",
       "                background-color: black;\n",
       "                color: #fff;\n",
       "                text-align: center;\n",
       "                padding: 5px 0;\n",
       "                border-radius: 6px;\n",
       "                /* Position the tooltip text - see examples below! */\n",
       "                position: absolute;\n",
       "                z-index: 1;\n",
       "            }\n",
       "            #primary {\n",
       "                font-weight: bold;\n",
       "                color: black;\n",
       "            }\n",
       "\n",
       "            #nonprimary {\n",
       "                font-weight: normal;\n",
       "                color: white;\n",
       "            }\n",
       "\n",
       "            /* Show the tooltip text when you mouse over the tooltip container */\n",
       "            .djtooltip:hover .djtooltiptext {\n",
       "                visibility: visible;\n",
       "            }\n",
       "        </style>\n",
       "        \n",
       "        <b>Experimental animals</b>\n",
       "            <div style=\"max-height:1000px;max-width:1500px;overflow:auto;\">\n",
       "            <table border=\"1\" class=\"Relation\">\n",
       "                <thead> <tr style=\"text-align: right;\"> <th> <div class=\"djtooltip\">\n",
       "                                <p id=\"primary\">mouse_id</p>\n",
       "                                <span class=\"djtooltiptext\">Unique animal ID</span>\n",
       "                            </div></th><th><div class=\"djtooltip\">\n",
       "                                <p id=\"nonprimary\">dob</p>\n",
       "                                <span class=\"djtooltiptext\">date of birth</span>\n",
       "                            </div></th><th><div class=\"djtooltip\">\n",
       "                                <p id=\"nonprimary\">sex</p>\n",
       "                                <span class=\"djtooltiptext\">sex</span>\n",
       "                            </div> </th> </tr> </thead>\n",
       "                <tbody> <tr> <td>0</td>\n",
       "<td>2017-03-01</td>\n",
       "<td>M</td></tr><tr><td>1</td>\n",
       "<td>2016-11-19</td>\n",
       "<td>M</td></tr><tr><td>2</td>\n",
       "<td>2016-11-20</td>\n",
       "<td>unknown</td></tr><tr><td>5</td>\n",
       "<td>2016-12-25</td>\n",
       "<td>F</td></tr><tr><td>10</td>\n",
       "<td>2017-01-01</td>\n",
       "<td>F</td></tr><tr><td>11</td>\n",
       "<td>2017-01-03</td>\n",
       "<td>F</td></tr><tr><td>100</td>\n",
       "<td>2017-05-12</td>\n",
       "<td>F</td> </tr> </tbody>\n",
       "            </table>\n",
       "            \n",
       "            <p>Total: 7</p></div>\n",
       "            "
      ],
      "text/plain": [
       "*mouse_id    dob            sex        \n",
       "+----------+ +------------+ +---------+\n",
       "0            2017-03-01     M          \n",
       "1            2016-11-19     M          \n",
       "2            2016-11-20     unknown    \n",
       "5            2016-12-25     F          \n",
       "10           2017-01-01     F          \n",
       "11           2017-01-03     F          \n",
       "100          2017-05-12     F          \n",
       " (Total: 7)"
      ]
     },
     "execution_count": 13,
     "metadata": {},
     "output_type": "execute_result"
    }
   ],
   "source": [
    "Mouse()"
   ]
  },
  {
   "cell_type": "markdown",
   "metadata": {},
   "source": [
    "## Data integrity"
   ]
  },
  {
   "cell_type": "markdown",
   "metadata": {},
   "source": [
    "DataJoint checks for data integrity, and ensures that you don't insert a duplicate by mistake. When you try to insert an **already existing mouse**, DataJoint will trigger an error!"
   ]
  },
  {
   "cell_type": "code",
   "execution_count": 14,
   "metadata": {},
   "outputs": [
    {
     "ename": "DuplicateError",
     "evalue": "Duplicate entry '0' for key 'PRIMARY' : To ignore duplicate entries, set skip_duplicates=True in insert.",
     "output_type": "error",
     "traceback": [
      "\u001b[0;31m---------------------------------------------------------------------------\u001b[0m",
      "\u001b[0;31mDuplicateError\u001b[0m                            Traceback (most recent call last)",
      "\u001b[0;32m<ipython-input-14-304369cd8a83>\u001b[0m in \u001b[0;36m<module>\u001b[0;34m\u001b[0m\n\u001b[1;32m      2\u001b[0m {'mouse_id': 0,\n\u001b[1;32m      3\u001b[0m  \u001b[0;34m'dob'\u001b[0m\u001b[0;34m:\u001b[0m \u001b[0;34m'2018-01-01'\u001b[0m\u001b[0;34m,\u001b[0m\u001b[0;34m\u001b[0m\u001b[0;34m\u001b[0m\u001b[0m\n\u001b[0;32m----> 4\u001b[0;31m  \u001b[0;34m'sex'\u001b[0m\u001b[0;34m:\u001b[0m \u001b[0;34m'M'\u001b[0m\u001b[0;34m,\u001b[0m\u001b[0;34m\u001b[0m\u001b[0;34m\u001b[0m\u001b[0m\n\u001b[0m\u001b[1;32m      5\u001b[0m })\n",
      "\u001b[0;32m~/.local/lib/python3.6/site-packages/datajoint/table.py\u001b[0m in \u001b[0;36minsert1\u001b[0;34m(self, row, **kwargs)\u001b[0m\n\u001b[1;32m    147\u001b[0m         \u001b[0mFor\u001b[0m \u001b[0mkwargs\u001b[0m\u001b[0;34m,\u001b[0m \u001b[0msee\u001b[0m \u001b[0minsert\u001b[0m\u001b[0;34m(\u001b[0m\u001b[0;34m)\u001b[0m\u001b[0;34m\u001b[0m\u001b[0;34m\u001b[0m\u001b[0m\n\u001b[1;32m    148\u001b[0m         \"\"\"\n\u001b[0;32m--> 149\u001b[0;31m         \u001b[0mself\u001b[0m\u001b[0;34m.\u001b[0m\u001b[0minsert\u001b[0m\u001b[0;34m(\u001b[0m\u001b[0;34m(\u001b[0m\u001b[0mrow\u001b[0m\u001b[0;34m,\u001b[0m\u001b[0;34m)\u001b[0m\u001b[0;34m,\u001b[0m \u001b[0;34m**\u001b[0m\u001b[0mkwargs\u001b[0m\u001b[0;34m)\u001b[0m\u001b[0;34m\u001b[0m\u001b[0;34m\u001b[0m\u001b[0m\n\u001b[0m\u001b[1;32m    150\u001b[0m \u001b[0;34m\u001b[0m\u001b[0m\n\u001b[1;32m    151\u001b[0m     \u001b[0;32mdef\u001b[0m \u001b[0minsert\u001b[0m\u001b[0;34m(\u001b[0m\u001b[0mself\u001b[0m\u001b[0;34m,\u001b[0m \u001b[0mrows\u001b[0m\u001b[0;34m,\u001b[0m \u001b[0mreplace\u001b[0m\u001b[0;34m=\u001b[0m\u001b[0;32mFalse\u001b[0m\u001b[0;34m,\u001b[0m \u001b[0mskip_duplicates\u001b[0m\u001b[0;34m=\u001b[0m\u001b[0;32mFalse\u001b[0m\u001b[0;34m,\u001b[0m \u001b[0mignore_extra_fields\u001b[0m\u001b[0;34m=\u001b[0m\u001b[0;32mFalse\u001b[0m\u001b[0;34m,\u001b[0m \u001b[0mallow_direct_insert\u001b[0m\u001b[0;34m=\u001b[0m\u001b[0;32mNone\u001b[0m\u001b[0;34m)\u001b[0m\u001b[0;34m:\u001b[0m\u001b[0;34m\u001b[0m\u001b[0;34m\u001b[0m\u001b[0m\n",
      "\u001b[0;32m~/.local/lib/python3.6/site-packages/datajoint/table.py\u001b[0m in \u001b[0;36minsert\u001b[0;34m(self, rows, replace, skip_duplicates, ignore_extra_fields, allow_direct_insert)\u001b[0m\n\u001b[1;32m    317\u001b[0m                     raise DuplicateError(\n\u001b[1;32m    318\u001b[0m                         \u001b[0;34m'{} : To ignore duplicate entries, set skip_duplicates=True in insert.'\u001b[0m\u001b[0;34m.\u001b[0m\u001b[0mformat\u001b[0m\u001b[0;34m(\u001b[0m\u001b[0merr\u001b[0m\u001b[0;34m.\u001b[0m\u001b[0margs\u001b[0m\u001b[0;34m[\u001b[0m\u001b[0;36m1\u001b[0m\u001b[0;34m]\u001b[0m\u001b[0;34m)\u001b[0m\u001b[0;34m\u001b[0m\u001b[0;34m\u001b[0m\u001b[0m\n\u001b[0;32m--> 319\u001b[0;31m                     ) from None\n\u001b[0m\u001b[1;32m    320\u001b[0m                 \u001b[0;32melse\u001b[0m\u001b[0;34m:\u001b[0m\u001b[0;34m\u001b[0m\u001b[0;34m\u001b[0m\u001b[0m\n\u001b[1;32m    321\u001b[0m                     \u001b[0;32mraise\u001b[0m\u001b[0;34m\u001b[0m\u001b[0;34m\u001b[0m\u001b[0m\n",
      "\u001b[0;31mDuplicateError\u001b[0m: Duplicate entry '0' for key 'PRIMARY' : To ignore duplicate entries, set skip_duplicates=True in insert."
     ]
    }
   ],
   "source": [
    "Mouse.insert1(\n",
    "{'mouse_id': 0,\n",
    " 'dob': '2018-01-01',\n",
    " 'sex': 'M',\n",
    "})"
   ]
  },
  {
   "cell_type": "markdown",
   "metadata": {},
   "source": [
    "## Fetching all data"
   ]
  },
  {
   "cell_type": "markdown",
   "metadata": {},
   "source": [
    "Of course, information contained in the table can be **fetched** easily for you to work with:"
   ]
  },
  {
   "cell_type": "code",
   "execution_count": 15,
   "metadata": {},
   "outputs": [
    {
     "data": {
      "text/plain": [
       "array([(  0, datetime.date(2017, 3, 1), 'M'),\n",
       "       (  1, datetime.date(2016, 11, 19), 'M'),\n",
       "       (  2, datetime.date(2016, 11, 20), 'unknown'),\n",
       "       (  5, datetime.date(2016, 12, 25), 'F'),\n",
       "       ( 10, datetime.date(2017, 1, 1), 'F'),\n",
       "       ( 11, datetime.date(2017, 1, 3), 'F'),\n",
       "       (100, datetime.date(2017, 5, 12), 'F')],\n",
       "      dtype=[('mouse_id', '<i8'), ('dob', 'O'), ('sex', 'O')])"
      ]
     },
     "execution_count": 15,
     "metadata": {},
     "output_type": "execute_result"
    }
   ],
   "source": [
    "data = Mouse.fetch() # get all mouse!!\n",
    "data"
   ]
  },
  {
   "cell_type": "markdown",
   "metadata": {},
   "source": [
    "You can also get specific attributes at a time!"
   ]
  },
  {
   "cell_type": "code",
   "execution_count": 16,
   "metadata": {},
   "outputs": [
    {
     "data": {
      "text/plain": [
       "array(['M', 'M', 'unknown', 'F', 'F', 'F', 'F'], dtype=object)"
      ]
     },
     "execution_count": 16,
     "metadata": {},
     "output_type": "execute_result"
    }
   ],
   "source": [
    "# only get the sex of all mouse\n",
    "Mouse.fetch('sex')"
   ]
  },
  {
   "cell_type": "markdown",
   "metadata": {},
   "source": [
    "# DataJoint query language"
   ]
  },
  {
   "cell_type": "markdown",
   "metadata": {},
   "source": [
    "DataJoint offers very powerful yet intuitive **querying** syntax that let's you select exactly the data you want before you fetch it."
   ]
  },
  {
   "cell_type": "markdown",
   "metadata": {},
   "source": [
    "## Restricting by attribute value"
   ]
  },
  {
   "cell_type": "markdown",
   "metadata": {},
   "source": [
    "The **restriction** operation, `&`, let's you specify the criteria to narrow down the table on the left."
   ]
  },
  {
   "cell_type": "markdown",
   "metadata": {},
   "source": [
    "All male mice (`sex = \"M\"'`)"
   ]
  },
  {
   "cell_type": "code",
   "execution_count": 17,
   "metadata": {},
   "outputs": [
    {
     "data": {
      "text/html": [
       "\n",
       "        \n",
       "        <style type=\"text/css\">\n",
       "            .Relation{\n",
       "                border-collapse:collapse;\n",
       "            }\n",
       "            .Relation th{\n",
       "                background: #A0A0A0; color: #ffffff; padding:4px; border:#f0e0e0 1px solid;\n",
       "                font-weight: normal; font-family: monospace; font-size: 100%;\n",
       "            }\n",
       "            .Relation td{\n",
       "                padding:4px; border:#f0e0e0 1px solid; font-size:100%;\n",
       "            }\n",
       "            .Relation tr:nth-child(odd){\n",
       "                background: #ffffff;\n",
       "            }\n",
       "            .Relation tr:nth-child(even){\n",
       "                background: #f3f1ff;\n",
       "            }\n",
       "            /* Tooltip container */\n",
       "            .djtooltip {\n",
       "            }\n",
       "            /* Tooltip text */\n",
       "            .djtooltip .djtooltiptext {\n",
       "                visibility: hidden;\n",
       "                width: 120px;\n",
       "                background-color: black;\n",
       "                color: #fff;\n",
       "                text-align: center;\n",
       "                padding: 5px 0;\n",
       "                border-radius: 6px;\n",
       "                /* Position the tooltip text - see examples below! */\n",
       "                position: absolute;\n",
       "                z-index: 1;\n",
       "            }\n",
       "            #primary {\n",
       "                font-weight: bold;\n",
       "                color: black;\n",
       "            }\n",
       "\n",
       "            #nonprimary {\n",
       "                font-weight: normal;\n",
       "                color: white;\n",
       "            }\n",
       "\n",
       "            /* Show the tooltip text when you mouse over the tooltip container */\n",
       "            .djtooltip:hover .djtooltiptext {\n",
       "                visibility: visible;\n",
       "            }\n",
       "        </style>\n",
       "        \n",
       "        <b>Experimental animals</b>\n",
       "            <div style=\"max-height:1000px;max-width:1500px;overflow:auto;\">\n",
       "            <table border=\"1\" class=\"Relation\">\n",
       "                <thead> <tr style=\"text-align: right;\"> <th> <div class=\"djtooltip\">\n",
       "                                <p id=\"primary\">mouse_id</p>\n",
       "                                <span class=\"djtooltiptext\">Unique animal ID</span>\n",
       "                            </div></th><th><div class=\"djtooltip\">\n",
       "                                <p id=\"nonprimary\">dob</p>\n",
       "                                <span class=\"djtooltiptext\">date of birth</span>\n",
       "                            </div></th><th><div class=\"djtooltip\">\n",
       "                                <p id=\"nonprimary\">sex</p>\n",
       "                                <span class=\"djtooltiptext\">sex</span>\n",
       "                            </div> </th> </tr> </thead>\n",
       "                <tbody> <tr> <td>0</td>\n",
       "<td>2017-03-01</td>\n",
       "<td>M</td></tr><tr><td>1</td>\n",
       "<td>2016-11-19</td>\n",
       "<td>M</td> </tr> </tbody>\n",
       "            </table>\n",
       "            \n",
       "            <p>Total: 2</p></div>\n",
       "            "
      ],
      "text/plain": [
       "*mouse_id    dob            sex    \n",
       "+----------+ +------------+ +-----+\n",
       "0            2017-03-01     M      \n",
       "1            2016-11-19     M      \n",
       " (Total: 2)"
      ]
     },
     "execution_count": 17,
     "metadata": {},
     "output_type": "execute_result"
    }
   ],
   "source": [
    "Mouse & 'sex = \"M\"'"
   ]
  },
  {
   "cell_type": "markdown",
   "metadata": {},
   "source": [
    "Mouse that is born **after 2017-01-01**"
   ]
  },
  {
   "cell_type": "code",
   "execution_count": 18,
   "metadata": {},
   "outputs": [
    {
     "data": {
      "text/html": [
       "\n",
       "        \n",
       "        <style type=\"text/css\">\n",
       "            .Relation{\n",
       "                border-collapse:collapse;\n",
       "            }\n",
       "            .Relation th{\n",
       "                background: #A0A0A0; color: #ffffff; padding:4px; border:#f0e0e0 1px solid;\n",
       "                font-weight: normal; font-family: monospace; font-size: 100%;\n",
       "            }\n",
       "            .Relation td{\n",
       "                padding:4px; border:#f0e0e0 1px solid; font-size:100%;\n",
       "            }\n",
       "            .Relation tr:nth-child(odd){\n",
       "                background: #ffffff;\n",
       "            }\n",
       "            .Relation tr:nth-child(even){\n",
       "                background: #f3f1ff;\n",
       "            }\n",
       "            /* Tooltip container */\n",
       "            .djtooltip {\n",
       "            }\n",
       "            /* Tooltip text */\n",
       "            .djtooltip .djtooltiptext {\n",
       "                visibility: hidden;\n",
       "                width: 120px;\n",
       "                background-color: black;\n",
       "                color: #fff;\n",
       "                text-align: center;\n",
       "                padding: 5px 0;\n",
       "                border-radius: 6px;\n",
       "                /* Position the tooltip text - see examples below! */\n",
       "                position: absolute;\n",
       "                z-index: 1;\n",
       "            }\n",
       "            #primary {\n",
       "                font-weight: bold;\n",
       "                color: black;\n",
       "            }\n",
       "\n",
       "            #nonprimary {\n",
       "                font-weight: normal;\n",
       "                color: white;\n",
       "            }\n",
       "\n",
       "            /* Show the tooltip text when you mouse over the tooltip container */\n",
       "            .djtooltip:hover .djtooltiptext {\n",
       "                visibility: visible;\n",
       "            }\n",
       "        </style>\n",
       "        \n",
       "        <b>Experimental animals</b>\n",
       "            <div style=\"max-height:1000px;max-width:1500px;overflow:auto;\">\n",
       "            <table border=\"1\" class=\"Relation\">\n",
       "                <thead> <tr style=\"text-align: right;\"> <th> <div class=\"djtooltip\">\n",
       "                                <p id=\"primary\">mouse_id</p>\n",
       "                                <span class=\"djtooltiptext\">Unique animal ID</span>\n",
       "                            </div></th><th><div class=\"djtooltip\">\n",
       "                                <p id=\"nonprimary\">dob</p>\n",
       "                                <span class=\"djtooltiptext\">date of birth</span>\n",
       "                            </div></th><th><div class=\"djtooltip\">\n",
       "                                <p id=\"nonprimary\">sex</p>\n",
       "                                <span class=\"djtooltiptext\">sex</span>\n",
       "                            </div> </th> </tr> </thead>\n",
       "                <tbody> <tr> <td>0</td>\n",
       "<td>2017-03-01</td>\n",
       "<td>M</td></tr><tr><td>11</td>\n",
       "<td>2017-01-03</td>\n",
       "<td>F</td></tr><tr><td>100</td>\n",
       "<td>2017-05-12</td>\n",
       "<td>F</td> </tr> </tbody>\n",
       "            </table>\n",
       "            \n",
       "            <p>Total: 3</p></div>\n",
       "            "
      ],
      "text/plain": [
       "*mouse_id    dob            sex    \n",
       "+----------+ +------------+ +-----+\n",
       "0            2017-03-01     M      \n",
       "11           2017-01-03     F      \n",
       "100          2017-05-12     F      \n",
       " (Total: 3)"
      ]
     },
     "execution_count": 18,
     "metadata": {},
     "output_type": "execute_result"
    }
   ],
   "source": [
    "Mouse & 'dob > \"2017-01-01\"'"
   ]
  },
  {
   "cell_type": "markdown",
   "metadata": {},
   "source": [
    "You can easily combine multiple restrictions to narrow down the entities based on multiple attributes."
   ]
  },
  {
   "cell_type": "markdown",
   "metadata": {},
   "source": [
    "Let's find all mouse that **is not male** AND **born after 2017-01-01**."
   ]
  },
  {
   "cell_type": "code",
   "execution_count": 19,
   "metadata": {},
   "outputs": [
    {
     "data": {
      "text/html": [
       "\n",
       "        \n",
       "        <style type=\"text/css\">\n",
       "            .Relation{\n",
       "                border-collapse:collapse;\n",
       "            }\n",
       "            .Relation th{\n",
       "                background: #A0A0A0; color: #ffffff; padding:4px; border:#f0e0e0 1px solid;\n",
       "                font-weight: normal; font-family: monospace; font-size: 100%;\n",
       "            }\n",
       "            .Relation td{\n",
       "                padding:4px; border:#f0e0e0 1px solid; font-size:100%;\n",
       "            }\n",
       "            .Relation tr:nth-child(odd){\n",
       "                background: #ffffff;\n",
       "            }\n",
       "            .Relation tr:nth-child(even){\n",
       "                background: #f3f1ff;\n",
       "            }\n",
       "            /* Tooltip container */\n",
       "            .djtooltip {\n",
       "            }\n",
       "            /* Tooltip text */\n",
       "            .djtooltip .djtooltiptext {\n",
       "                visibility: hidden;\n",
       "                width: 120px;\n",
       "                background-color: black;\n",
       "                color: #fff;\n",
       "                text-align: center;\n",
       "                padding: 5px 0;\n",
       "                border-radius: 6px;\n",
       "                /* Position the tooltip text - see examples below! */\n",
       "                position: absolute;\n",
       "                z-index: 1;\n",
       "            }\n",
       "            #primary {\n",
       "                font-weight: bold;\n",
       "                color: black;\n",
       "            }\n",
       "\n",
       "            #nonprimary {\n",
       "                font-weight: normal;\n",
       "                color: white;\n",
       "            }\n",
       "\n",
       "            /* Show the tooltip text when you mouse over the tooltip container */\n",
       "            .djtooltip:hover .djtooltiptext {\n",
       "                visibility: visible;\n",
       "            }\n",
       "        </style>\n",
       "        \n",
       "        <b>Experimental animals</b>\n",
       "            <div style=\"max-height:1000px;max-width:1500px;overflow:auto;\">\n",
       "            <table border=\"1\" class=\"Relation\">\n",
       "                <thead> <tr style=\"text-align: right;\"> <th> <div class=\"djtooltip\">\n",
       "                                <p id=\"primary\">mouse_id</p>\n",
       "                                <span class=\"djtooltiptext\">Unique animal ID</span>\n",
       "                            </div></th><th><div class=\"djtooltip\">\n",
       "                                <p id=\"nonprimary\">dob</p>\n",
       "                                <span class=\"djtooltiptext\">date of birth</span>\n",
       "                            </div></th><th><div class=\"djtooltip\">\n",
       "                                <p id=\"nonprimary\">sex</p>\n",
       "                                <span class=\"djtooltiptext\">sex</span>\n",
       "                            </div> </th> </tr> </thead>\n",
       "                <tbody> <tr> <td>11</td>\n",
       "<td>2017-01-03</td>\n",
       "<td>F</td></tr><tr><td>100</td>\n",
       "<td>2017-05-12</td>\n",
       "<td>F</td> </tr> </tbody>\n",
       "            </table>\n",
       "            \n",
       "            <p>Total: 2</p></div>\n",
       "            "
      ],
      "text/plain": [
       "*mouse_id    dob            sex    \n",
       "+----------+ +------------+ +-----+\n",
       "11           2017-01-03     F      \n",
       "100          2017-05-12     F      \n",
       " (Total: 2)"
      ]
     },
     "execution_count": 19,
     "metadata": {},
     "output_type": "execute_result"
    }
   ],
   "source": [
    "Mouse & 'sex != \"M\"' & 'dob > \"2017-01-01\"'"
   ]
  },
  {
   "cell_type": "markdown",
   "metadata": {},
   "source": [
    "In fact you can **build up query** by chaining together query results"
   ]
  },
  {
   "cell_type": "code",
   "execution_count": 20,
   "metadata": {},
   "outputs": [
    {
     "data": {
      "text/html": [
       "\n",
       "        \n",
       "        <style type=\"text/css\">\n",
       "            .Relation{\n",
       "                border-collapse:collapse;\n",
       "            }\n",
       "            .Relation th{\n",
       "                background: #A0A0A0; color: #ffffff; padding:4px; border:#f0e0e0 1px solid;\n",
       "                font-weight: normal; font-family: monospace; font-size: 100%;\n",
       "            }\n",
       "            .Relation td{\n",
       "                padding:4px; border:#f0e0e0 1px solid; font-size:100%;\n",
       "            }\n",
       "            .Relation tr:nth-child(odd){\n",
       "                background: #ffffff;\n",
       "            }\n",
       "            .Relation tr:nth-child(even){\n",
       "                background: #f3f1ff;\n",
       "            }\n",
       "            /* Tooltip container */\n",
       "            .djtooltip {\n",
       "            }\n",
       "            /* Tooltip text */\n",
       "            .djtooltip .djtooltiptext {\n",
       "                visibility: hidden;\n",
       "                width: 120px;\n",
       "                background-color: black;\n",
       "                color: #fff;\n",
       "                text-align: center;\n",
       "                padding: 5px 0;\n",
       "                border-radius: 6px;\n",
       "                /* Position the tooltip text - see examples below! */\n",
       "                position: absolute;\n",
       "                z-index: 1;\n",
       "            }\n",
       "            #primary {\n",
       "                font-weight: bold;\n",
       "                color: black;\n",
       "            }\n",
       "\n",
       "            #nonprimary {\n",
       "                font-weight: normal;\n",
       "                color: white;\n",
       "            }\n",
       "\n",
       "            /* Show the tooltip text when you mouse over the tooltip container */\n",
       "            .djtooltip:hover .djtooltiptext {\n",
       "                visibility: visible;\n",
       "            }\n",
       "        </style>\n",
       "        \n",
       "        <b>Experimental animals</b>\n",
       "            <div style=\"max-height:1000px;max-width:1500px;overflow:auto;\">\n",
       "            <table border=\"1\" class=\"Relation\">\n",
       "                <thead> <tr style=\"text-align: right;\"> <th> <div class=\"djtooltip\">\n",
       "                                <p id=\"primary\">mouse_id</p>\n",
       "                                <span class=\"djtooltiptext\">Unique animal ID</span>\n",
       "                            </div></th><th><div class=\"djtooltip\">\n",
       "                                <p id=\"nonprimary\">dob</p>\n",
       "                                <span class=\"djtooltiptext\">date of birth</span>\n",
       "                            </div></th><th><div class=\"djtooltip\">\n",
       "                                <p id=\"nonprimary\">sex</p>\n",
       "                                <span class=\"djtooltiptext\">sex</span>\n",
       "                            </div> </th> </tr> </thead>\n",
       "                <tbody> <tr> <td>5</td>\n",
       "<td>2016-12-25</td>\n",
       "<td>F</td></tr><tr><td>10</td>\n",
       "<td>2017-01-01</td>\n",
       "<td>F</td></tr><tr><td>11</td>\n",
       "<td>2017-01-03</td>\n",
       "<td>F</td></tr><tr><td>100</td>\n",
       "<td>2017-05-12</td>\n",
       "<td>F</td> </tr> </tbody>\n",
       "            </table>\n",
       "            \n",
       "            <p>Total: 4</p></div>\n",
       "            "
      ],
      "text/plain": [
       "*mouse_id    dob            sex    \n",
       "+----------+ +------------+ +-----+\n",
       "5            2016-12-25     F      \n",
       "10           2017-01-01     F      \n",
       "11           2017-01-03     F      \n",
       "100          2017-05-12     F      \n",
       " (Total: 4)"
      ]
     },
     "execution_count": 20,
     "metadata": {},
     "output_type": "execute_result"
    }
   ],
   "source": [
    "female_mice = Mouse & 'sex = \"F\"'\n",
    "female_mice"
   ]
  },
  {
   "cell_type": "markdown",
   "metadata": {},
   "source": [
    "and among these mice, find ones with birthday after  \"2017-01-02\""
   ]
  },
  {
   "cell_type": "code",
   "execution_count": 21,
   "metadata": {},
   "outputs": [
    {
     "data": {
      "text/html": [
       "\n",
       "        \n",
       "        <style type=\"text/css\">\n",
       "            .Relation{\n",
       "                border-collapse:collapse;\n",
       "            }\n",
       "            .Relation th{\n",
       "                background: #A0A0A0; color: #ffffff; padding:4px; border:#f0e0e0 1px solid;\n",
       "                font-weight: normal; font-family: monospace; font-size: 100%;\n",
       "            }\n",
       "            .Relation td{\n",
       "                padding:4px; border:#f0e0e0 1px solid; font-size:100%;\n",
       "            }\n",
       "            .Relation tr:nth-child(odd){\n",
       "                background: #ffffff;\n",
       "            }\n",
       "            .Relation tr:nth-child(even){\n",
       "                background: #f3f1ff;\n",
       "            }\n",
       "            /* Tooltip container */\n",
       "            .djtooltip {\n",
       "            }\n",
       "            /* Tooltip text */\n",
       "            .djtooltip .djtooltiptext {\n",
       "                visibility: hidden;\n",
       "                width: 120px;\n",
       "                background-color: black;\n",
       "                color: #fff;\n",
       "                text-align: center;\n",
       "                padding: 5px 0;\n",
       "                border-radius: 6px;\n",
       "                /* Position the tooltip text - see examples below! */\n",
       "                position: absolute;\n",
       "                z-index: 1;\n",
       "            }\n",
       "            #primary {\n",
       "                font-weight: bold;\n",
       "                color: black;\n",
       "            }\n",
       "\n",
       "            #nonprimary {\n",
       "                font-weight: normal;\n",
       "                color: white;\n",
       "            }\n",
       "\n",
       "            /* Show the tooltip text when you mouse over the tooltip container */\n",
       "            .djtooltip:hover .djtooltiptext {\n",
       "                visibility: visible;\n",
       "            }\n",
       "        </style>\n",
       "        \n",
       "        <b>Experimental animals</b>\n",
       "            <div style=\"max-height:1000px;max-width:1500px;overflow:auto;\">\n",
       "            <table border=\"1\" class=\"Relation\">\n",
       "                <thead> <tr style=\"text-align: right;\"> <th> <div class=\"djtooltip\">\n",
       "                                <p id=\"primary\">mouse_id</p>\n",
       "                                <span class=\"djtooltiptext\">Unique animal ID</span>\n",
       "                            </div></th><th><div class=\"djtooltip\">\n",
       "                                <p id=\"nonprimary\">dob</p>\n",
       "                                <span class=\"djtooltiptext\">date of birth</span>\n",
       "                            </div></th><th><div class=\"djtooltip\">\n",
       "                                <p id=\"nonprimary\">sex</p>\n",
       "                                <span class=\"djtooltiptext\">sex</span>\n",
       "                            </div> </th> </tr> </thead>\n",
       "                <tbody> <tr> <td>11</td>\n",
       "<td>2017-01-03</td>\n",
       "<td>F</td></tr><tr><td>100</td>\n",
       "<td>2017-05-12</td>\n",
       "<td>F</td> </tr> </tbody>\n",
       "            </table>\n",
       "            \n",
       "            <p>Total: 2</p></div>\n",
       "            "
      ],
      "text/plain": [
       "*mouse_id    dob            sex    \n",
       "+----------+ +------------+ +-----+\n",
       "11           2017-01-03     F      \n",
       "100          2017-05-12     F      \n",
       " (Total: 2)"
      ]
     },
     "execution_count": 21,
     "metadata": {},
     "output_type": "execute_result"
    }
   ],
   "source": [
    "female_mice & 'dob > \"2017-01-02\"'"
   ]
  },
  {
   "cell_type": "markdown",
   "metadata": {},
   "source": [
    "## Fetch query results"
   ]
  },
  {
   "cell_type": "markdown",
   "metadata": {},
   "source": [
    "Once you have successfully narrowed down to the entities you want, you can fetch the query results just by calling fetch on it!"
   ]
  },
  {
   "cell_type": "markdown",
   "metadata": {},
   "source": [
    "All male mouse"
   ]
  },
  {
   "cell_type": "code",
   "execution_count": 22,
   "metadata": {},
   "outputs": [
    {
     "data": {
      "text/html": [
       "\n",
       "        \n",
       "        <style type=\"text/css\">\n",
       "            .Relation{\n",
       "                border-collapse:collapse;\n",
       "            }\n",
       "            .Relation th{\n",
       "                background: #A0A0A0; color: #ffffff; padding:4px; border:#f0e0e0 1px solid;\n",
       "                font-weight: normal; font-family: monospace; font-size: 100%;\n",
       "            }\n",
       "            .Relation td{\n",
       "                padding:4px; border:#f0e0e0 1px solid; font-size:100%;\n",
       "            }\n",
       "            .Relation tr:nth-child(odd){\n",
       "                background: #ffffff;\n",
       "            }\n",
       "            .Relation tr:nth-child(even){\n",
       "                background: #f3f1ff;\n",
       "            }\n",
       "            /* Tooltip container */\n",
       "            .djtooltip {\n",
       "            }\n",
       "            /* Tooltip text */\n",
       "            .djtooltip .djtooltiptext {\n",
       "                visibility: hidden;\n",
       "                width: 120px;\n",
       "                background-color: black;\n",
       "                color: #fff;\n",
       "                text-align: center;\n",
       "                padding: 5px 0;\n",
       "                border-radius: 6px;\n",
       "                /* Position the tooltip text - see examples below! */\n",
       "                position: absolute;\n",
       "                z-index: 1;\n",
       "            }\n",
       "            #primary {\n",
       "                font-weight: bold;\n",
       "                color: black;\n",
       "            }\n",
       "\n",
       "            #nonprimary {\n",
       "                font-weight: normal;\n",
       "                color: white;\n",
       "            }\n",
       "\n",
       "            /* Show the tooltip text when you mouse over the tooltip container */\n",
       "            .djtooltip:hover .djtooltiptext {\n",
       "                visibility: visible;\n",
       "            }\n",
       "        </style>\n",
       "        \n",
       "        <b>Experimental animals</b>\n",
       "            <div style=\"max-height:1000px;max-width:1500px;overflow:auto;\">\n",
       "            <table border=\"1\" class=\"Relation\">\n",
       "                <thead> <tr style=\"text-align: right;\"> <th> <div class=\"djtooltip\">\n",
       "                                <p id=\"primary\">mouse_id</p>\n",
       "                                <span class=\"djtooltiptext\">Unique animal ID</span>\n",
       "                            </div></th><th><div class=\"djtooltip\">\n",
       "                                <p id=\"nonprimary\">dob</p>\n",
       "                                <span class=\"djtooltiptext\">date of birth</span>\n",
       "                            </div></th><th><div class=\"djtooltip\">\n",
       "                                <p id=\"nonprimary\">sex</p>\n",
       "                                <span class=\"djtooltiptext\">sex</span>\n",
       "                            </div> </th> </tr> </thead>\n",
       "                <tbody> <tr> <td>0</td>\n",
       "<td>2017-03-01</td>\n",
       "<td>M</td></tr><tr><td>1</td>\n",
       "<td>2016-11-19</td>\n",
       "<td>M</td> </tr> </tbody>\n",
       "            </table>\n",
       "            \n",
       "            <p>Total: 2</p></div>\n",
       "            "
      ],
      "text/plain": [
       "*mouse_id    dob            sex    \n",
       "+----------+ +------------+ +-----+\n",
       "0            2017-03-01     M      \n",
       "1            2016-11-19     M      \n",
       " (Total: 2)"
      ]
     },
     "execution_count": 22,
     "metadata": {},
     "output_type": "execute_result"
    }
   ],
   "source": [
    "male_mouse = Mouse & 'sex = \"M\"'\n",
    "male_mouse"
   ]
  },
  {
   "cell_type": "markdown",
   "metadata": {},
   "source": [
    "Fetch it!"
   ]
  },
  {
   "cell_type": "code",
   "execution_count": 23,
   "metadata": {},
   "outputs": [
    {
     "data": {
      "text/plain": [
       "array([(0, datetime.date(2017, 3, 1), 'M'),\n",
       "       (1, datetime.date(2016, 11, 19), 'M')],\n",
       "      dtype=[('mouse_id', '<i8'), ('dob', 'O'), ('sex', 'O')])"
      ]
     },
     "execution_count": 23,
     "metadata": {},
     "output_type": "execute_result"
    }
   ],
   "source": [
    "male_mouse.fetch()"
   ]
  },
  {
   "cell_type": "markdown",
   "metadata": {},
   "source": [
    "or all in one step"
   ]
  },
  {
   "cell_type": "code",
   "execution_count": 24,
   "metadata": {},
   "outputs": [
    {
     "data": {
      "text/plain": [
       "array([(0, datetime.date(2017, 3, 1), 'M'),\n",
       "       (1, datetime.date(2016, 11, 19), 'M')],\n",
       "      dtype=[('mouse_id', '<i8'), ('dob', 'O'), ('sex', 'O')])"
      ]
     },
     "execution_count": 24,
     "metadata": {},
     "output_type": "execute_result"
    }
   ],
   "source": [
    "(Mouse & 'sex = \"M\"').fetch()"
   ]
  },
  {
   "cell_type": "markdown",
   "metadata": {},
   "source": [
    "# Building pipeline with dependencies"
   ]
  },
  {
   "cell_type": "markdown",
   "metadata": {},
   "source": [
    "Let's now take a look at representing an **experimental session**."
   ]
  },
  {
   "cell_type": "markdown",
   "metadata": {},
   "source": [
    "As with mouse, we should think about **what information (i.e. attributes) is needed to uniquely identify an experimental session**. Here is the relevant section of the project description:\n",
    "\n",
    "> * As a hard working neuroscientist, you perform experiments every day, sometimes working with **more than one mouse in a day**! However, on an any given day, **a mouse undergoes at most one recording session**.\n",
    "> * For each experimental session, you would like to record **what mouse you worked with** and **when you performed the experiment**. You would also like to keep track of other helpful information such as the **experimental setup** you worked on."
   ]
  },
  {
   "cell_type": "markdown",
   "metadata": {},
   "source": [
    "Based on the above, it appears that you need to know:\n",
    "\n",
    "* the date of the session\n",
    "* the mouse you recorded from in that session\n",
    "\n",
    "to uniquely identify a single experimental session."
   ]
  },
  {
   "cell_type": "markdown",
   "metadata": {},
   "source": [
    "Note that, to uniquely identify an experimental session (or simply a **session**), we need to know the mouse that the session was about. In other words, a session cannot existing without a corresponding mouse! \n",
    "\n",
    "With **mouse** already represented as a table in our pipeline, we say that the session **depends on** the mouse! We would graphically represent this in an **entity relationship diagram (ERD)** by drawing the line between two tables, with the one below (**session**) dependeing on the one above (**mouse**)."
   ]
  },
  {
   "cell_type": "markdown",
   "metadata": {},
   "source": [
    "![mouse_sessions](images/mouse_session.svg)"
   ]
  },
  {
   "cell_type": "markdown",
   "metadata": {},
   "source": [
    "In DataJoint, you declare that **session** depends on the mouse, and you specify any additional attribute(s) necessary to uniquely identify a session, such as the **session date**."
   ]
  },
  {
   "cell_type": "code",
   "execution_count": 33,
   "metadata": {},
   "outputs": [],
   "source": [
    "@schema\n",
    "class Session(dj.Manual):\n",
    "    definition = \"\"\"\n",
    "    # Experiment session\n",
    "    -> Mouse\n",
    "    session_date               : date                         # date\n",
    "    ---\n",
    "    experiment_setup           : int                          # experiment setup ID\n",
    "    experimenter               : varchar(100)                 # experimenter name\n",
    "    \"\"\""
   ]
  },
  {
   "cell_type": "markdown",
   "metadata": {},
   "source": [
    "You can visualize the dependencies of entities (tables) you defined so far by calling `dj.ERD` function:"
   ]
  },
  {
   "cell_type": "code",
   "execution_count": 34,
   "metadata": {},
   "outputs": [
    {
     "data": {
      "image/svg+xml": [
       "<svg height=\"114pt\" viewBox=\"0.00 0.00 68.00 114.00\" width=\"68pt\" xmlns=\"http://www.w3.org/2000/svg\" xmlns:xlink=\"http://www.w3.org/1999/xlink\">\n",
       "<g class=\"graph\" id=\"graph0\" transform=\"scale(1 1) rotate(0) translate(4 110)\">\n",
       "<title>%3</title>\n",
       "<polygon fill=\"#ffffff\" points=\"-4,4 -4,-110 64,-110 64,4 -4,4\" stroke=\"transparent\"/>\n",
       "<!-- Session -->\n",
       "<g class=\"node\" id=\"node1\">\n",
       "<title>Session</title>\n",
       "<g id=\"a_node1\"><a xlink:title=\"→ Mouse\r",
       "session_date         \r",
       "------------------------------\r",
       "experiment_setup     \r",
       "experimenter         \r",
       "\">\n",
       "<polygon fill=\"#00ff00\" fill-opacity=\"0.188235\" points=\"60,-35 0,-35 0,0 60,0 60,-35\" stroke=\"#00ff00\" stroke-opacity=\"0.188235\"/>\n",
       "<text fill=\"#006400\" font-family=\"arial\" font-size=\"12.00\" text-anchor=\"start\" text-decoration=\"underline\" x=\"8\" y=\"-15.4\">Session</text>\n",
       "</a>\n",
       "</g>\n",
       "</g>\n",
       "<!-- Mouse -->\n",
       "<g class=\"node\" id=\"node2\">\n",
       "<title>Mouse</title>\n",
       "<g id=\"a_node2\"><a xlink:title=\"mouse_id             \r",
       "------------------------------\r",
       "dob=null             \r",
       "sex=&quot;unknown&quot;        \r",
       "\">\n",
       "<polygon fill=\"#00ff00\" fill-opacity=\"0.188235\" points=\"56.5,-106 3.5,-106 3.5,-71 56.5,-71 56.5,-106\" stroke=\"#00ff00\" stroke-opacity=\"0.188235\"/>\n",
       "<text fill=\"#006400\" font-family=\"arial\" font-size=\"12.00\" text-anchor=\"start\" text-decoration=\"underline\" x=\"11.5\" y=\"-86.4\">Mouse</text>\n",
       "</a>\n",
       "</g>\n",
       "</g>\n",
       "<!-- Mouse&#45;&gt;Session -->\n",
       "<g class=\"edge\" id=\"edge1\">\n",
       "<title>Mouse-&gt;Session</title>\n",
       "<path d=\"M30,-70.9494C30,-60.1083 30,-46.2366 30,-35.3418\" fill=\"none\" stroke=\"#000000\" stroke-opacity=\"0.250980\" stroke-width=\".75\"/>\n",
       "</g>\n",
       "</g>\n",
       "</svg>"
      ],
      "text/plain": [
       "<datajoint.diagram.Diagram at 0x7f549930d898>"
      ]
     },
     "execution_count": 34,
     "metadata": {},
     "output_type": "execute_result"
    }
   ],
   "source": [
    "dj.ERD(schema)"
   ]
  },
  {
   "cell_type": "markdown",
   "metadata": {},
   "source": [
    "Below we insert a multiple sessions."
   ]
  },
  {
   "cell_type": "code",
   "execution_count": 35,
   "metadata": {},
   "outputs": [
    {
     "ename": "DuplicateError",
     "evalue": "Duplicate entry '0-2017-05-15' for key 'PRIMARY' : To ignore duplicate entries, set skip_duplicates=True in insert.",
     "output_type": "error",
     "traceback": [
      "\u001b[0;31m---------------------------------------------------------------------------\u001b[0m",
      "\u001b[0;31mDuplicateError\u001b[0m                            Traceback (most recent call last)",
      "\u001b[0;32m<ipython-input-35-bb3fb0cf0cc6>\u001b[0m in \u001b[0;36m<module>\u001b[0;34m\u001b[0m\n\u001b[1;32m      7\u001b[0m }\n\u001b[1;32m      8\u001b[0m \u001b[0;34m\u001b[0m\u001b[0m\n\u001b[0;32m----> 9\u001b[0;31m \u001b[0mSession\u001b[0m\u001b[0;34m.\u001b[0m\u001b[0minsert1\u001b[0m\u001b[0;34m(\u001b[0m\u001b[0mdata\u001b[0m\u001b[0;34m)\u001b[0m\u001b[0;34m\u001b[0m\u001b[0;34m\u001b[0m\u001b[0m\n\u001b[0m",
      "\u001b[0;32m~/.local/lib/python3.6/site-packages/datajoint/table.py\u001b[0m in \u001b[0;36minsert1\u001b[0;34m(self, row, **kwargs)\u001b[0m\n\u001b[1;32m    147\u001b[0m         \u001b[0mFor\u001b[0m \u001b[0mkwargs\u001b[0m\u001b[0;34m,\u001b[0m \u001b[0msee\u001b[0m \u001b[0minsert\u001b[0m\u001b[0;34m(\u001b[0m\u001b[0;34m)\u001b[0m\u001b[0;34m\u001b[0m\u001b[0;34m\u001b[0m\u001b[0m\n\u001b[1;32m    148\u001b[0m         \"\"\"\n\u001b[0;32m--> 149\u001b[0;31m         \u001b[0mself\u001b[0m\u001b[0;34m.\u001b[0m\u001b[0minsert\u001b[0m\u001b[0;34m(\u001b[0m\u001b[0;34m(\u001b[0m\u001b[0mrow\u001b[0m\u001b[0;34m,\u001b[0m\u001b[0;34m)\u001b[0m\u001b[0;34m,\u001b[0m \u001b[0;34m**\u001b[0m\u001b[0mkwargs\u001b[0m\u001b[0;34m)\u001b[0m\u001b[0;34m\u001b[0m\u001b[0;34m\u001b[0m\u001b[0m\n\u001b[0m\u001b[1;32m    150\u001b[0m \u001b[0;34m\u001b[0m\u001b[0m\n\u001b[1;32m    151\u001b[0m     \u001b[0;32mdef\u001b[0m \u001b[0minsert\u001b[0m\u001b[0;34m(\u001b[0m\u001b[0mself\u001b[0m\u001b[0;34m,\u001b[0m \u001b[0mrows\u001b[0m\u001b[0;34m,\u001b[0m \u001b[0mreplace\u001b[0m\u001b[0;34m=\u001b[0m\u001b[0;32mFalse\u001b[0m\u001b[0;34m,\u001b[0m \u001b[0mskip_duplicates\u001b[0m\u001b[0;34m=\u001b[0m\u001b[0;32mFalse\u001b[0m\u001b[0;34m,\u001b[0m \u001b[0mignore_extra_fields\u001b[0m\u001b[0;34m=\u001b[0m\u001b[0;32mFalse\u001b[0m\u001b[0;34m,\u001b[0m \u001b[0mallow_direct_insert\u001b[0m\u001b[0;34m=\u001b[0m\u001b[0;32mNone\u001b[0m\u001b[0;34m)\u001b[0m\u001b[0;34m:\u001b[0m\u001b[0;34m\u001b[0m\u001b[0;34m\u001b[0m\u001b[0m\n",
      "\u001b[0;32m~/.local/lib/python3.6/site-packages/datajoint/table.py\u001b[0m in \u001b[0;36minsert\u001b[0;34m(self, rows, replace, skip_duplicates, ignore_extra_fields, allow_direct_insert)\u001b[0m\n\u001b[1;32m    317\u001b[0m                     raise DuplicateError(\n\u001b[1;32m    318\u001b[0m                         \u001b[0;34m'{} : To ignore duplicate entries, set skip_duplicates=True in insert.'\u001b[0m\u001b[0;34m.\u001b[0m\u001b[0mformat\u001b[0m\u001b[0;34m(\u001b[0m\u001b[0merr\u001b[0m\u001b[0;34m.\u001b[0m\u001b[0margs\u001b[0m\u001b[0;34m[\u001b[0m\u001b[0;36m1\u001b[0m\u001b[0;34m]\u001b[0m\u001b[0;34m)\u001b[0m\u001b[0;34m\u001b[0m\u001b[0;34m\u001b[0m\u001b[0m\n\u001b[0;32m--> 319\u001b[0;31m                     ) from None\n\u001b[0m\u001b[1;32m    320\u001b[0m                 \u001b[0;32melse\u001b[0m\u001b[0;34m:\u001b[0m\u001b[0;34m\u001b[0m\u001b[0;34m\u001b[0m\u001b[0m\n\u001b[1;32m    321\u001b[0m                     \u001b[0;32mraise\u001b[0m\u001b[0;34m\u001b[0m\u001b[0;34m\u001b[0m\u001b[0m\n",
      "\u001b[0;31mDuplicateError\u001b[0m: Duplicate entry '0-2017-05-15' for key 'PRIMARY' : To ignore duplicate entries, set skip_duplicates=True in insert."
     ]
    }
   ],
   "source": [
    "# session for mouse_id=0\n",
    "data = {\n",
    "  'mouse_id': 0,\n",
    "  'session_date': '2017-05-15',\n",
    "  'experiment_setup': 0,\n",
    "  'experimenter': 'Edgar Y. Walker'\n",
    "}\n",
    "\n",
    "Session.insert1(data)"
   ]
  },
  {
   "cell_type": "code",
   "execution_count": 36,
   "metadata": {},
   "outputs": [
    {
     "ename": "DuplicateError",
     "evalue": "Duplicate entry '0-2017-05-19' for key 'PRIMARY' : To ignore duplicate entries, set skip_duplicates=True in insert.",
     "output_type": "error",
     "traceback": [
      "\u001b[0;31m---------------------------------------------------------------------------\u001b[0m",
      "\u001b[0;31mDuplicateError\u001b[0m                            Traceback (most recent call last)",
      "\u001b[0;32m<ipython-input-36-9908a5f291af>\u001b[0m in \u001b[0;36m<module>\u001b[0;34m\u001b[0m\n\u001b[1;32m      8\u001b[0m \u001b[0;34m\u001b[0m\u001b[0m\n\u001b[1;32m      9\u001b[0m \u001b[0;31m# insert them all\u001b[0m\u001b[0;34m\u001b[0m\u001b[0;34m\u001b[0m\u001b[0;34m\u001b[0m\u001b[0m\n\u001b[0;32m---> 10\u001b[0;31m \u001b[0mSession\u001b[0m\u001b[0;34m.\u001b[0m\u001b[0minsert1\u001b[0m\u001b[0;34m(\u001b[0m\u001b[0mdata\u001b[0m\u001b[0;34m)\u001b[0m\u001b[0;34m\u001b[0m\u001b[0;34m\u001b[0m\u001b[0m\n\u001b[0m",
      "\u001b[0;32m~/.local/lib/python3.6/site-packages/datajoint/table.py\u001b[0m in \u001b[0;36minsert1\u001b[0;34m(self, row, **kwargs)\u001b[0m\n\u001b[1;32m    147\u001b[0m         \u001b[0mFor\u001b[0m \u001b[0mkwargs\u001b[0m\u001b[0;34m,\u001b[0m \u001b[0msee\u001b[0m \u001b[0minsert\u001b[0m\u001b[0;34m(\u001b[0m\u001b[0;34m)\u001b[0m\u001b[0;34m\u001b[0m\u001b[0;34m\u001b[0m\u001b[0m\n\u001b[1;32m    148\u001b[0m         \"\"\"\n\u001b[0;32m--> 149\u001b[0;31m         \u001b[0mself\u001b[0m\u001b[0;34m.\u001b[0m\u001b[0minsert\u001b[0m\u001b[0;34m(\u001b[0m\u001b[0;34m(\u001b[0m\u001b[0mrow\u001b[0m\u001b[0;34m,\u001b[0m\u001b[0;34m)\u001b[0m\u001b[0;34m,\u001b[0m \u001b[0;34m**\u001b[0m\u001b[0mkwargs\u001b[0m\u001b[0;34m)\u001b[0m\u001b[0;34m\u001b[0m\u001b[0;34m\u001b[0m\u001b[0m\n\u001b[0m\u001b[1;32m    150\u001b[0m \u001b[0;34m\u001b[0m\u001b[0m\n\u001b[1;32m    151\u001b[0m     \u001b[0;32mdef\u001b[0m \u001b[0minsert\u001b[0m\u001b[0;34m(\u001b[0m\u001b[0mself\u001b[0m\u001b[0;34m,\u001b[0m \u001b[0mrows\u001b[0m\u001b[0;34m,\u001b[0m \u001b[0mreplace\u001b[0m\u001b[0;34m=\u001b[0m\u001b[0;32mFalse\u001b[0m\u001b[0;34m,\u001b[0m \u001b[0mskip_duplicates\u001b[0m\u001b[0;34m=\u001b[0m\u001b[0;32mFalse\u001b[0m\u001b[0;34m,\u001b[0m \u001b[0mignore_extra_fields\u001b[0m\u001b[0;34m=\u001b[0m\u001b[0;32mFalse\u001b[0m\u001b[0;34m,\u001b[0m \u001b[0mallow_direct_insert\u001b[0m\u001b[0;34m=\u001b[0m\u001b[0;32mNone\u001b[0m\u001b[0;34m)\u001b[0m\u001b[0;34m:\u001b[0m\u001b[0;34m\u001b[0m\u001b[0;34m\u001b[0m\u001b[0m\n",
      "\u001b[0;32m~/.local/lib/python3.6/site-packages/datajoint/table.py\u001b[0m in \u001b[0;36minsert\u001b[0;34m(self, rows, replace, skip_duplicates, ignore_extra_fields, allow_direct_insert)\u001b[0m\n\u001b[1;32m    317\u001b[0m                     raise DuplicateError(\n\u001b[1;32m    318\u001b[0m                         \u001b[0;34m'{} : To ignore duplicate entries, set skip_duplicates=True in insert.'\u001b[0m\u001b[0;34m.\u001b[0m\u001b[0mformat\u001b[0m\u001b[0;34m(\u001b[0m\u001b[0merr\u001b[0m\u001b[0;34m.\u001b[0m\u001b[0margs\u001b[0m\u001b[0;34m[\u001b[0m\u001b[0;36m1\u001b[0m\u001b[0;34m]\u001b[0m\u001b[0;34m)\u001b[0m\u001b[0;34m\u001b[0m\u001b[0;34m\u001b[0m\u001b[0m\n\u001b[0;32m--> 319\u001b[0;31m                     ) from None\n\u001b[0m\u001b[1;32m    320\u001b[0m                 \u001b[0;32melse\u001b[0m\u001b[0;34m:\u001b[0m\u001b[0;34m\u001b[0m\u001b[0;34m\u001b[0m\u001b[0m\n\u001b[1;32m    321\u001b[0m                     \u001b[0;32mraise\u001b[0m\u001b[0;34m\u001b[0m\u001b[0;34m\u001b[0m\u001b[0m\n",
      "\u001b[0;31mDuplicateError\u001b[0m: Duplicate entry '0-2017-05-19' for key 'PRIMARY' : To ignore duplicate entries, set skip_duplicates=True in insert."
     ]
    }
   ],
   "source": [
    "# another session for mouse_id=0 but on a different date\n",
    "data = {\n",
    "  'mouse_id': 0,\n",
    "  'session_date': '2017-05-19',\n",
    "  'experiment_setup': 100,\n",
    "  'experimenter': 'Jacob Reimer'\n",
    "}\n",
    "\n",
    "# insert them all\n",
    "Session.insert1(data)"
   ]
  },
  {
   "cell_type": "code",
   "execution_count": 37,
   "metadata": {},
   "outputs": [
    {
     "ename": "DuplicateError",
     "evalue": "Duplicate entry '5-2017-01-05' for key 'PRIMARY' : To ignore duplicate entries, set skip_duplicates=True in insert.",
     "output_type": "error",
     "traceback": [
      "\u001b[0;31m---------------------------------------------------------------------------\u001b[0m",
      "\u001b[0;31mDuplicateError\u001b[0m                            Traceback (most recent call last)",
      "\u001b[0;32m<ipython-input-37-8a86b8839582>\u001b[0m in \u001b[0;36m<module>\u001b[0;34m\u001b[0m\n\u001b[1;32m      8\u001b[0m \u001b[0;34m\u001b[0m\u001b[0m\n\u001b[1;32m      9\u001b[0m \u001b[0;31m# insert them all\u001b[0m\u001b[0;34m\u001b[0m\u001b[0;34m\u001b[0m\u001b[0;34m\u001b[0m\u001b[0m\n\u001b[0;32m---> 10\u001b[0;31m \u001b[0mSession\u001b[0m\u001b[0;34m.\u001b[0m\u001b[0minsert1\u001b[0m\u001b[0;34m(\u001b[0m\u001b[0mdata\u001b[0m\u001b[0;34m)\u001b[0m\u001b[0;34m\u001b[0m\u001b[0;34m\u001b[0m\u001b[0m\n\u001b[0m",
      "\u001b[0;32m~/.local/lib/python3.6/site-packages/datajoint/table.py\u001b[0m in \u001b[0;36minsert1\u001b[0;34m(self, row, **kwargs)\u001b[0m\n\u001b[1;32m    147\u001b[0m         \u001b[0mFor\u001b[0m \u001b[0mkwargs\u001b[0m\u001b[0;34m,\u001b[0m \u001b[0msee\u001b[0m \u001b[0minsert\u001b[0m\u001b[0;34m(\u001b[0m\u001b[0;34m)\u001b[0m\u001b[0;34m\u001b[0m\u001b[0;34m\u001b[0m\u001b[0m\n\u001b[1;32m    148\u001b[0m         \"\"\"\n\u001b[0;32m--> 149\u001b[0;31m         \u001b[0mself\u001b[0m\u001b[0;34m.\u001b[0m\u001b[0minsert\u001b[0m\u001b[0;34m(\u001b[0m\u001b[0;34m(\u001b[0m\u001b[0mrow\u001b[0m\u001b[0;34m,\u001b[0m\u001b[0;34m)\u001b[0m\u001b[0;34m,\u001b[0m \u001b[0;34m**\u001b[0m\u001b[0mkwargs\u001b[0m\u001b[0;34m)\u001b[0m\u001b[0;34m\u001b[0m\u001b[0;34m\u001b[0m\u001b[0m\n\u001b[0m\u001b[1;32m    150\u001b[0m \u001b[0;34m\u001b[0m\u001b[0m\n\u001b[1;32m    151\u001b[0m     \u001b[0;32mdef\u001b[0m \u001b[0minsert\u001b[0m\u001b[0;34m(\u001b[0m\u001b[0mself\u001b[0m\u001b[0;34m,\u001b[0m \u001b[0mrows\u001b[0m\u001b[0;34m,\u001b[0m \u001b[0mreplace\u001b[0m\u001b[0;34m=\u001b[0m\u001b[0;32mFalse\u001b[0m\u001b[0;34m,\u001b[0m \u001b[0mskip_duplicates\u001b[0m\u001b[0;34m=\u001b[0m\u001b[0;32mFalse\u001b[0m\u001b[0;34m,\u001b[0m \u001b[0mignore_extra_fields\u001b[0m\u001b[0;34m=\u001b[0m\u001b[0;32mFalse\u001b[0m\u001b[0;34m,\u001b[0m \u001b[0mallow_direct_insert\u001b[0m\u001b[0;34m=\u001b[0m\u001b[0;32mNone\u001b[0m\u001b[0;34m)\u001b[0m\u001b[0;34m:\u001b[0m\u001b[0;34m\u001b[0m\u001b[0;34m\u001b[0m\u001b[0m\n",
      "\u001b[0;32m~/.local/lib/python3.6/site-packages/datajoint/table.py\u001b[0m in \u001b[0;36minsert\u001b[0;34m(self, rows, replace, skip_duplicates, ignore_extra_fields, allow_direct_insert)\u001b[0m\n\u001b[1;32m    317\u001b[0m                     raise DuplicateError(\n\u001b[1;32m    318\u001b[0m                         \u001b[0;34m'{} : To ignore duplicate entries, set skip_duplicates=True in insert.'\u001b[0m\u001b[0;34m.\u001b[0m\u001b[0mformat\u001b[0m\u001b[0;34m(\u001b[0m\u001b[0merr\u001b[0m\u001b[0;34m.\u001b[0m\u001b[0margs\u001b[0m\u001b[0;34m[\u001b[0m\u001b[0;36m1\u001b[0m\u001b[0;34m]\u001b[0m\u001b[0;34m)\u001b[0m\u001b[0;34m\u001b[0m\u001b[0;34m\u001b[0m\u001b[0m\n\u001b[0;32m--> 319\u001b[0;31m                     ) from None\n\u001b[0m\u001b[1;32m    320\u001b[0m                 \u001b[0;32melse\u001b[0m\u001b[0;34m:\u001b[0m\u001b[0;34m\u001b[0m\u001b[0;34m\u001b[0m\u001b[0m\n\u001b[1;32m    321\u001b[0m                     \u001b[0;32mraise\u001b[0m\u001b[0;34m\u001b[0m\u001b[0;34m\u001b[0m\u001b[0m\n",
      "\u001b[0;31mDuplicateError\u001b[0m: Duplicate entry '5-2017-01-05' for key 'PRIMARY' : To ignore duplicate entries, set skip_duplicates=True in insert."
     ]
    }
   ],
   "source": [
    "# another session done on a different mouse\n",
    "data = {\n",
    "  'mouse_id': 5,\n",
    "  'session_date': '2017-01-05',\n",
    "  'experiment_setup': 101,\n",
    "  'experimenter': 'Jacob Reimer'\n",
    "}\n",
    "\n",
    "# insert them all\n",
    "Session.insert1(data)"
   ]
  },
  {
   "cell_type": "code",
   "execution_count": 38,
   "metadata": {},
   "outputs": [
    {
     "data": {
      "text/html": [
       "\n",
       "        \n",
       "        <style type=\"text/css\">\n",
       "            .Relation{\n",
       "                border-collapse:collapse;\n",
       "            }\n",
       "            .Relation th{\n",
       "                background: #A0A0A0; color: #ffffff; padding:4px; border:#f0e0e0 1px solid;\n",
       "                font-weight: normal; font-family: monospace; font-size: 100%;\n",
       "            }\n",
       "            .Relation td{\n",
       "                padding:4px; border:#f0e0e0 1px solid; font-size:100%;\n",
       "            }\n",
       "            .Relation tr:nth-child(odd){\n",
       "                background: #ffffff;\n",
       "            }\n",
       "            .Relation tr:nth-child(even){\n",
       "                background: #f3f1ff;\n",
       "            }\n",
       "            /* Tooltip container */\n",
       "            .djtooltip {\n",
       "            }\n",
       "            /* Tooltip text */\n",
       "            .djtooltip .djtooltiptext {\n",
       "                visibility: hidden;\n",
       "                width: 120px;\n",
       "                background-color: black;\n",
       "                color: #fff;\n",
       "                text-align: center;\n",
       "                padding: 5px 0;\n",
       "                border-radius: 6px;\n",
       "                /* Position the tooltip text - see examples below! */\n",
       "                position: absolute;\n",
       "                z-index: 1;\n",
       "            }\n",
       "            #primary {\n",
       "                font-weight: bold;\n",
       "                color: black;\n",
       "            }\n",
       "\n",
       "            #nonprimary {\n",
       "                font-weight: normal;\n",
       "                color: white;\n",
       "            }\n",
       "\n",
       "            /* Show the tooltip text when you mouse over the tooltip container */\n",
       "            .djtooltip:hover .djtooltiptext {\n",
       "                visibility: visible;\n",
       "            }\n",
       "        </style>\n",
       "        \n",
       "        <b>Experiment session</b>\n",
       "            <div style=\"max-height:1000px;max-width:1500px;overflow:auto;\">\n",
       "            <table border=\"1\" class=\"Relation\">\n",
       "                <thead> <tr style=\"text-align: right;\"> <th> <div class=\"djtooltip\">\n",
       "                                <p id=\"primary\">mouse_id</p>\n",
       "                                <span class=\"djtooltiptext\">Unique animal ID</span>\n",
       "                            </div></th><th><div class=\"djtooltip\">\n",
       "                                <p id=\"primary\">session_date</p>\n",
       "                                <span class=\"djtooltiptext\">date</span>\n",
       "                            </div></th><th><div class=\"djtooltip\">\n",
       "                                <p id=\"nonprimary\">experiment_setup</p>\n",
       "                                <span class=\"djtooltiptext\">experiment setup ID</span>\n",
       "                            </div></th><th><div class=\"djtooltip\">\n",
       "                                <p id=\"nonprimary\">experimenter</p>\n",
       "                                <span class=\"djtooltiptext\">experimenter name</span>\n",
       "                            </div> </th> </tr> </thead>\n",
       "                <tbody> <tr> <td>0</td>\n",
       "<td>2017-05-15</td>\n",
       "<td>0</td>\n",
       "<td>Edgar Y. Walker</td></tr><tr><td>0</td>\n",
       "<td>2017-05-19</td>\n",
       "<td>100</td>\n",
       "<td>Jacob Reimer</td></tr><tr><td>5</td>\n",
       "<td>2017-01-05</td>\n",
       "<td>101</td>\n",
       "<td>Jacob Reimer</td> </tr> </tbody>\n",
       "            </table>\n",
       "            \n",
       "            <p>Total: 3</p></div>\n",
       "            "
      ],
      "text/plain": [
       "*mouse_id    *session_date  experiment_set experimenter  \n",
       "+----------+ +------------+ +------------+ +------------+\n",
       "0            2017-05-15     0              Edgar Y. Walke\n",
       "0            2017-05-19     100            Jacob Reimer  \n",
       "5            2017-01-05     101            Jacob Reimer  \n",
       " (Total: 3)"
      ]
     },
     "execution_count": 38,
     "metadata": {},
     "output_type": "execute_result"
    }
   ],
   "source": [
    "Session()"
   ]
  },
  {
   "cell_type": "markdown",
   "metadata": {},
   "source": [
    "Trying to add information (e.g. a session) for a mouse that doesn't exist will trigger an error!"
   ]
  },
  {
   "cell_type": "code",
   "execution_count": 31,
   "metadata": {},
   "outputs": [],
   "source": [
    "bad_data = {\n",
    "    'mouse_id': 9999,  # this mouse doesn't exist!\n",
    "    'session_date': '2017-05-15',\n",
    "    'experiment_setup': 0,\n",
    "    'experimenter': 'Edgar Y. Walker'\n",
    "}"
   ]
  },
  {
   "cell_type": "code",
   "execution_count": 32,
   "metadata": {
    "scrolled": true
   },
   "outputs": [
    {
     "ename": "IntegrityError",
     "evalue": "(1452, 'Cannot add or update a child row: a foreign key constraint fails (`pipeline`.`session`, CONSTRAINT `session_ibfk_1` FOREIGN KEY (`mouse_id`) REFERENCES `mouse` (`mouse_id`) ON UPDATE CASCADE)')",
     "output_type": "error",
     "traceback": [
      "\u001b[0;31m---------------------------------------------------------------------------\u001b[0m",
      "\u001b[0;31mIntegrityError\u001b[0m                            Traceback (most recent call last)",
      "\u001b[0;32m<ipython-input-32-7b1482a07dfd>\u001b[0m in \u001b[0;36m<module>\u001b[0;34m\u001b[0m\n\u001b[0;32m----> 1\u001b[0;31m \u001b[0mSession\u001b[0m\u001b[0;34m.\u001b[0m\u001b[0minsert1\u001b[0m\u001b[0;34m(\u001b[0m\u001b[0mbad_data\u001b[0m\u001b[0;34m)\u001b[0m\u001b[0;34m\u001b[0m\u001b[0;34m\u001b[0m\u001b[0m\n\u001b[0m",
      "\u001b[0;32m~/.local/lib/python3.6/site-packages/datajoint/table.py\u001b[0m in \u001b[0;36minsert1\u001b[0;34m(self, row, **kwargs)\u001b[0m\n\u001b[1;32m    147\u001b[0m         \u001b[0mFor\u001b[0m \u001b[0mkwargs\u001b[0m\u001b[0;34m,\u001b[0m \u001b[0msee\u001b[0m \u001b[0minsert\u001b[0m\u001b[0;34m(\u001b[0m\u001b[0;34m)\u001b[0m\u001b[0;34m\u001b[0m\u001b[0;34m\u001b[0m\u001b[0m\n\u001b[1;32m    148\u001b[0m         \"\"\"\n\u001b[0;32m--> 149\u001b[0;31m         \u001b[0mself\u001b[0m\u001b[0;34m.\u001b[0m\u001b[0minsert\u001b[0m\u001b[0;34m(\u001b[0m\u001b[0;34m(\u001b[0m\u001b[0mrow\u001b[0m\u001b[0;34m,\u001b[0m\u001b[0;34m)\u001b[0m\u001b[0;34m,\u001b[0m \u001b[0;34m**\u001b[0m\u001b[0mkwargs\u001b[0m\u001b[0;34m)\u001b[0m\u001b[0;34m\u001b[0m\u001b[0;34m\u001b[0m\u001b[0m\n\u001b[0m\u001b[1;32m    150\u001b[0m \u001b[0;34m\u001b[0m\u001b[0m\n\u001b[1;32m    151\u001b[0m     \u001b[0;32mdef\u001b[0m \u001b[0minsert\u001b[0m\u001b[0;34m(\u001b[0m\u001b[0mself\u001b[0m\u001b[0;34m,\u001b[0m \u001b[0mrows\u001b[0m\u001b[0;34m,\u001b[0m \u001b[0mreplace\u001b[0m\u001b[0;34m=\u001b[0m\u001b[0;32mFalse\u001b[0m\u001b[0;34m,\u001b[0m \u001b[0mskip_duplicates\u001b[0m\u001b[0;34m=\u001b[0m\u001b[0;32mFalse\u001b[0m\u001b[0;34m,\u001b[0m \u001b[0mignore_extra_fields\u001b[0m\u001b[0;34m=\u001b[0m\u001b[0;32mFalse\u001b[0m\u001b[0;34m,\u001b[0m \u001b[0mallow_direct_insert\u001b[0m\u001b[0;34m=\u001b[0m\u001b[0;32mNone\u001b[0m\u001b[0;34m)\u001b[0m\u001b[0;34m:\u001b[0m\u001b[0;34m\u001b[0m\u001b[0;34m\u001b[0m\u001b[0m\n",
      "\u001b[0;32m~/.local/lib/python3.6/site-packages/datajoint/table.py\u001b[0m in \u001b[0;36minsert\u001b[0;34m(self, rows, replace, skip_duplicates, ignore_extra_fields, allow_direct_insert)\u001b[0m\n\u001b[1;32m    305\u001b[0m                                if skip_duplicates else ''))\n\u001b[1;32m    306\u001b[0m                 self.connection.query(query, args=list(\n\u001b[0;32m--> 307\u001b[0;31m                     itertools.chain.from_iterable((v for v in r['values'] if v is not None) for r in rows)))\n\u001b[0m\u001b[1;32m    308\u001b[0m             \u001b[0;32mexcept\u001b[0m \u001b[0;34m(\u001b[0m\u001b[0mOperationalError\u001b[0m\u001b[0;34m,\u001b[0m \u001b[0mInternalError\u001b[0m\u001b[0;34m,\u001b[0m \u001b[0mIntegrityError\u001b[0m\u001b[0;34m)\u001b[0m \u001b[0;32mas\u001b[0m \u001b[0merr\u001b[0m\u001b[0;34m:\u001b[0m\u001b[0;34m\u001b[0m\u001b[0;34m\u001b[0m\u001b[0m\n\u001b[1;32m    309\u001b[0m                 \u001b[0;32mif\u001b[0m \u001b[0merr\u001b[0m\u001b[0;34m.\u001b[0m\u001b[0margs\u001b[0m\u001b[0;34m[\u001b[0m\u001b[0;36m0\u001b[0m\u001b[0;34m]\u001b[0m \u001b[0;34m==\u001b[0m \u001b[0mserver_error_codes\u001b[0m\u001b[0;34m[\u001b[0m\u001b[0;34m'command denied'\u001b[0m\u001b[0;34m]\u001b[0m\u001b[0;34m:\u001b[0m\u001b[0;34m\u001b[0m\u001b[0;34m\u001b[0m\u001b[0m\n",
      "\u001b[0;32m~/.local/lib/python3.6/site-packages/datajoint/connection.py\u001b[0m in \u001b[0;36mquery\u001b[0;34m(self, query, args, as_dict, suppress_warnings, reconnect)\u001b[0m\n\u001b[1;32m    146\u001b[0m                     \u001b[0;31m# suppress all warnings arising from underlying SQL library\u001b[0m\u001b[0;34m\u001b[0m\u001b[0;34m\u001b[0m\u001b[0;34m\u001b[0m\u001b[0m\n\u001b[1;32m    147\u001b[0m                     \u001b[0mwarnings\u001b[0m\u001b[0;34m.\u001b[0m\u001b[0msimplefilter\u001b[0m\u001b[0;34m(\u001b[0m\u001b[0;34m\"ignore\"\u001b[0m\u001b[0;34m)\u001b[0m\u001b[0;34m\u001b[0m\u001b[0;34m\u001b[0m\u001b[0m\n\u001b[0;32m--> 148\u001b[0;31m                 \u001b[0mcur\u001b[0m\u001b[0;34m.\u001b[0m\u001b[0mexecute\u001b[0m\u001b[0;34m(\u001b[0m\u001b[0mquery\u001b[0m\u001b[0;34m,\u001b[0m \u001b[0margs\u001b[0m\u001b[0;34m)\u001b[0m\u001b[0;34m\u001b[0m\u001b[0;34m\u001b[0m\u001b[0m\n\u001b[0m\u001b[1;32m    149\u001b[0m         \u001b[0;32mexcept\u001b[0m \u001b[0;34m(\u001b[0m\u001b[0merr\u001b[0m\u001b[0;34m.\u001b[0m\u001b[0mInterfaceError\u001b[0m\u001b[0;34m,\u001b[0m \u001b[0merr\u001b[0m\u001b[0;34m.\u001b[0m\u001b[0mOperationalError\u001b[0m\u001b[0;34m)\u001b[0m \u001b[0;32mas\u001b[0m \u001b[0me\u001b[0m\u001b[0;34m:\u001b[0m\u001b[0;34m\u001b[0m\u001b[0;34m\u001b[0m\u001b[0m\n\u001b[1;32m    150\u001b[0m             \u001b[0;32mif\u001b[0m \u001b[0mis_connection_error\u001b[0m\u001b[0;34m(\u001b[0m\u001b[0me\u001b[0m\u001b[0;34m)\u001b[0m \u001b[0;32mand\u001b[0m \u001b[0mreconnect\u001b[0m\u001b[0;34m:\u001b[0m\u001b[0;34m\u001b[0m\u001b[0;34m\u001b[0m\u001b[0m\n",
      "\u001b[0;32m/usr/local/lib/python3.6/dist-packages/pymysql/cursors.py\u001b[0m in \u001b[0;36mexecute\u001b[0;34m(self, query, args)\u001b[0m\n\u001b[1;32m    168\u001b[0m         \u001b[0mquery\u001b[0m \u001b[0;34m=\u001b[0m \u001b[0mself\u001b[0m\u001b[0;34m.\u001b[0m\u001b[0mmogrify\u001b[0m\u001b[0;34m(\u001b[0m\u001b[0mquery\u001b[0m\u001b[0;34m,\u001b[0m \u001b[0margs\u001b[0m\u001b[0;34m)\u001b[0m\u001b[0;34m\u001b[0m\u001b[0;34m\u001b[0m\u001b[0m\n\u001b[1;32m    169\u001b[0m \u001b[0;34m\u001b[0m\u001b[0m\n\u001b[0;32m--> 170\u001b[0;31m         \u001b[0mresult\u001b[0m \u001b[0;34m=\u001b[0m \u001b[0mself\u001b[0m\u001b[0;34m.\u001b[0m\u001b[0m_query\u001b[0m\u001b[0;34m(\u001b[0m\u001b[0mquery\u001b[0m\u001b[0;34m)\u001b[0m\u001b[0;34m\u001b[0m\u001b[0;34m\u001b[0m\u001b[0m\n\u001b[0m\u001b[1;32m    171\u001b[0m         \u001b[0mself\u001b[0m\u001b[0;34m.\u001b[0m\u001b[0m_executed\u001b[0m \u001b[0;34m=\u001b[0m \u001b[0mquery\u001b[0m\u001b[0;34m\u001b[0m\u001b[0;34m\u001b[0m\u001b[0m\n\u001b[1;32m    172\u001b[0m         \u001b[0;32mreturn\u001b[0m \u001b[0mresult\u001b[0m\u001b[0;34m\u001b[0m\u001b[0;34m\u001b[0m\u001b[0m\n",
      "\u001b[0;32m/usr/local/lib/python3.6/dist-packages/pymysql/cursors.py\u001b[0m in \u001b[0;36m_query\u001b[0;34m(self, q)\u001b[0m\n\u001b[1;32m    326\u001b[0m         \u001b[0mself\u001b[0m\u001b[0;34m.\u001b[0m\u001b[0m_last_executed\u001b[0m \u001b[0;34m=\u001b[0m \u001b[0mq\u001b[0m\u001b[0;34m\u001b[0m\u001b[0;34m\u001b[0m\u001b[0m\n\u001b[1;32m    327\u001b[0m         \u001b[0mself\u001b[0m\u001b[0;34m.\u001b[0m\u001b[0m_clear_result\u001b[0m\u001b[0;34m(\u001b[0m\u001b[0;34m)\u001b[0m\u001b[0;34m\u001b[0m\u001b[0;34m\u001b[0m\u001b[0m\n\u001b[0;32m--> 328\u001b[0;31m         \u001b[0mconn\u001b[0m\u001b[0;34m.\u001b[0m\u001b[0mquery\u001b[0m\u001b[0;34m(\u001b[0m\u001b[0mq\u001b[0m\u001b[0;34m)\u001b[0m\u001b[0;34m\u001b[0m\u001b[0;34m\u001b[0m\u001b[0m\n\u001b[0m\u001b[1;32m    329\u001b[0m         \u001b[0mself\u001b[0m\u001b[0;34m.\u001b[0m\u001b[0m_do_get_result\u001b[0m\u001b[0;34m(\u001b[0m\u001b[0;34m)\u001b[0m\u001b[0;34m\u001b[0m\u001b[0;34m\u001b[0m\u001b[0m\n\u001b[1;32m    330\u001b[0m         \u001b[0;32mreturn\u001b[0m \u001b[0mself\u001b[0m\u001b[0;34m.\u001b[0m\u001b[0mrowcount\u001b[0m\u001b[0;34m\u001b[0m\u001b[0;34m\u001b[0m\u001b[0m\n",
      "\u001b[0;32m/usr/local/lib/python3.6/dist-packages/pymysql/connections.py\u001b[0m in \u001b[0;36mquery\u001b[0;34m(self, sql, unbuffered)\u001b[0m\n\u001b[1;32m    515\u001b[0m                 \u001b[0msql\u001b[0m \u001b[0;34m=\u001b[0m \u001b[0msql\u001b[0m\u001b[0;34m.\u001b[0m\u001b[0mencode\u001b[0m\u001b[0;34m(\u001b[0m\u001b[0mself\u001b[0m\u001b[0;34m.\u001b[0m\u001b[0mencoding\u001b[0m\u001b[0;34m,\u001b[0m \u001b[0;34m'surrogateescape'\u001b[0m\u001b[0;34m)\u001b[0m\u001b[0;34m\u001b[0m\u001b[0;34m\u001b[0m\u001b[0m\n\u001b[1;32m    516\u001b[0m         \u001b[0mself\u001b[0m\u001b[0;34m.\u001b[0m\u001b[0m_execute_command\u001b[0m\u001b[0;34m(\u001b[0m\u001b[0mCOMMAND\u001b[0m\u001b[0;34m.\u001b[0m\u001b[0mCOM_QUERY\u001b[0m\u001b[0;34m,\u001b[0m \u001b[0msql\u001b[0m\u001b[0;34m)\u001b[0m\u001b[0;34m\u001b[0m\u001b[0;34m\u001b[0m\u001b[0m\n\u001b[0;32m--> 517\u001b[0;31m         \u001b[0mself\u001b[0m\u001b[0;34m.\u001b[0m\u001b[0m_affected_rows\u001b[0m \u001b[0;34m=\u001b[0m \u001b[0mself\u001b[0m\u001b[0;34m.\u001b[0m\u001b[0m_read_query_result\u001b[0m\u001b[0;34m(\u001b[0m\u001b[0munbuffered\u001b[0m\u001b[0;34m=\u001b[0m\u001b[0munbuffered\u001b[0m\u001b[0;34m)\u001b[0m\u001b[0;34m\u001b[0m\u001b[0;34m\u001b[0m\u001b[0m\n\u001b[0m\u001b[1;32m    518\u001b[0m         \u001b[0;32mreturn\u001b[0m \u001b[0mself\u001b[0m\u001b[0;34m.\u001b[0m\u001b[0m_affected_rows\u001b[0m\u001b[0;34m\u001b[0m\u001b[0;34m\u001b[0m\u001b[0m\n\u001b[1;32m    519\u001b[0m \u001b[0;34m\u001b[0m\u001b[0m\n",
      "\u001b[0;32m/usr/local/lib/python3.6/dist-packages/pymysql/connections.py\u001b[0m in \u001b[0;36m_read_query_result\u001b[0;34m(self, unbuffered)\u001b[0m\n\u001b[1;32m    730\u001b[0m         \u001b[0;32melse\u001b[0m\u001b[0;34m:\u001b[0m\u001b[0;34m\u001b[0m\u001b[0;34m\u001b[0m\u001b[0m\n\u001b[1;32m    731\u001b[0m             \u001b[0mresult\u001b[0m \u001b[0;34m=\u001b[0m \u001b[0mMySQLResult\u001b[0m\u001b[0;34m(\u001b[0m\u001b[0mself\u001b[0m\u001b[0;34m)\u001b[0m\u001b[0;34m\u001b[0m\u001b[0;34m\u001b[0m\u001b[0m\n\u001b[0;32m--> 732\u001b[0;31m             \u001b[0mresult\u001b[0m\u001b[0;34m.\u001b[0m\u001b[0mread\u001b[0m\u001b[0;34m(\u001b[0m\u001b[0;34m)\u001b[0m\u001b[0;34m\u001b[0m\u001b[0;34m\u001b[0m\u001b[0m\n\u001b[0m\u001b[1;32m    733\u001b[0m         \u001b[0mself\u001b[0m\u001b[0;34m.\u001b[0m\u001b[0m_result\u001b[0m \u001b[0;34m=\u001b[0m \u001b[0mresult\u001b[0m\u001b[0;34m\u001b[0m\u001b[0;34m\u001b[0m\u001b[0m\n\u001b[1;32m    734\u001b[0m         \u001b[0;32mif\u001b[0m \u001b[0mresult\u001b[0m\u001b[0;34m.\u001b[0m\u001b[0mserver_status\u001b[0m \u001b[0;32mis\u001b[0m \u001b[0;32mnot\u001b[0m \u001b[0;32mNone\u001b[0m\u001b[0;34m:\u001b[0m\u001b[0;34m\u001b[0m\u001b[0;34m\u001b[0m\u001b[0m\n",
      "\u001b[0;32m/usr/local/lib/python3.6/dist-packages/pymysql/connections.py\u001b[0m in \u001b[0;36mread\u001b[0;34m(self)\u001b[0m\n\u001b[1;32m   1073\u001b[0m     \u001b[0;32mdef\u001b[0m \u001b[0mread\u001b[0m\u001b[0;34m(\u001b[0m\u001b[0mself\u001b[0m\u001b[0;34m)\u001b[0m\u001b[0;34m:\u001b[0m\u001b[0;34m\u001b[0m\u001b[0;34m\u001b[0m\u001b[0m\n\u001b[1;32m   1074\u001b[0m         \u001b[0;32mtry\u001b[0m\u001b[0;34m:\u001b[0m\u001b[0;34m\u001b[0m\u001b[0;34m\u001b[0m\u001b[0m\n\u001b[0;32m-> 1075\u001b[0;31m             \u001b[0mfirst_packet\u001b[0m \u001b[0;34m=\u001b[0m \u001b[0mself\u001b[0m\u001b[0;34m.\u001b[0m\u001b[0mconnection\u001b[0m\u001b[0;34m.\u001b[0m\u001b[0m_read_packet\u001b[0m\u001b[0;34m(\u001b[0m\u001b[0;34m)\u001b[0m\u001b[0;34m\u001b[0m\u001b[0;34m\u001b[0m\u001b[0m\n\u001b[0m\u001b[1;32m   1076\u001b[0m \u001b[0;34m\u001b[0m\u001b[0m\n\u001b[1;32m   1077\u001b[0m             \u001b[0;32mif\u001b[0m \u001b[0mfirst_packet\u001b[0m\u001b[0;34m.\u001b[0m\u001b[0mis_ok_packet\u001b[0m\u001b[0;34m(\u001b[0m\u001b[0;34m)\u001b[0m\u001b[0;34m:\u001b[0m\u001b[0;34m\u001b[0m\u001b[0;34m\u001b[0m\u001b[0m\n",
      "\u001b[0;32m/usr/local/lib/python3.6/dist-packages/pymysql/connections.py\u001b[0m in \u001b[0;36m_read_packet\u001b[0;34m(self, packet_type)\u001b[0m\n\u001b[1;32m    682\u001b[0m \u001b[0;34m\u001b[0m\u001b[0m\n\u001b[1;32m    683\u001b[0m         \u001b[0mpacket\u001b[0m \u001b[0;34m=\u001b[0m \u001b[0mpacket_type\u001b[0m\u001b[0;34m(\u001b[0m\u001b[0mbuff\u001b[0m\u001b[0;34m,\u001b[0m \u001b[0mself\u001b[0m\u001b[0;34m.\u001b[0m\u001b[0mencoding\u001b[0m\u001b[0;34m)\u001b[0m\u001b[0;34m\u001b[0m\u001b[0;34m\u001b[0m\u001b[0m\n\u001b[0;32m--> 684\u001b[0;31m         \u001b[0mpacket\u001b[0m\u001b[0;34m.\u001b[0m\u001b[0mcheck_error\u001b[0m\u001b[0;34m(\u001b[0m\u001b[0;34m)\u001b[0m\u001b[0;34m\u001b[0m\u001b[0;34m\u001b[0m\u001b[0m\n\u001b[0m\u001b[1;32m    685\u001b[0m         \u001b[0;32mreturn\u001b[0m \u001b[0mpacket\u001b[0m\u001b[0;34m\u001b[0m\u001b[0;34m\u001b[0m\u001b[0m\n\u001b[1;32m    686\u001b[0m \u001b[0;34m\u001b[0m\u001b[0m\n",
      "\u001b[0;32m/usr/local/lib/python3.6/dist-packages/pymysql/protocol.py\u001b[0m in \u001b[0;36mcheck_error\u001b[0;34m(self)\u001b[0m\n\u001b[1;32m    218\u001b[0m             \u001b[0merrno\u001b[0m \u001b[0;34m=\u001b[0m \u001b[0mself\u001b[0m\u001b[0;34m.\u001b[0m\u001b[0mread_uint16\u001b[0m\u001b[0;34m(\u001b[0m\u001b[0;34m)\u001b[0m\u001b[0;34m\u001b[0m\u001b[0;34m\u001b[0m\u001b[0m\n\u001b[1;32m    219\u001b[0m             \u001b[0;32mif\u001b[0m \u001b[0mDEBUG\u001b[0m\u001b[0;34m:\u001b[0m \u001b[0mprint\u001b[0m\u001b[0;34m(\u001b[0m\u001b[0;34m\"errno =\"\u001b[0m\u001b[0;34m,\u001b[0m \u001b[0merrno\u001b[0m\u001b[0;34m)\u001b[0m\u001b[0;34m\u001b[0m\u001b[0;34m\u001b[0m\u001b[0m\n\u001b[0;32m--> 220\u001b[0;31m             \u001b[0merr\u001b[0m\u001b[0;34m.\u001b[0m\u001b[0mraise_mysql_exception\u001b[0m\u001b[0;34m(\u001b[0m\u001b[0mself\u001b[0m\u001b[0;34m.\u001b[0m\u001b[0m_data\u001b[0m\u001b[0;34m)\u001b[0m\u001b[0;34m\u001b[0m\u001b[0;34m\u001b[0m\u001b[0m\n\u001b[0m\u001b[1;32m    221\u001b[0m \u001b[0;34m\u001b[0m\u001b[0m\n\u001b[1;32m    222\u001b[0m     \u001b[0;32mdef\u001b[0m \u001b[0mdump\u001b[0m\u001b[0;34m(\u001b[0m\u001b[0mself\u001b[0m\u001b[0;34m)\u001b[0m\u001b[0;34m:\u001b[0m\u001b[0;34m\u001b[0m\u001b[0;34m\u001b[0m\u001b[0m\n",
      "\u001b[0;32m/usr/local/lib/python3.6/dist-packages/pymysql/err.py\u001b[0m in \u001b[0;36mraise_mysql_exception\u001b[0;34m(data)\u001b[0m\n\u001b[1;32m    107\u001b[0m         \u001b[0merrval\u001b[0m \u001b[0;34m=\u001b[0m \u001b[0mdata\u001b[0m\u001b[0;34m[\u001b[0m\u001b[0;36m3\u001b[0m\u001b[0;34m:\u001b[0m\u001b[0;34m]\u001b[0m\u001b[0;34m.\u001b[0m\u001b[0mdecode\u001b[0m\u001b[0;34m(\u001b[0m\u001b[0;34m'utf-8'\u001b[0m\u001b[0;34m,\u001b[0m \u001b[0;34m'replace'\u001b[0m\u001b[0;34m)\u001b[0m\u001b[0;34m\u001b[0m\u001b[0;34m\u001b[0m\u001b[0m\n\u001b[1;32m    108\u001b[0m     \u001b[0merrorclass\u001b[0m \u001b[0;34m=\u001b[0m \u001b[0merror_map\u001b[0m\u001b[0;34m.\u001b[0m\u001b[0mget\u001b[0m\u001b[0;34m(\u001b[0m\u001b[0merrno\u001b[0m\u001b[0;34m,\u001b[0m \u001b[0mInternalError\u001b[0m\u001b[0;34m)\u001b[0m\u001b[0;34m\u001b[0m\u001b[0;34m\u001b[0m\u001b[0m\n\u001b[0;32m--> 109\u001b[0;31m     \u001b[0;32mraise\u001b[0m \u001b[0merrorclass\u001b[0m\u001b[0;34m(\u001b[0m\u001b[0merrno\u001b[0m\u001b[0;34m,\u001b[0m \u001b[0merrval\u001b[0m\u001b[0;34m)\u001b[0m\u001b[0;34m\u001b[0m\u001b[0;34m\u001b[0m\u001b[0m\n\u001b[0m",
      "\u001b[0;31mIntegrityError\u001b[0m: (1452, 'Cannot add or update a child row: a foreign key constraint fails (`pipeline`.`session`, CONSTRAINT `session_ibfk_1` FOREIGN KEY (`mouse_id`) REFERENCES `mouse` (`mouse_id`) ON UPDATE CASCADE)')"
     ]
    }
   ],
   "source": [
    "Session.insert1(bad_data)"
   ]
  },
  {
   "cell_type": "markdown",
   "metadata": {},
   "source": [
    "# Querying with multiple tables"
   ]
  },
  {
   "cell_type": "markdown",
   "metadata": {},
   "source": [
    "Now we have two tables, we can perform more exciting queries!"
   ]
  },
  {
   "cell_type": "markdown",
   "metadata": {},
   "source": [
    "All mouse that has a session"
   ]
  },
  {
   "cell_type": "code",
   "execution_count": 39,
   "metadata": {},
   "outputs": [
    {
     "data": {
      "text/html": [
       "\n",
       "        \n",
       "        <style type=\"text/css\">\n",
       "            .Relation{\n",
       "                border-collapse:collapse;\n",
       "            }\n",
       "            .Relation th{\n",
       "                background: #A0A0A0; color: #ffffff; padding:4px; border:#f0e0e0 1px solid;\n",
       "                font-weight: normal; font-family: monospace; font-size: 100%;\n",
       "            }\n",
       "            .Relation td{\n",
       "                padding:4px; border:#f0e0e0 1px solid; font-size:100%;\n",
       "            }\n",
       "            .Relation tr:nth-child(odd){\n",
       "                background: #ffffff;\n",
       "            }\n",
       "            .Relation tr:nth-child(even){\n",
       "                background: #f3f1ff;\n",
       "            }\n",
       "            /* Tooltip container */\n",
       "            .djtooltip {\n",
       "            }\n",
       "            /* Tooltip text */\n",
       "            .djtooltip .djtooltiptext {\n",
       "                visibility: hidden;\n",
       "                width: 120px;\n",
       "                background-color: black;\n",
       "                color: #fff;\n",
       "                text-align: center;\n",
       "                padding: 5px 0;\n",
       "                border-radius: 6px;\n",
       "                /* Position the tooltip text - see examples below! */\n",
       "                position: absolute;\n",
       "                z-index: 1;\n",
       "            }\n",
       "            #primary {\n",
       "                font-weight: bold;\n",
       "                color: black;\n",
       "            }\n",
       "\n",
       "            #nonprimary {\n",
       "                font-weight: normal;\n",
       "                color: white;\n",
       "            }\n",
       "\n",
       "            /* Show the tooltip text when you mouse over the tooltip container */\n",
       "            .djtooltip:hover .djtooltiptext {\n",
       "                visibility: visible;\n",
       "            }\n",
       "        </style>\n",
       "        \n",
       "        <b>Experimental animals</b>\n",
       "            <div style=\"max-height:1000px;max-width:1500px;overflow:auto;\">\n",
       "            <table border=\"1\" class=\"Relation\">\n",
       "                <thead> <tr style=\"text-align: right;\"> <th> <div class=\"djtooltip\">\n",
       "                                <p id=\"primary\">mouse_id</p>\n",
       "                                <span class=\"djtooltiptext\">Unique animal ID</span>\n",
       "                            </div></th><th><div class=\"djtooltip\">\n",
       "                                <p id=\"nonprimary\">dob</p>\n",
       "                                <span class=\"djtooltiptext\">date of birth</span>\n",
       "                            </div></th><th><div class=\"djtooltip\">\n",
       "                                <p id=\"nonprimary\">sex</p>\n",
       "                                <span class=\"djtooltiptext\">sex</span>\n",
       "                            </div> </th> </tr> </thead>\n",
       "                <tbody> <tr> <td>0</td>\n",
       "<td>2017-03-01</td>\n",
       "<td>M</td></tr><tr><td>5</td>\n",
       "<td>2016-12-25</td>\n",
       "<td>F</td> </tr> </tbody>\n",
       "            </table>\n",
       "            \n",
       "            <p>Total: 2</p></div>\n",
       "            "
      ],
      "text/plain": [
       "*mouse_id    dob            sex    \n",
       "+----------+ +------------+ +-----+\n",
       "0            2017-03-01     M      \n",
       "5            2016-12-25     F      \n",
       " (Total: 2)"
      ]
     },
     "execution_count": 39,
     "metadata": {},
     "output_type": "execute_result"
    }
   ],
   "source": [
    "Mouse & Session"
   ]
  },
  {
   "cell_type": "markdown",
   "metadata": {},
   "source": [
    "Find sessions performed on a male mouse"
   ]
  },
  {
   "cell_type": "code",
   "execution_count": 40,
   "metadata": {},
   "outputs": [
    {
     "data": {
      "text/html": [
       "\n",
       "        \n",
       "        <style type=\"text/css\">\n",
       "            .Relation{\n",
       "                border-collapse:collapse;\n",
       "            }\n",
       "            .Relation th{\n",
       "                background: #A0A0A0; color: #ffffff; padding:4px; border:#f0e0e0 1px solid;\n",
       "                font-weight: normal; font-family: monospace; font-size: 100%;\n",
       "            }\n",
       "            .Relation td{\n",
       "                padding:4px; border:#f0e0e0 1px solid; font-size:100%;\n",
       "            }\n",
       "            .Relation tr:nth-child(odd){\n",
       "                background: #ffffff;\n",
       "            }\n",
       "            .Relation tr:nth-child(even){\n",
       "                background: #f3f1ff;\n",
       "            }\n",
       "            /* Tooltip container */\n",
       "            .djtooltip {\n",
       "            }\n",
       "            /* Tooltip text */\n",
       "            .djtooltip .djtooltiptext {\n",
       "                visibility: hidden;\n",
       "                width: 120px;\n",
       "                background-color: black;\n",
       "                color: #fff;\n",
       "                text-align: center;\n",
       "                padding: 5px 0;\n",
       "                border-radius: 6px;\n",
       "                /* Position the tooltip text - see examples below! */\n",
       "                position: absolute;\n",
       "                z-index: 1;\n",
       "            }\n",
       "            #primary {\n",
       "                font-weight: bold;\n",
       "                color: black;\n",
       "            }\n",
       "\n",
       "            #nonprimary {\n",
       "                font-weight: normal;\n",
       "                color: white;\n",
       "            }\n",
       "\n",
       "            /* Show the tooltip text when you mouse over the tooltip container */\n",
       "            .djtooltip:hover .djtooltiptext {\n",
       "                visibility: visible;\n",
       "            }\n",
       "        </style>\n",
       "        \n",
       "        <b>Experiment session</b>\n",
       "            <div style=\"max-height:1000px;max-width:1500px;overflow:auto;\">\n",
       "            <table border=\"1\" class=\"Relation\">\n",
       "                <thead> <tr style=\"text-align: right;\"> <th> <div class=\"djtooltip\">\n",
       "                                <p id=\"primary\">mouse_id</p>\n",
       "                                <span class=\"djtooltiptext\">Unique animal ID</span>\n",
       "                            </div></th><th><div class=\"djtooltip\">\n",
       "                                <p id=\"primary\">session_date</p>\n",
       "                                <span class=\"djtooltiptext\">date</span>\n",
       "                            </div></th><th><div class=\"djtooltip\">\n",
       "                                <p id=\"nonprimary\">experiment_setup</p>\n",
       "                                <span class=\"djtooltiptext\">experiment setup ID</span>\n",
       "                            </div></th><th><div class=\"djtooltip\">\n",
       "                                <p id=\"nonprimary\">experimenter</p>\n",
       "                                <span class=\"djtooltiptext\">experimenter name</span>\n",
       "                            </div> </th> </tr> </thead>\n",
       "                <tbody> <tr> <td>0</td>\n",
       "<td>2017-05-15</td>\n",
       "<td>0</td>\n",
       "<td>Edgar Y. Walker</td></tr><tr><td>0</td>\n",
       "<td>2017-05-19</td>\n",
       "<td>100</td>\n",
       "<td>Jacob Reimer</td> </tr> </tbody>\n",
       "            </table>\n",
       "            \n",
       "            <p>Total: 2</p></div>\n",
       "            "
      ],
      "text/plain": [
       "*mouse_id    *session_date  experiment_set experimenter  \n",
       "+----------+ +------------+ +------------+ +------------+\n",
       "0            2017-05-15     0              Edgar Y. Walke\n",
       "0            2017-05-19     100            Jacob Reimer  \n",
       " (Total: 2)"
      ]
     },
     "execution_count": 40,
     "metadata": {},
     "output_type": "execute_result"
    }
   ],
   "source": [
    "Session & (Mouse & 'sex = \"M\"')"
   ]
  },
  {
   "cell_type": "markdown",
   "metadata": {},
   "source": [
    "Sometimes you want to see information from multiple tables combined together to be viewed (and queried!) simultaneously. You can do this using the join `*` operator."
   ]
  },
  {
   "cell_type": "code",
   "execution_count": 41,
   "metadata": {},
   "outputs": [
    {
     "data": {
      "text/html": [
       "\n",
       "        \n",
       "        <style type=\"text/css\">\n",
       "            .Relation{\n",
       "                border-collapse:collapse;\n",
       "            }\n",
       "            .Relation th{\n",
       "                background: #A0A0A0; color: #ffffff; padding:4px; border:#f0e0e0 1px solid;\n",
       "                font-weight: normal; font-family: monospace; font-size: 100%;\n",
       "            }\n",
       "            .Relation td{\n",
       "                padding:4px; border:#f0e0e0 1px solid; font-size:100%;\n",
       "            }\n",
       "            .Relation tr:nth-child(odd){\n",
       "                background: #ffffff;\n",
       "            }\n",
       "            .Relation tr:nth-child(even){\n",
       "                background: #f3f1ff;\n",
       "            }\n",
       "            /* Tooltip container */\n",
       "            .djtooltip {\n",
       "            }\n",
       "            /* Tooltip text */\n",
       "            .djtooltip .djtooltiptext {\n",
       "                visibility: hidden;\n",
       "                width: 120px;\n",
       "                background-color: black;\n",
       "                color: #fff;\n",
       "                text-align: center;\n",
       "                padding: 5px 0;\n",
       "                border-radius: 6px;\n",
       "                /* Position the tooltip text - see examples below! */\n",
       "                position: absolute;\n",
       "                z-index: 1;\n",
       "            }\n",
       "            #primary {\n",
       "                font-weight: bold;\n",
       "                color: black;\n",
       "            }\n",
       "\n",
       "            #nonprimary {\n",
       "                font-weight: normal;\n",
       "                color: white;\n",
       "            }\n",
       "\n",
       "            /* Show the tooltip text when you mouse over the tooltip container */\n",
       "            .djtooltip:hover .djtooltiptext {\n",
       "                visibility: visible;\n",
       "            }\n",
       "        </style>\n",
       "        \n",
       "        \n",
       "            <div style=\"max-height:1000px;max-width:1500px;overflow:auto;\">\n",
       "            <table border=\"1\" class=\"Relation\">\n",
       "                <thead> <tr style=\"text-align: right;\"> <th> <div class=\"djtooltip\">\n",
       "                                <p id=\"primary\">mouse_id</p>\n",
       "                                <span class=\"djtooltiptext\">Unique animal ID</span>\n",
       "                            </div></th><th><div class=\"djtooltip\">\n",
       "                                <p id=\"primary\">session_date</p>\n",
       "                                <span class=\"djtooltiptext\">date</span>\n",
       "                            </div></th><th><div class=\"djtooltip\">\n",
       "                                <p id=\"nonprimary\">dob</p>\n",
       "                                <span class=\"djtooltiptext\">date of birth</span>\n",
       "                            </div></th><th><div class=\"djtooltip\">\n",
       "                                <p id=\"nonprimary\">sex</p>\n",
       "                                <span class=\"djtooltiptext\">sex</span>\n",
       "                            </div></th><th><div class=\"djtooltip\">\n",
       "                                <p id=\"nonprimary\">experiment_setup</p>\n",
       "                                <span class=\"djtooltiptext\">experiment setup ID</span>\n",
       "                            </div></th><th><div class=\"djtooltip\">\n",
       "                                <p id=\"nonprimary\">experimenter</p>\n",
       "                                <span class=\"djtooltiptext\">experimenter name</span>\n",
       "                            </div> </th> </tr> </thead>\n",
       "                <tbody> <tr> <td>0</td>\n",
       "<td>2017-05-15</td>\n",
       "<td>2017-03-01</td>\n",
       "<td>M</td>\n",
       "<td>0</td>\n",
       "<td>Edgar Y. Walker</td></tr><tr><td>0</td>\n",
       "<td>2017-05-19</td>\n",
       "<td>2017-03-01</td>\n",
       "<td>M</td>\n",
       "<td>100</td>\n",
       "<td>Jacob Reimer</td></tr><tr><td>5</td>\n",
       "<td>2017-01-05</td>\n",
       "<td>2016-12-25</td>\n",
       "<td>F</td>\n",
       "<td>101</td>\n",
       "<td>Jacob Reimer</td> </tr> </tbody>\n",
       "            </table>\n",
       "            \n",
       "            <p>Total: 3</p></div>\n",
       "            "
      ],
      "text/plain": [
       "*mouse_id    *session_date  dob            sex     experiment_set experimenter  \n",
       "+----------+ +------------+ +------------+ +-----+ +------------+ +------------+\n",
       "0            2017-05-15     2017-03-01     M       0              Edgar Y. Walke\n",
       "0            2017-05-19     2017-03-01     M       100            Jacob Reimer  \n",
       "5            2017-01-05     2016-12-25     F       101            Jacob Reimer  \n",
       " (Total: 3)"
      ]
     },
     "execution_count": 41,
     "metadata": {},
     "output_type": "execute_result"
    }
   ],
   "source": [
    "Mouse * Session"
   ]
  },
  {
   "cell_type": "markdown",
   "metadata": {},
   "source": [
    "# Importing data from data files"
   ]
  },
  {
   "cell_type": "markdown",
   "metadata": {},
   "source": [
    "Recall from the project description\n",
    "> * In each experimental session, you record electrical activity from a single neuron. You use recording equipment that produces separate data files for each neuron you recorded.\n",
    "\n",
    "Our recording equipment produces a data file for each neuron recorded. Since we record from one neuron per session, there should be one data file for each session."
   ]
  },
  {
   "cell_type": "markdown",
   "metadata": {},
   "source": [
    "In the `data` directory, you will find `.npy` (saved NumPy array) files with names like `data_100_2017-05-25.npy`."
   ]
  },
  {
   "cell_type": "markdown",
   "metadata": {},
   "source": [
    "As you might have guessed, these are the data for the recording sessions in the `Session` table, and each file are named according to the `mouse_id` and `session_date` - the attributes of the primary keys - in the format `data_{mouse_id}_{session_date}.npy`.\n",
    "\n",
    "So `data_100_2017-05-25.npy` is the data for session identified by `mouse_id = 100` and `session_date = \"2017-05-25\"`."
   ]
  },
  {
   "cell_type": "markdown",
   "metadata": {},
   "source": [
    "## Looking at the data "
   ]
  },
  {
   "cell_type": "markdown",
   "metadata": {},
   "source": [
    "Let's take a quick peak at the data file content."
   ]
  },
  {
   "cell_type": "code",
   "execution_count": 42,
   "metadata": {},
   "outputs": [],
   "source": [
    "data = np.load('data/data_0_2017-05-15.npy')"
   ]
  },
  {
   "cell_type": "markdown",
   "metadata": {},
   "source": [
    "Look at its content..."
   ]
  },
  {
   "cell_type": "code",
   "execution_count": 43,
   "metadata": {},
   "outputs": [
    {
     "data": {
      "text/plain": [
       "array([ 3.57887412e-01,  4.47531558e-01,  1.96412988e-01,  3.91114491e-01,\n",
       "        1.76695176e-01,  3.80088116e-01,  9.36353656e-02,  1.10668001e-02,\n",
       "        1.14509759e-01,  1.65947705e-01,  1.02058476e-01,  1.15037690e-01,\n",
       "        2.18115225e-01,  1.34076355e-01,  7.74560696e-02,  9.19639027e-02,\n",
       "       -7.60109670e-03,  1.12814011e+00,  9.48711628e-01,  7.77781245e-01,\n",
       "        5.46847747e-01,  3.91930226e-01,  2.19542222e-01,  3.92001858e-01,\n",
       "        3.17729202e-01,  2.97934834e-01,  1.85589403e-01,  3.04215179e-01,\n",
       "        8.75626287e-02, -1.76018214e-02,  1.43719730e-01, -1.28348781e-01,\n",
       "       -4.38344653e-02,  1.57370375e-01,  1.70233992e-01,  8.98556797e-01,\n",
       "        9.36896773e-01,  1.67418776e+00,  2.48160598e+00,  1.89737445e+00,\n",
       "        1.45746470e+00,  1.32137967e+00,  1.05349900e+00,  1.88503636e+00,\n",
       "        1.53324759e+00,  1.34566597e+00,  1.93924029e+00,  1.58839106e+00,\n",
       "        1.26074176e+00,  1.21973014e+00,  9.80495008e-01,  7.66163859e-01,\n",
       "        1.59531686e+00,  1.10087015e+00,  1.15513304e+00,  8.56314992e-01,\n",
       "        7.37593259e-01,  6.50912336e-01,  3.78222011e-01,  3.33381961e-01,\n",
       "        3.36530722e-01,  2.72070063e-01,  2.21307773e-02,  1.27166159e-01,\n",
       "        1.02442286e-01,  7.17979754e-02,  1.24111799e-01,  2.95003486e-02,\n",
       "        5.81101732e-02,  7.83296477e-02,  1.07236342e-01, -7.71500819e-02,\n",
       "       -4.03102332e-02,  9.32218744e-02, -1.39751021e-01,  4.34990973e-02,\n",
       "       -3.62238166e-02,  5.65840332e-02,  5.83848056e-03, -1.86444246e-04,\n",
       "        5.48341851e-02,  5.23098255e-03, -3.18617746e-02, -1.09971236e-01,\n",
       "       -1.19861696e-01,  8.11585903e-02,  5.25812482e-02, -5.30601889e-02,\n",
       "        5.57417328e-02,  1.53998941e-02, -3.64440351e-02, -2.59108524e-01,\n",
       "        1.20934701e-02, -7.09599743e-02, -5.51095762e-02, -1.35461062e-01,\n",
       "        4.75431948e-02,  6.44133300e-02,  1.50885861e-01, -1.46488851e-01,\n",
       "       -9.53648657e-02,  7.59548599e-03, -1.44054364e-01, -8.78515921e-02,\n",
       "       -1.42428227e-01, -3.45118278e-03, -1.26940714e-01, -9.20832554e-02,\n",
       "        3.68553737e-02, -8.35685105e-02,  1.60588415e-02, -1.11976400e-01,\n",
       "       -1.07021363e-01, -1.43319906e-02, -2.41195390e-02, -3.78984606e-03,\n",
       "        6.26503649e-02,  6.73261037e-02,  2.42722828e-02,  4.78000884e-02,\n",
       "        1.87360494e-02,  3.77974599e-02, -1.59249774e-01, -1.14799869e-01,\n",
       "        4.07530128e-02,  1.17039319e-02,  6.04455289e-02,  1.36546722e-01,\n",
       "        3.24868542e-02, -2.02990620e-01, -1.85726063e-01,  5.95638848e-03,\n",
       "       -1.62046808e-01,  7.36242620e-02, -7.53509144e-02,  7.23394806e-02,\n",
       "        1.24649397e-01,  1.33367848e-01,  1.49916663e-01,  7.09169055e-02,\n",
       "        5.54171809e-02, -1.70262178e-02,  1.51023527e-01, -5.86649941e-02,\n",
       "        2.07455481e-01,  2.43959267e-01,  8.83507209e-01,  8.55214006e-01,\n",
       "        5.76237481e-01,  5.52699744e-01,  5.67923229e-01,  5.26204825e-01,\n",
       "        1.51617555e+00,  9.54140744e-01,  1.00554631e+00,  7.66225147e-01,\n",
       "        6.92448058e-01,  5.16811992e-01,  3.90037626e-01,  1.58590830e-01,\n",
       "        3.30612987e-01,  1.72983877e-01,  1.28256029e-01,  8.26691865e-02,\n",
       "       -4.49560014e-02,  2.43301325e-01,  2.29370998e-01,  1.06948655e+00,\n",
       "        8.22995772e-01,  8.25181132e-01,  6.73353030e-01,  4.99403896e-01,\n",
       "        4.65513637e-01,  3.37727245e-01,  2.48252812e-01,  1.65315878e-01,\n",
       "        2.74795374e-01,  5.83060391e-02,  1.27371795e-01, -1.17808927e-02,\n",
       "       -5.55786029e-03,  2.11406405e-01,  5.06522488e-02, -1.32739957e-01,\n",
       "        1.14380044e+00,  1.89665344e+00,  1.40624390e+00,  1.24860249e+00,\n",
       "        9.67295548e-01,  9.02500744e-01,  5.92321135e-01,  4.75769619e-01,\n",
       "        4.87856821e-01,  4.38424136e-01,  2.88419750e-01,  4.40335548e-01,\n",
       "        1.33597568e-01,  1.91711553e-01,  1.22081460e-01,  2.06724114e-01,\n",
       "       -1.55619770e-02,  1.71480833e-01,  3.83268407e-02,  1.94964042e-01,\n",
       "        5.51857012e-02,  1.97124745e-02,  8.21195929e-02,  1.03844219e-01,\n",
       "       -3.18097486e-01,  7.02687913e-02, -7.25411944e-02,  2.14994159e-01,\n",
       "       -2.28972464e-01, -2.18239963e-03,  4.52749496e-02,  1.23876523e-01,\n",
       "       -1.12786726e-01, -1.68840688e-01,  1.09262059e-02,  8.87628064e-04,\n",
       "       -7.79933396e-02, -1.19261199e-02, -2.80171894e-02,  1.68434803e-01,\n",
       "       -2.48579065e-02,  1.02382818e-01,  1.53459838e-01, -6.62972617e-02,\n",
       "        1.57506657e-01, -9.38050260e-02, -3.86519361e-03,  5.79287013e-02,\n",
       "       -1.32487716e-01,  1.07614132e-02,  1.06144573e+00,  1.78822809e+00,\n",
       "        1.42992074e+00,  1.20228847e+00,  2.01093206e+00,  1.56718338e+00,\n",
       "        1.40102371e+00,  1.03295413e+00,  7.41122788e-01,  6.61526796e-01,\n",
       "        4.54307411e-01,  5.88944641e-01,  4.42579987e-01,  5.34835898e-01,\n",
       "        3.91442415e-01,  5.80988295e-02,  1.56439534e-01,  2.58719019e-01,\n",
       "       -1.15456059e-01,  6.57661377e-02,  1.17996440e-01, -6.02754374e-02,\n",
       "        6.95786749e-02,  1.14241287e-01,  1.53877204e-01, -3.50059527e-02,\n",
       "        1.55834390e-01, -1.68767662e-02,  1.23508887e-01, -1.02828127e-01,\n",
       "        1.03055306e+00,  9.56828891e-01,  6.26103277e-01,  4.99778832e-01,\n",
       "        4.08081478e-01,  4.30054527e-01,  3.02228063e-01,  3.69730534e-01,\n",
       "        2.40954326e-01,  4.56641352e-02,  1.63000709e-01,  1.18606679e+00,\n",
       "        9.61793771e-01,  8.96002396e-01,  5.34468548e-01,  1.57483007e+00,\n",
       "        2.09870766e+00,  1.82291133e+00,  1.63844619e+00,  1.21440231e+00,\n",
       "        1.05446930e+00,  8.93141567e-01,  6.60007561e-01,  6.71775232e-01,\n",
       "        1.50441168e+00,  1.14440896e+00,  1.02966220e+00,  7.52415220e-01,\n",
       "        6.67011874e-01,  3.46874670e-01,  2.68413022e-01,  2.77949691e-01,\n",
       "        3.34664046e-01,  4.03215085e-01,  2.53651907e-01,  1.07638536e-01,\n",
       "        1.05343159e-01,  8.88901142e-02,  1.80015728e-01,  1.98767886e-03,\n",
       "        2.02111090e-02, -9.31692393e-02, -4.47384663e-02,  1.56458083e-01,\n",
       "        2.01720297e-01,  2.03542534e-01, -2.14269428e-01,  2.80797183e-02,\n",
       "        3.25476819e-02,  5.35097248e-02, -1.46752968e-01, -2.77763791e-01,\n",
       "        9.39191325e-02, -8.00522257e-02,  7.86411156e-02, -1.31305393e-01,\n",
       "       -1.18440907e-01, -2.11471791e-01,  1.83345846e-01,  1.14036980e-02,\n",
       "        3.12572490e-02,  1.67251288e-01,  4.50737025e-02,  8.50116891e-02,\n",
       "       -1.05570136e-01, -3.91225599e-02,  4.19435506e-02,  9.18295673e-02,\n",
       "        1.00948351e-01, -2.69381523e-02, -5.80990336e-02,  1.78913698e-02,\n",
       "       -2.19932511e-01,  1.00536095e-02,  7.50087514e-02,  5.71439648e-02,\n",
       "       -7.05402068e-02, -5.04720874e-02, -2.02845248e-01,  7.49185791e-02,\n",
       "       -5.45357043e-03,  1.27005895e-02, -3.52048059e-02,  7.63334673e-02,\n",
       "        1.13931022e-01,  2.21661258e-02,  2.64159696e-01,  1.08020316e-01,\n",
       "       -1.65623301e-01,  2.70601016e-02,  4.63893087e-02,  5.42843157e-02,\n",
       "       -3.47460497e-02,  5.83374400e-02,  3.20027719e-02,  9.75737361e-02,\n",
       "       -5.17204965e-02,  2.49865141e-02,  4.30739172e-02, -1.55561967e-01,\n",
       "       -4.40168629e-02, -1.25899451e-01, -5.39137396e-02,  6.85689395e-02,\n",
       "       -7.06141866e-03, -2.29774809e-01, -1.22652670e-01,  4.91485274e-02,\n",
       "       -1.17181342e-01, -4.67479206e-02,  1.31136674e-01, -2.16766438e-01,\n",
       "        9.24738157e-01,  8.30514746e-01,  8.36875466e-01,  5.89253038e-01,\n",
       "        4.09113568e-01,  2.66889234e-01,  3.18329291e-01,  2.90857104e-01,\n",
       "        3.99022616e-01,  1.29407638e-01,  2.26561258e-01,  1.40736112e-01,\n",
       "        1.74887173e-01,  1.73266324e-01,  3.76184057e-02, -6.00556778e-02,\n",
       "       -2.01416090e-01, -1.67598812e-03, -7.12499296e-03,  1.38259933e-01,\n",
       "       -1.34984095e-01,  1.14370726e+00,  7.05035228e-01,  6.93680054e-01,\n",
       "        4.93018199e-01,  3.01884856e-01,  3.21853060e-01,  3.21720921e-01,\n",
       "        1.89495940e-01,  4.79519880e-01,  1.29843248e-01,  6.39370486e-02,\n",
       "        1.80744947e-01,  8.32444042e-02,  7.96862651e-02,  8.80065818e-02,\n",
       "        9.51188930e-02,  1.01090543e-01,  2.05419796e-01, -2.98784768e-02,\n",
       "        1.45803916e-01, -2.98838255e-02,  1.35847269e-01, -3.03913537e-02,\n",
       "        4.96040245e-02, -1.03077876e-01, -1.22083976e-01, -9.84669206e-02,\n",
       "       -3.80553913e-02, -1.28106091e-01,  2.30966517e-02, -1.11285441e-01,\n",
       "        3.60091188e-03,  1.99334515e-02, -2.56325565e-02, -1.01025035e-01,\n",
       "       -7.75270782e-02,  1.04298520e-01,  2.41849780e-03,  4.48712026e-02,\n",
       "        2.52274241e-01, -6.00374401e-02,  5.40367599e-02,  1.73639411e-01,\n",
       "       -7.86343607e-03,  6.22913351e-02,  2.53208560e-02, -1.69087628e-01,\n",
       "       -1.65132452e-01,  2.86023053e-02, -9.29146792e-02, -6.11378213e-02,\n",
       "        2.04881973e-01,  1.88225440e-01, -5.91635886e-02, -5.79665004e-02,\n",
       "        1.44294351e-01,  4.46050806e-02,  7.94540969e-03, -6.35426095e-02,\n",
       "       -1.15997227e-01,  1.83191753e-02,  5.28225263e-02, -1.08532350e-01,\n",
       "        1.44496792e-01,  1.43302657e-01, -1.46524350e-01,  1.18188356e+00,\n",
       "        9.03639320e-01,  6.04454661e-01,  4.49513478e-01,  3.83200563e-01,\n",
       "        5.06436477e-01,  3.49265581e-01,  3.99738778e-01,  2.45887692e-01,\n",
       "        2.81484301e-01,  1.77785305e-01,  1.09703265e-02,  3.70530398e-02,\n",
       "        1.31330082e-01,  8.71425640e-02,  3.33857832e-01, -7.12413968e-02,\n",
       "       -8.97154629e-02,  7.40730721e-02,  5.97128245e-02,  2.34869128e-01,\n",
       "       -3.20819416e-02,  2.65632944e-02, -6.07013335e-02, -1.27002758e-01,\n",
       "        2.16984986e-02,  9.03023410e-03,  2.20839362e-01, -8.91938650e-02,\n",
       "        2.33953850e-01,  1.43573346e-01,  2.75152230e-01,  1.28656643e-01,\n",
       "       -1.16480260e-02,  9.03293415e-04, -1.18839774e-01,  7.86330161e-02,\n",
       "        4.00007325e-02, -9.80397383e-02, -4.42695682e-02, -1.49883960e-02,\n",
       "       -1.69976818e-01, -7.78312668e-03, -1.94404123e-02, -8.03773902e-02,\n",
       "       -6.05579523e-02,  1.95069803e-02, -4.52126912e-02,  1.74422122e-01,\n",
       "       -1.99238260e-01, -3.91236052e-02,  5.89841644e-02, -6.67758085e-02,\n",
       "       -2.73644241e-02,  2.19098411e-01,  4.46983268e-02, -3.66252078e-02,\n",
       "        4.43283833e-02,  2.25697557e-02,  1.95433005e-01,  4.09668282e-02,\n",
       "       -5.43391320e-02, -4.33887655e-02,  1.47436220e-01,  1.65408829e-01,\n",
       "       -9.09196975e-02,  1.07774571e-01,  8.58332038e-02,  4.33849188e-03,\n",
       "        1.53411792e-01, -3.97305805e-02, -2.14871074e-02, -6.97095042e-02,\n",
       "        3.00432966e-02, -3.16463544e-02,  3.07840191e-03, -2.16733667e-02,\n",
       "       -3.18560339e-02,  3.66698288e-02, -3.43363193e-02,  2.06746714e-01,\n",
       "       -7.60502887e-02, -1.71189864e-01,  1.06735423e-01, -3.61907100e-02,\n",
       "       -1.88581197e-01,  1.55249578e-01,  6.59242205e-03, -4.46976133e-02,\n",
       "        1.86226099e-01, -1.49095939e-01, -2.47424070e-02,  1.07958794e-01,\n",
       "        7.10083147e-02,  5.70557055e-02,  8.96181297e-03, -2.11594738e-01,\n",
       "       -5.03600676e-02, -2.56128830e-02, -4.02507671e-02, -1.99935220e-01,\n",
       "        1.62758261e-02, -2.10041565e-02,  3.83952841e-02, -1.20534363e-02,\n",
       "       -5.10847887e-02, -4.33253439e-02, -1.88213705e-02,  4.58028139e-02,\n",
       "       -1.80158629e-02,  1.43620301e-01, -1.70544931e-01,  1.77761139e-03,\n",
       "       -2.08095349e-02,  3.34326742e-02,  4.40900132e-02,  6.77012418e-02,\n",
       "       -9.25022511e-02,  8.56213543e-02, -1.64681050e-02,  1.51338327e-02,\n",
       "        5.40416644e-02,  1.33405086e-02, -6.50942134e-02, -4.35238219e-03,\n",
       "        6.74543989e-02,  1.83795805e-02, -8.89084565e-03, -8.38116481e-02,\n",
       "       -8.85186574e-02, -8.22233688e-02,  1.63380941e-01,  1.93323312e-01,\n",
       "       -2.52080190e-03,  1.55618202e-01, -3.48718916e-02, -4.39154177e-03,\n",
       "       -1.50650829e-01, -3.85879559e-02,  1.23910600e-01,  1.26416145e-01,\n",
       "        4.57916224e-02,  8.45197602e-02,  6.91956186e-02,  1.29578141e-01,\n",
       "       -3.42267972e-02,  6.38280360e-02, -1.71677496e-02, -1.92718154e-01,\n",
       "        1.16080879e+00,  9.21546435e-01,  5.16635067e-01,  7.23468589e-01,\n",
       "        3.09147097e-01,  4.49592539e-01,  2.62198787e-01,  1.89167293e-01,\n",
       "        6.80711173e-02,  1.16969270e-01,  1.50577864e-01,  3.10725745e-02,\n",
       "       -9.74933170e-03, -1.04268235e-01,  6.56952998e-02,  1.40981993e-01,\n",
       "       -5.38736937e-02,  9.89558899e-02, -4.52553764e-02, -7.47028216e-02,\n",
       "       -2.45633731e-02,  4.91456086e-03,  2.24777465e-02,  5.19085415e-02,\n",
       "       -7.12450557e-02,  8.96366331e-02,  5.53691200e-02, -7.74717503e-02,\n",
       "       -6.71054350e-02, -6.39028129e-02,  3.12679383e-02, -1.84819956e-01,\n",
       "        2.07870708e-02, -1.31116132e-02,  2.76283840e-02,  4.87966338e-02,\n",
       "        9.84081330e-02, -6.95627406e-02,  2.36105975e-01,  1.45560427e-02,\n",
       "        8.64798612e-02, -3.32754493e-03,  4.40784273e-02,  8.92873175e-03,\n",
       "       -7.64205487e-03,  6.77330030e-02, -6.38034776e-02,  2.32453845e-02,\n",
       "       -1.76792583e-02, -1.22653199e-01,  2.60944692e-01, -8.19576302e-03,\n",
       "        1.21502703e-01, -1.17436798e-01,  5.91152919e-02,  1.45069334e-02,\n",
       "       -2.77748199e-02,  8.70198108e-02,  1.09750973e+00,  7.82291035e-01,\n",
       "        7.21941782e-01,  4.34205229e-01,  4.95265468e-01,  4.64622108e-01,\n",
       "        2.74796291e-01,  2.18068847e-01,  3.26694544e-01,  1.82281257e-01,\n",
       "        5.71407916e-02,  1.35026995e-01,  6.95359173e-02,  1.19570987e-01,\n",
       "        2.85917443e-02,  1.68845114e-01,  2.88802329e-02,  1.38069548e-01,\n",
       "        4.18650358e-02, -1.33298268e-01, -5.40673322e-02, -2.12729776e-02,\n",
       "       -6.04156952e-02,  1.01418967e-01,  6.41443313e-02,  3.63175454e-02,\n",
       "        8.56384845e-02, -1.15120677e-02,  1.10539191e-01, -1.24283472e-01,\n",
       "       -1.81287322e-01, -1.05492936e-01, -1.39418774e-01, -8.96223894e-02,\n",
       "        5.29831286e-02, -9.06341080e-02,  1.11775639e-01,  2.52898789e-01,\n",
       "        1.37988335e-01, -1.99189622e-03,  7.86036381e-02,  6.69568198e-02,\n",
       "       -1.39980384e-02, -8.60498166e-02,  9.52417978e-02,  1.19438557e-02,\n",
       "        3.25813543e-02,  6.52716977e-02, -1.01625274e-02,  1.38016286e-01,\n",
       "        1.68098374e-01,  2.08439386e-02,  5.07228859e-02,  1.64968265e-01,\n",
       "       -1.94238088e-01, -2.26970816e-01,  1.90859273e-01,  1.55852829e-02,\n",
       "        9.92850491e-02,  4.34517009e-02, -6.93774354e-03,  2.37587998e-02,\n",
       "       -1.10832949e-01,  1.28747269e-01, -8.28914026e-02,  1.84212900e-01,\n",
       "        3.88899986e-02,  2.75027529e-02, -4.41476612e-02,  9.83779242e-03,\n",
       "       -7.59881145e-02, -5.62181424e-02,  4.71012725e-02, -2.83273040e-02,\n",
       "       -8.95039250e-02, -1.73206060e-01,  8.04575793e-02,  4.89516889e-02,\n",
       "       -5.36636280e-02,  1.11401613e-01,  7.41568054e-02, -1.58587913e-02,\n",
       "        1.38660466e-02,  9.15840051e-01,  9.35520924e-01,  8.20295289e-01,\n",
       "        4.16726598e-01,  4.10924305e-01,  4.29348959e-01,  1.88910731e-01,\n",
       "        2.71345351e-01,  3.36252176e-01,  7.99709853e-02,  1.18817313e+00,\n",
       "        1.12547896e+00,  7.10084698e-01,  5.19828662e-01,  4.90804498e-01,\n",
       "        3.38881990e-01,  3.76448904e-01,  1.18645994e+00,  1.06435236e+00,\n",
       "        1.94919081e+00,  1.41683039e+00,  1.43564448e+00,  1.04081010e+00,\n",
       "        7.90455203e-01,  5.63441762e-01,  4.12188514e-01,  4.14429943e-01,\n",
       "        3.94528788e-01,  1.34387624e+00,  9.47544414e-01,  1.02847705e+00,\n",
       "        7.18964295e-01,  5.60308504e-01,  5.55145624e-01,  3.72224551e-01,\n",
       "        2.14687813e-01,  3.13142646e-01,  2.50581325e-01,  2.09818408e-02,\n",
       "        1.49008637e-01,  2.03570380e-01,  5.05068803e-02,  1.20428405e-01,\n",
       "        1.11461852e+00,  8.81700992e-01,  1.81056078e+00,  1.52936936e+00,\n",
       "        1.16525616e+00,  8.56957933e-01,  9.04530004e-01,  5.83086508e-01,\n",
       "        6.42397646e-01,  3.49120161e-01,  3.95190201e-01,  3.04481134e-01,\n",
       "        3.28985466e-01,  3.22194130e-01, -4.78729019e-02,  3.06232461e-01,\n",
       "       -4.02626838e-02,  1.23166186e-01,  4.93381103e-02,  1.10558060e-01,\n",
       "        2.07875455e-02,  2.31902493e-01, -1.12148445e-01, -1.28066781e-02,\n",
       "       -4.42326632e-02, -2.45775081e-02, -1.04753587e-01,  8.97585073e-02,\n",
       "       -2.27588842e-02,  8.57118601e-02,  5.94292811e-03,  1.68235395e-01,\n",
       "        1.74473514e-01,  8.15705527e-02, -1.62542119e-01, -1.50153441e-01,\n",
       "       -3.82194543e-01,  7.89967120e-02,  1.24402821e-01, -7.45099363e-02,\n",
       "        1.02042814e-01, -1.54368942e-02,  1.51022438e-01,  5.45528677e-02,\n",
       "        2.11612947e-01,  3.05863774e-02,  1.13577596e-01, -9.28138132e-02,\n",
       "        1.05944320e+00,  8.22694192e-01,  6.86775834e-01,  5.26383175e-01,\n",
       "        4.87463624e-01,  3.59415382e-01,  1.79998644e-01,  3.03695719e-01,\n",
       "        1.62269198e-01,  1.88029365e-01,  7.70099213e-02,  1.03689795e+00,\n",
       "        8.59575605e-01,  6.84051568e-01,  4.93971211e-01,  5.43776616e-01,\n",
       "        3.61937201e-01,  2.07496283e-01,  2.38354097e-01,  2.53068762e-01,\n",
       "        1.52493846e-01,  3.84866267e-01,  8.58807488e-02,  6.02818296e-02,\n",
       "        1.24288796e-01,  2.27447449e-01,  2.01378209e-02, -7.01849363e-02,\n",
       "        1.23180928e-01, -4.31365196e-02, -1.05023995e-01,  1.57140085e-02,\n",
       "        7.78643730e-02,  1.16315021e-01, -1.95906107e-01, -9.75358646e-03,\n",
       "       -1.03878208e-01,  3.84609155e-02,  1.72760630e-01, -3.90920446e-02,\n",
       "        2.92722474e-03, -1.35533373e-02,  1.13720826e-02, -5.35428824e-02,\n",
       "       -1.76178376e-01, -7.24951113e-02, -1.95280857e-02,  1.25993789e-01,\n",
       "        9.37632205e-02,  8.89435244e-02,  6.00251479e-02, -4.69134844e-02,\n",
       "       -4.78302608e-02, -9.85106634e-02,  2.43915467e-01,  1.59116000e-01,\n",
       "       -1.77494253e-01,  7.37983421e-02, -8.42027434e-02, -1.41031791e-01,\n",
       "       -1.17614325e-01, -1.72387392e-01,  1.13488435e+00,  7.94030330e-01,\n",
       "        7.05362490e-01,  4.25140173e-01,  3.77941998e-01,  4.51229738e-01,\n",
       "        3.91577648e-01,  2.21325503e-01,  3.04573167e-01,  1.56762722e-01,\n",
       "        1.35208947e-01,  1.72394809e-01,  8.77570143e-04, -4.35287122e-02,\n",
       "       -1.72645376e-01,  1.35352750e-01,  2.53995982e-02,  3.90884089e-02,\n",
       "        5.71430012e-02,  1.80028326e-01,  2.13436539e-02,  1.80930730e-01,\n",
       "        1.03541707e-01,  8.41700237e-01,  8.41336519e-01,  6.15004166e-01,\n",
       "        1.66401572e+00,  1.24331519e+00,  1.10549354e+00,  7.18672227e-01,\n",
       "        7.10294950e-01,  4.68031444e-01,  3.07723842e-01,  3.85116194e-01,\n",
       "        3.39574633e-01,  8.18889780e-02,  1.33506454e-01,  1.14196508e-02,\n",
       "       -5.71529176e-02,  6.48490146e-02, -1.23334789e-02,  2.30623539e-01,\n",
       "        5.12007823e-02,  8.73800247e-02, -9.04408350e-03, -6.99598011e-02,\n",
       "        6.78200687e-03,  1.15865457e-01, -4.18379703e-02, -1.09293334e-01,\n",
       "        3.59053268e-02, -8.22174747e-02,  5.11019451e-03, -6.16000717e-02,\n",
       "        5.44727222e-03, -9.78321940e-02,  7.70249179e-02, -5.88816408e-02,\n",
       "       -6.53482040e-02, -4.06193822e-02, -1.53111574e-01,  6.09304478e-02,\n",
       "        1.30095832e-01,  3.93270237e-02, -1.36006509e-02,  1.24505657e-01,\n",
       "       -8.51880316e-02, -1.04119637e-02,  6.79276317e-02,  4.43370379e-02,\n",
       "       -3.44310185e-02, -1.46022386e-01,  7.97515407e-02, -1.55983167e-02,\n",
       "        2.59952844e-02, -1.92743149e-01, -1.14546115e-01,  1.68661011e-01,\n",
       "        7.21492352e-02, -8.15528413e-02, -1.26248020e-01,  5.42392992e-04,\n",
       "       -3.40266491e-02, -2.67852136e-02, -1.86944094e-02,  1.51646655e-01,\n",
       "       -2.88587981e-02,  7.91561911e-02, -1.49274034e-01, -7.83390380e-02,\n",
       "       -6.39837999e-02,  7.98993185e-03,  5.00516600e-02, -8.89976239e-02])"
      ]
     },
     "execution_count": 43,
     "metadata": {},
     "output_type": "execute_result"
    }
   ],
   "source": [
    "data"
   ]
  },
  {
   "cell_type": "markdown",
   "metadata": {},
   "source": [
    "...and check the shape of the data."
   ]
  },
  {
   "cell_type": "code",
   "execution_count": 44,
   "metadata": {},
   "outputs": [
    {
     "data": {
      "text/plain": [
       "(1000,)"
      ]
     },
     "execution_count": 44,
     "metadata": {},
     "output_type": "execute_result"
    }
   ],
   "source": [
    "data.shape"
   ]
  },
  {
   "cell_type": "markdown",
   "metadata": {},
   "source": [
    "So this particular file contains a NumPy array of length 1000. This represents a (simulated) recording of raw electric activity from a single neuron over 1000 time bins."
   ]
  },
  {
   "cell_type": "code",
   "execution_count": 45,
   "metadata": {},
   "outputs": [
    {
     "data": {
      "text/plain": [
       "[<matplotlib.lines.Line2D at 0x7f5499274518>]"
      ]
     },
     "execution_count": 45,
     "metadata": {},
     "output_type": "execute_result"
    },
    {
     "data": {
      "image/png": "[encoded data removed]",
      "text/plain": [
       "<Figure size 432x288 with 1 Axes>"
      ]
     },
     "metadata": {
      "needs_background": "light"
     },
     "output_type": "display_data"
    }
   ],
   "source": [
    "plt.plot(data)"
   ]
  },
  {
   "cell_type": "markdown",
   "metadata": {},
   "source": [
    "## Defining the table for recorded neurons"
   ]
  },
  {
   "cell_type": "markdown",
   "metadata": {},
   "source": [
    "We now would like to have all these recorded `Neuron` represented and stored in our data pipeline.\n",
    "\n",
    "Since we only record a single neuron from each session, a `Neuron` can be uniquely identified by knowing the `Session` it was recorded in. For each `Neuron`, we want to store the neural activity found in the data file."
   ]
  },
  {
   "cell_type": "code",
   "execution_count": 46,
   "metadata": {},
   "outputs": [],
   "source": [
    "@schema\n",
    "class Neuron(dj.Imported):\n",
    "    definition = \"\"\"\n",
    "    -> Session\n",
    "    ---\n",
    "    activity: longblob    # electric activity of the neuron\n",
    "    \"\"\""
   ]
  },
  {
   "cell_type": "markdown",
   "metadata": {},
   "source": [
    "Let's check the state of our pipeline."
   ]
  },
  {
   "cell_type": "code",
   "execution_count": 47,
   "metadata": {},
   "outputs": [
    {
     "data": {
      "image/svg+xml": [
       "<svg height=\"185pt\" viewBox=\"0.00 0.00 78.00 185.00\" width=\"78pt\" xmlns=\"http://www.w3.org/2000/svg\" xmlns:xlink=\"http://www.w3.org/1999/xlink\">\n",
       "<g class=\"graph\" id=\"graph0\" transform=\"scale(1 1) rotate(0) translate(4 181)\">\n",
       "<title>%3</title>\n",
       "<polygon fill=\"#ffffff\" points=\"-4,4 -4,-181 74,-181 74,4 -4,4\" stroke=\"transparent\"/>\n",
       "<!-- Session -->\n",
       "<g class=\"node\" id=\"node1\">\n",
       "<title>Session</title>\n",
       "<g id=\"a_node1\"><a xlink:title=\"→ Mouse\r",
       "session_date         \r",
       "------------------------------\r",
       "experiment_setup     \r",
       "experimenter         \r",
       "\">\n",
       "<polygon fill=\"#00ff00\" fill-opacity=\"0.188235\" points=\"65,-106 5,-106 5,-71 65,-71 65,-106\" stroke=\"#00ff00\" stroke-opacity=\"0.188235\"/>\n",
       "<text fill=\"#006400\" font-family=\"arial\" font-size=\"12.00\" text-anchor=\"start\" text-decoration=\"underline\" x=\"13\" y=\"-86.4\">Session</text>\n",
       "</a>\n",
       "</g>\n",
       "</g>\n",
       "<!-- Neuron -->\n",
       "<g class=\"node\" id=\"node2\">\n",
       "<title>Neuron</title>\n",
       "<g id=\"a_node2\"><a xlink:title=\"→ Session\r",
       "------------------------------\r",
       "activity             \r",
       "\">\n",
       "<ellipse cx=\"35\" cy=\"-17.5\" fill=\"#00007f\" fill-opacity=\"0.250980\" rx=\"35\" ry=\"17.5\" stroke=\"#00007f\" stroke-opacity=\"0.250980\"/>\n",
       "<text fill=\"#00007f\" font-family=\"arial\" font-size=\"12.00\" text-anchor=\"middle\" x=\"35\" y=\"-14.4\">Neuron</text>\n",
       "</a>\n",
       "</g>\n",
       "</g>\n",
       "<!-- Session&#45;&gt;Neuron -->\n",
       "<g class=\"edge\" id=\"edge1\">\n",
       "<title>Session-&gt;Neuron</title>\n",
       "<path d=\"M35,-70.9494C35,-60.1083 35,-46.2366 35,-35.3418\" fill=\"none\" stroke=\"#000000\" stroke-opacity=\"0.250980\" stroke-width=\"2\"/>\n",
       "</g>\n",
       "<!-- Mouse -->\n",
       "<g class=\"node\" id=\"node3\">\n",
       "<title>Mouse</title>\n",
       "<g id=\"a_node3\"><a xlink:title=\"mouse_id             \r",
       "------------------------------\r",
       "dob=null             \r",
       "sex=&quot;unknown&quot;        \r",
       "\">\n",
       "<polygon fill=\"#00ff00\" fill-opacity=\"0.188235\" points=\"61.5,-177 8.5,-177 8.5,-142 61.5,-142 61.5,-177\" stroke=\"#00ff00\" stroke-opacity=\"0.188235\"/>\n",
       "<text fill=\"#006400\" font-family=\"arial\" font-size=\"12.00\" text-anchor=\"start\" text-decoration=\"underline\" x=\"16.5\" y=\"-157.4\">Mouse</text>\n",
       "</a>\n",
       "</g>\n",
       "</g>\n",
       "<!-- Mouse&#45;&gt;Session -->\n",
       "<g class=\"edge\" id=\"edge2\">\n",
       "<title>Mouse-&gt;Session</title>\n",
       "<path d=\"M35,-141.9494C35,-131.1083 35,-117.2366 35,-106.3418\" fill=\"none\" stroke=\"#000000\" stroke-opacity=\"0.250980\" stroke-width=\".75\"/>\n",
       "</g>\n",
       "</g>\n",
       "</svg>"
      ],
      "text/plain": [
       "<datajoint.diagram.Diagram at 0x7f54992f3048>"
      ]
     },
     "execution_count": 47,
     "metadata": {},
     "output_type": "execute_result"
    }
   ],
   "source": [
    "dj.ERD(schema)"
   ]
  },
  {
   "cell_type": "markdown",
   "metadata": {},
   "source": [
    "We defined `activity` as a `longblob` so that it can store a NumPy array holding the electric activity over time. This NumPy array will be imported from the file corresponding to each neuron."
   ]
  },
  {
   "cell_type": "markdown",
   "metadata": {},
   "source": [
    "Note that our `Neuron` class inherits from `dj.Imported` instaed of `dj.Manual` like others. This is because **this table's content will depend on data imported from an external file**. The `Manual` vs `Imported` are said to specify the **tier of the table**."
   ]
  },
  {
   "cell_type": "markdown",
   "metadata": {},
   "source": [
    "## Automatically importing data for all sessions"
   ]
  },
  {
   "cell_type": "markdown",
   "metadata": {},
   "source": [
    "Because `Neuron` depends on `Session`, it understands that there may be a `Neuron` per `Session`. Using this information, DataJoint can trigger importing of a `Neuron`'s data from the data file **for each entry in the `Session`**."
   ]
  },
  {
   "cell_type": "markdown",
   "metadata": {},
   "source": [
    "We define how to **load a Neuron's information for each Session** inside a special method called `make`:"
   ]
  },
  {
   "cell_type": "code",
   "execution_count": 48,
   "metadata": {},
   "outputs": [],
   "source": [
    "@schema\n",
    "class Neuron(dj.Imported):\n",
    "    definition = \"\"\"\n",
    "    -> Session\n",
    "    ---\n",
    "    activity: longblob    # electric activity of the neuron\n",
    "    \"\"\"\n",
    "    def make(self, key):\n",
    "        # key points to a single entry in the Session table\n",
    "        \n",
    "        # use key dictionary to determine the data file path\n",
    "        data_file = \"data/data_{mouse_id}_{session_date}.npy\".format(**key)\n",
    "\n",
    "        data = np.load(data_file)\n",
    "\n",
    "        # add the loaded data as the \"activity\" column\n",
    "        key['activity'] = data\n",
    "\n",
    "        # insert the key into self\n",
    "        self.insert1(key)\n",
    "\n",
    "        print('Populated a neuron for mouse_id={mouse_id} on session_date={session_date}'.format(**key))"
   ]
  },
  {
   "cell_type": "markdown",
   "metadata": {},
   "source": [
    "Now you can **trigger `make` to be run for all `Session`** by simply calling `populate` method!"
   ]
  },
  {
   "cell_type": "code",
   "execution_count": 49,
   "metadata": {},
   "outputs": [
    {
     "name": "stdout",
     "output_type": "stream",
     "text": [
      "Populated a neuron for mouse_id=0 on session_date=2017-05-15\n",
      "Populated a neuron for mouse_id=0 on session_date=2017-05-19\n",
      "Populated a neuron for mouse_id=5 on session_date=2017-01-05\n"
     ]
    }
   ],
   "source": [
    "Neuron.populate()"
   ]
  },
  {
   "cell_type": "code",
   "execution_count": 50,
   "metadata": {},
   "outputs": [
    {
     "data": {
      "text/html": [
       "\n",
       "        \n",
       "        <style type=\"text/css\">\n",
       "            .Relation{\n",
       "                border-collapse:collapse;\n",
       "            }\n",
       "            .Relation th{\n",
       "                background: #A0A0A0; color: #ffffff; padding:4px; border:#f0e0e0 1px solid;\n",
       "                font-weight: normal; font-family: monospace; font-size: 100%;\n",
       "            }\n",
       "            .Relation td{\n",
       "                padding:4px; border:#f0e0e0 1px solid; font-size:100%;\n",
       "            }\n",
       "            .Relation tr:nth-child(odd){\n",
       "                background: #ffffff;\n",
       "            }\n",
       "            .Relation tr:nth-child(even){\n",
       "                background: #f3f1ff;\n",
       "            }\n",
       "            /* Tooltip container */\n",
       "            .djtooltip {\n",
       "            }\n",
       "            /* Tooltip text */\n",
       "            .djtooltip .djtooltiptext {\n",
       "                visibility: hidden;\n",
       "                width: 120px;\n",
       "                background-color: black;\n",
       "                color: #fff;\n",
       "                text-align: center;\n",
       "                padding: 5px 0;\n",
       "                border-radius: 6px;\n",
       "                /* Position the tooltip text - see examples below! */\n",
       "                position: absolute;\n",
       "                z-index: 1;\n",
       "            }\n",
       "            #primary {\n",
       "                font-weight: bold;\n",
       "                color: black;\n",
       "            }\n",
       "\n",
       "            #nonprimary {\n",
       "                font-weight: normal;\n",
       "                color: white;\n",
       "            }\n",
       "\n",
       "            /* Show the tooltip text when you mouse over the tooltip container */\n",
       "            .djtooltip:hover .djtooltiptext {\n",
       "                visibility: visible;\n",
       "            }\n",
       "        </style>\n",
       "        \n",
       "        <b>Experiment session</b>\n",
       "            <div style=\"max-height:1000px;max-width:1500px;overflow:auto;\">\n",
       "            <table border=\"1\" class=\"Relation\">\n",
       "                <thead> <tr style=\"text-align: right;\"> <th> <div class=\"djtooltip\">\n",
       "                                <p id=\"primary\">mouse_id</p>\n",
       "                                <span class=\"djtooltiptext\">Unique animal ID</span>\n",
       "                            </div></th><th><div class=\"djtooltip\">\n",
       "                                <p id=\"primary\">session_date</p>\n",
       "                                <span class=\"djtooltiptext\">date</span>\n",
       "                            </div></th><th><div class=\"djtooltip\">\n",
       "                                <p id=\"nonprimary\">experiment_setup</p>\n",
       "                                <span class=\"djtooltiptext\">experiment setup ID</span>\n",
       "                            </div></th><th><div class=\"djtooltip\">\n",
       "                                <p id=\"nonprimary\">experimenter</p>\n",
       "                                <span class=\"djtooltiptext\">experimenter name</span>\n",
       "                            </div> </th> </tr> </thead>\n",
       "                <tbody> <tr> <td>0</td>\n",
       "<td>2017-05-15</td>\n",
       "<td>0</td>\n",
       "<td>Edgar Y. Walker</td></tr><tr><td>0</td>\n",
       "<td>2017-05-19</td>\n",
       "<td>100</td>\n",
       "<td>Jacob Reimer</td></tr><tr><td>5</td>\n",
       "<td>2017-01-05</td>\n",
       "<td>101</td>\n",
       "<td>Jacob Reimer</td> </tr> </tbody>\n",
       "            </table>\n",
       "            \n",
       "            <p>Total: 3</p></div>\n",
       "            "
      ],
      "text/plain": [
       "*mouse_id    *session_date  experiment_set experimenter  \n",
       "+----------+ +------------+ +------------+ +------------+\n",
       "0            2017-05-15     0              Edgar Y. Walke\n",
       "0            2017-05-19     100            Jacob Reimer  \n",
       "5            2017-01-05     101            Jacob Reimer  \n",
       " (Total: 3)"
      ]
     },
     "execution_count": 50,
     "metadata": {},
     "output_type": "execute_result"
    }
   ],
   "source": [
    "Session()"
   ]
  },
  {
   "cell_type": "code",
   "execution_count": 51,
   "metadata": {},
   "outputs": [
    {
     "data": {
      "text/html": [
       "\n",
       "        \n",
       "        <style type=\"text/css\">\n",
       "            .Relation{\n",
       "                border-collapse:collapse;\n",
       "            }\n",
       "            .Relation th{\n",
       "                background: #A0A0A0; color: #ffffff; padding:4px; border:#f0e0e0 1px solid;\n",
       "                font-weight: normal; font-family: monospace; font-size: 100%;\n",
       "            }\n",
       "            .Relation td{\n",
       "                padding:4px; border:#f0e0e0 1px solid; font-size:100%;\n",
       "            }\n",
       "            .Relation tr:nth-child(odd){\n",
       "                background: #ffffff;\n",
       "            }\n",
       "            .Relation tr:nth-child(even){\n",
       "                background: #f3f1ff;\n",
       "            }\n",
       "            /* Tooltip container */\n",
       "            .djtooltip {\n",
       "            }\n",
       "            /* Tooltip text */\n",
       "            .djtooltip .djtooltiptext {\n",
       "                visibility: hidden;\n",
       "                width: 120px;\n",
       "                background-color: black;\n",
       "                color: #fff;\n",
       "                text-align: center;\n",
       "                padding: 5px 0;\n",
       "                border-radius: 6px;\n",
       "                /* Position the tooltip text - see examples below! */\n",
       "                position: absolute;\n",
       "                z-index: 1;\n",
       "            }\n",
       "            #primary {\n",
       "                font-weight: bold;\n",
       "                color: black;\n",
       "            }\n",
       "\n",
       "            #nonprimary {\n",
       "                font-weight: normal;\n",
       "                color: white;\n",
       "            }\n",
       "\n",
       "            /* Show the tooltip text when you mouse over the tooltip container */\n",
       "            .djtooltip:hover .djtooltiptext {\n",
       "                visibility: visible;\n",
       "            }\n",
       "        </style>\n",
       "        \n",
       "        <b></b>\n",
       "            <div style=\"max-height:1000px;max-width:1500px;overflow:auto;\">\n",
       "            <table border=\"1\" class=\"Relation\">\n",
       "                <thead> <tr style=\"text-align: right;\"> <th> <div class=\"djtooltip\">\n",
       "                                <p id=\"primary\">mouse_id</p>\n",
       "                                <span class=\"djtooltiptext\">Unique animal ID</span>\n",
       "                            </div></th><th><div class=\"djtooltip\">\n",
       "                                <p id=\"primary\">session_date</p>\n",
       "                                <span class=\"djtooltiptext\">date</span>\n",
       "                            </div></th><th><div class=\"djtooltip\">\n",
       "                                <p id=\"nonprimary\">activity</p>\n",
       "                                <span class=\"djtooltiptext\">electric activity of the neuron</span>\n",
       "                            </div> </th> </tr> </thead>\n",
       "                <tbody> <tr> <td>0</td>\n",
       "<td>2017-05-15</td>\n",
       "<td>=BLOB=</td></tr><tr><td>0</td>\n",
       "<td>2017-05-19</td>\n",
       "<td>=BLOB=</td></tr><tr><td>5</td>\n",
       "<td>2017-01-05</td>\n",
       "<td>=BLOB=</td> </tr> </tbody>\n",
       "            </table>\n",
       "            \n",
       "            <p>Total: 3</p></div>\n",
       "            "
      ],
      "text/plain": [
       "*mouse_id    *session_date  activity  \n",
       "+----------+ +------------+ +--------+\n",
       "0            2017-05-15     =BLOB=    \n",
       "0            2017-05-19     =BLOB=    \n",
       "5            2017-01-05     =BLOB=    \n",
       " (Total: 3)"
      ]
     },
     "execution_count": 51,
     "metadata": {},
     "output_type": "execute_result"
    }
   ],
   "source": [
    "Neuron()"
   ]
  },
  {
   "cell_type": "markdown",
   "metadata": {},
   "source": [
    "DataJoint has successfully discovered data for all three sessions and **populated** `Neuron` table with the content of the data files!"
   ]
  },
  {
   "cell_type": "markdown",
   "metadata": {},
   "source": [
    "# Computations in data pipeline"
   ]
  },
  {
   "cell_type": "markdown",
   "metadata": {},
   "source": [
    "Now we have successfully imported all data we have into our pipeline, it's time for us to start analyzing them! "
   ]
  },
  {
   "cell_type": "markdown",
   "metadata": {},
   "source": [
    "In DataJoint, you can also represent **things** you computed as entries in a table. Here the key is that you think more in terms of **what** rather than **how**!"
   ]
  },
  {
   "cell_type": "markdown",
   "metadata": {},
   "source": [
    "Now, let's say that we want to compute the satististics, such as mean, standard deviation, and maximum value of each of our neuron's activity traces. Hence we want to compute the neuron's **activity statistics** for each neuron!"
   ]
  },
  {
   "cell_type": "markdown",
   "metadata": {},
   "source": [
    "So the new \"thing\" or entity here is `ActivityStatistics`, where each entry corresponds to the statistics of a single `Neuron`. Let's start designing the table, paying special attention to the dependencies."
   ]
  },
  {
   "cell_type": "markdown",
   "metadata": {},
   "source": [
    "### Statistics of neuron activities"
   ]
  },
  {
   "cell_type": "markdown",
   "metadata": {},
   "source": [
    "Let's go ahead and work out the definition of the table."
   ]
  },
  {
   "cell_type": "code",
   "execution_count": 52,
   "metadata": {},
   "outputs": [],
   "source": [
    "@schema\n",
    "class ActivityStatistics(dj.Computed):\n",
    "    definition = \"\"\"\n",
    "    -> Neuron\n",
    "    ---\n",
    "    mean: float    # mean activity\n",
    "    stdev: float   # standard deviation of activity\n",
    "    max: float     # maximum activity\n",
    "    \"\"\""
   ]
  },
  {
   "cell_type": "markdown",
   "metadata": {},
   "source": [
    "Did you notice that we are now inheriting from `dj.Computed`?  `Computed` is yet another table tier that signifies that **the entries of this table are computed using data in other tables**. `Computed` tables are represented as red circles in the ERD."
   ]
  },
  {
   "cell_type": "code",
   "execution_count": 53,
   "metadata": {},
   "outputs": [
    {
     "data": {
      "image/svg+xml": [
       "<svg height=\"247pt\" viewBox=\"0.00 0.00 111.00 247.00\" width=\"111pt\" xmlns=\"http://www.w3.org/2000/svg\" xmlns:xlink=\"http://www.w3.org/1999/xlink\">\n",
       "<g class=\"graph\" id=\"graph0\" transform=\"scale(1 1) rotate(0) translate(4 243)\">\n",
       "<title>%3</title>\n",
       "<polygon fill=\"#ffffff\" points=\"-4,4 -4,-243 107,-243 107,4 -4,4\" stroke=\"transparent\"/>\n",
       "<!-- Session -->\n",
       "<g class=\"node\" id=\"node1\">\n",
       "<title>Session</title>\n",
       "<g id=\"a_node1\"><a xlink:title=\"→ Mouse\r",
       "session_date         \r",
       "------------------------------\r",
       "experiment_setup     \r",
       "experimenter         \r",
       "\">\n",
       "<polygon fill=\"#00ff00\" fill-opacity=\"0.188235\" points=\"81.5,-168 21.5,-168 21.5,-133 81.5,-133 81.5,-168\" stroke=\"#00ff00\" stroke-opacity=\"0.188235\"/>\n",
       "<text fill=\"#006400\" font-family=\"arial\" font-size=\"12.00\" text-anchor=\"start\" text-decoration=\"underline\" x=\"29.5\" y=\"-148.4\">Session</text>\n",
       "</a>\n",
       "</g>\n",
       "</g>\n",
       "<!-- Neuron -->\n",
       "<g class=\"node\" id=\"node2\">\n",
       "<title>Neuron</title>\n",
       "<g id=\"a_node2\"><a xlink:title=\"→ Session\r",
       "------------------------------\r",
       "activity             \r",
       "\">\n",
       "<ellipse cx=\"51.5\" cy=\"-79.5\" fill=\"#00007f\" fill-opacity=\"0.250980\" rx=\"35\" ry=\"17.5\" stroke=\"#00007f\" stroke-opacity=\"0.250980\"/>\n",
       "<text fill=\"#00007f\" font-family=\"arial\" font-size=\"12.00\" text-anchor=\"middle\" x=\"51.5\" y=\"-76.4\">Neuron</text>\n",
       "</a>\n",
       "</g>\n",
       "</g>\n",
       "<!-- Session&#45;&gt;Neuron -->\n",
       "<g class=\"edge\" id=\"edge1\">\n",
       "<title>Session-&gt;Neuron</title>\n",
       "<path d=\"M51.5,-132.9494C51.5,-122.1083 51.5,-108.2366 51.5,-97.3418\" fill=\"none\" stroke=\"#000000\" stroke-opacity=\"0.250980\" stroke-width=\"2\"/>\n",
       "</g>\n",
       "<!-- ActivityStatistics -->\n",
       "<g class=\"node\" id=\"node4\">\n",
       "<title>ActivityStatistics</title>\n",
       "<g id=\"a_node4\"><a xlink:title=\"→ Neuron\r",
       "------------------------------\r",
       "mean                 \r",
       "stdev                \r",
       "max                  \r",
       "\">\n",
       "<ellipse cx=\"51.5\" cy=\"-13\" fill=\"#ff0000\" fill-opacity=\"0.125490\" rx=\"13\" ry=\"13\" stroke=\"#ff0000\" stroke-opacity=\"0.125490\"/>\n",
       "<text fill=\"#7f0000\" font-family=\"arial\" font-size=\"12.00\" text-anchor=\"middle\" x=\"51.5\" y=\"-9.9\">ActivityStatistics</text>\n",
       "</a>\n",
       "</g>\n",
       "</g>\n",
       "<!-- Neuron&#45;&gt;ActivityStatistics -->\n",
       "<g class=\"edge\" id=\"edge2\">\n",
       "<title>Neuron-&gt;ActivityStatistics</title>\n",
       "<path d=\"M51.5,-61.6792C51.5,-50.4451 51.5,-36.1917 51.5,-26.0168\" fill=\"none\" stroke=\"#000000\" stroke-opacity=\"0.250980\" stroke-width=\"2\"/>\n",
       "</g>\n",
       "<!-- Mouse -->\n",
       "<g class=\"node\" id=\"node3\">\n",
       "<title>Mouse</title>\n",
       "<g id=\"a_node3\"><a xlink:title=\"mouse_id             \r",
       "------------------------------\r",
       "dob=null             \r",
       "sex=&quot;unknown&quot;        \r",
       "\">\n",
       "<polygon fill=\"#00ff00\" fill-opacity=\"0.188235\" points=\"78,-239 25,-239 25,-204 78,-204 78,-239\" stroke=\"#00ff00\" stroke-opacity=\"0.188235\"/>\n",
       "<text fill=\"#006400\" font-family=\"arial\" font-size=\"12.00\" text-anchor=\"start\" text-decoration=\"underline\" x=\"33\" y=\"-219.4\">Mouse</text>\n",
       "</a>\n",
       "</g>\n",
       "</g>\n",
       "<!-- Mouse&#45;&gt;Session -->\n",
       "<g class=\"edge\" id=\"edge3\">\n",
       "<title>Mouse-&gt;Session</title>\n",
       "<path d=\"M51.5,-203.9494C51.5,-193.1083 51.5,-179.2366 51.5,-168.3418\" fill=\"none\" stroke=\"#000000\" stroke-opacity=\"0.250980\" stroke-width=\".75\"/>\n",
       "</g>\n",
       "</g>\n",
       "</svg>"
      ],
      "text/plain": [
       "<datajoint.diagram.Diagram at 0x7f5499227f28>"
      ]
     },
     "execution_count": 53,
     "metadata": {},
     "output_type": "execute_result"
    }
   ],
   "source": [
    "dj.ERD(schema)"
   ]
  },
  {
   "cell_type": "markdown",
   "metadata": {},
   "source": [
    "Just like the `Imported` tables, `Computed` tables make use of the same `make` and `populate` logic for defining new entries in the table. Let's go ahead and implement `make` method."
   ]
  },
  {
   "cell_type": "code",
   "execution_count": 54,
   "metadata": {},
   "outputs": [],
   "source": [
    "@schema\n",
    "class ActivityStatistics(dj.Computed):\n",
    "    definition = \"\"\"\n",
    "    -> Neuron\n",
    "    ---\n",
    "    mean: float    # mean activity\n",
    "    stdev: float   # standard deviation of activity\n",
    "    max: float     # maximum activity\n",
    "    \"\"\"\n",
    "    \n",
    "    def make(self, key):\n",
    "        # each key corresponds to a Neuron\n",
    "        \n",
    "        # get the activity data for the specific neuron\n",
    "        activity = (Neuron() & key).fetch1('activity') \n",
    "\n",
    "        # compute various statistics on activity\n",
    "        key['mean'] = activity.mean()   # compute mean\n",
    "        key['stdev'] = activity.std()   # compute standard deviation\n",
    "        key['max'] = activity.max()     # compute max\n",
    "        self.insert1(key)\n",
    "        print('Computed statistics for mouse_id {mouse_id} session_date {session_date}'.format(**key))"
   ]
  },
  {
   "cell_type": "markdown",
   "metadata": {},
   "source": [
    "Let's go ahead and populate the table."
   ]
  },
  {
   "cell_type": "code",
   "execution_count": 55,
   "metadata": {},
   "outputs": [
    {
     "name": "stdout",
     "output_type": "stream",
     "text": [
      "Computed statistics for mouse_id 0 session_date 2017-05-15\n",
      "Computed statistics for mouse_id 0 session_date 2017-05-19\n",
      "Computed statistics for mouse_id 5 session_date 2017-01-05\n"
     ]
    }
   ],
   "source": [
    "ActivityStatistics.populate()"
   ]
  },
  {
   "cell_type": "code",
   "execution_count": 56,
   "metadata": {},
   "outputs": [
    {
     "data": {
      "text/html": [
       "\n",
       "        \n",
       "        <style type=\"text/css\">\n",
       "            .Relation{\n",
       "                border-collapse:collapse;\n",
       "            }\n",
       "            .Relation th{\n",
       "                background: #A0A0A0; color: #ffffff; padding:4px; border:#f0e0e0 1px solid;\n",
       "                font-weight: normal; font-family: monospace; font-size: 100%;\n",
       "            }\n",
       "            .Relation td{\n",
       "                padding:4px; border:#f0e0e0 1px solid; font-size:100%;\n",
       "            }\n",
       "            .Relation tr:nth-child(odd){\n",
       "                background: #ffffff;\n",
       "            }\n",
       "            .Relation tr:nth-child(even){\n",
       "                background: #f3f1ff;\n",
       "            }\n",
       "            /* Tooltip container */\n",
       "            .djtooltip {\n",
       "            }\n",
       "            /* Tooltip text */\n",
       "            .djtooltip .djtooltiptext {\n",
       "                visibility: hidden;\n",
       "                width: 120px;\n",
       "                background-color: black;\n",
       "                color: #fff;\n",
       "                text-align: center;\n",
       "                padding: 5px 0;\n",
       "                border-radius: 6px;\n",
       "                /* Position the tooltip text - see examples below! */\n",
       "                position: absolute;\n",
       "                z-index: 1;\n",
       "            }\n",
       "            #primary {\n",
       "                font-weight: bold;\n",
       "                color: black;\n",
       "            }\n",
       "\n",
       "            #nonprimary {\n",
       "                font-weight: normal;\n",
       "                color: white;\n",
       "            }\n",
       "\n",
       "            /* Show the tooltip text when you mouse over the tooltip container */\n",
       "            .djtooltip:hover .djtooltiptext {\n",
       "                visibility: visible;\n",
       "            }\n",
       "        </style>\n",
       "        \n",
       "        <b></b>\n",
       "            <div style=\"max-height:1000px;max-width:1500px;overflow:auto;\">\n",
       "            <table border=\"1\" class=\"Relation\">\n",
       "                <thead> <tr style=\"text-align: right;\"> <th> <div class=\"djtooltip\">\n",
       "                                <p id=\"primary\">mouse_id</p>\n",
       "                                <span class=\"djtooltiptext\">Unique animal ID</span>\n",
       "                            </div></th><th><div class=\"djtooltip\">\n",
       "                                <p id=\"primary\">session_date</p>\n",
       "                                <span class=\"djtooltiptext\">date</span>\n",
       "                            </div></th><th><div class=\"djtooltip\">\n",
       "                                <p id=\"nonprimary\">mean</p>\n",
       "                                <span class=\"djtooltiptext\">mean activity</span>\n",
       "                            </div></th><th><div class=\"djtooltip\">\n",
       "                                <p id=\"nonprimary\">stdev</p>\n",
       "                                <span class=\"djtooltiptext\">standard deviation of activity</span>\n",
       "                            </div></th><th><div class=\"djtooltip\">\n",
       "                                <p id=\"nonprimary\">max</p>\n",
       "                                <span class=\"djtooltiptext\">maximum activity</span>\n",
       "                            </div> </th> </tr> </thead>\n",
       "                <tbody> <tr> <td>0</td>\n",
       "<td>2017-05-15</td>\n",
       "<td>0.207357</td>\n",
       "<td>0.400867</td>\n",
       "<td>2.48161</td></tr><tr><td>0</td>\n",
       "<td>2017-05-19</td>\n",
       "<td>0.13274</td>\n",
       "<td>0.291462</td>\n",
       "<td>1.82805</td></tr><tr><td>5</td>\n",
       "<td>2017-01-05</td>\n",
       "<td>0.0891786</td>\n",
       "<td>0.236412</td>\n",
       "<td>1.37389</td> </tr> </tbody>\n",
       "            </table>\n",
       "            \n",
       "            <p>Total: 3</p></div>\n",
       "            "
      ],
      "text/plain": [
       "*mouse_id    *session_date  mean          stdev        max        \n",
       "+----------+ +------------+ +-----------+ +----------+ +---------+\n",
       "0            2017-05-15     0.207357      0.400867     2.48161    \n",
       "0            2017-05-19     0.13274       0.291462     1.82805    \n",
       "5            2017-01-05     0.0891786     0.236412     1.37389    \n",
       " (Total: 3)"
      ]
     },
     "execution_count": 56,
     "metadata": {},
     "output_type": "execute_result"
    }
   ],
   "source": [
    "ActivityStatistics()"
   ]
  },
  {
   "cell_type": "markdown",
   "metadata": {},
   "source": [
    "Voila!! You have computed statistics for each neuron activity!"
   ]
  },
  {
   "cell_type": "markdown",
   "metadata": {},
   "source": [
    "# Spike detection"
   ]
  },
  {
   "cell_type": "markdown",
   "metadata": {},
   "source": [
    "Using a similar mechanism, we can implement `Spikes` table that performs rudimentary **spike detection** on the data found in the `Neuron`'s activity."
   ]
  },
  {
   "cell_type": "code",
   "execution_count": 57,
   "metadata": {},
   "outputs": [],
   "source": [
    "# special syntax to get only the primary keys for all entries\n",
    "keys = Neuron.fetch('KEY')"
   ]
  },
  {
   "cell_type": "code",
   "execution_count": 58,
   "metadata": {},
   "outputs": [],
   "source": [
    "# fetch all activities - returned as NumPy array of NumPy arrays\n",
    "activities = (Neuron & keys).fetch('activity')"
   ]
  },
  {
   "cell_type": "code",
   "execution_count": 59,
   "metadata": {},
   "outputs": [
    {
     "data": {
      "image/png": "[encoded data removed]",
      "text/plain": [
       "<Figure size 1152x288 with 3 Axes>"
      ]
     },
     "metadata": {
      "needs_background": "light"
     },
     "output_type": "display_data"
    }
   ],
   "source": [
    "fig, axs = plt.subplots(1, len(activities), figsize=(16, 4))\n",
    "for activity, ax in zip(activities, axs.ravel()):\n",
    "    ax.plot(activity)\n",
    "    ax.set_xlabel('Time')\n",
    "    ax.set_ylabel('Activity')\n",
    "\n",
    "fig.tight_layout()"
   ]
  },
  {
   "cell_type": "markdown",
   "metadata": {},
   "source": [
    "Let's now focus on one trace instead."
   ]
  },
  {
   "cell_type": "code",
   "execution_count": 60,
   "metadata": {},
   "outputs": [],
   "source": [
    "key = keys[0]"
   ]
  },
  {
   "cell_type": "code",
   "execution_count": 61,
   "metadata": {},
   "outputs": [],
   "source": [
    "activity = (Neuron & key).fetch1('activity')"
   ]
  },
  {
   "cell_type": "code",
   "execution_count": 62,
   "metadata": {},
   "outputs": [
    {
     "data": {
      "text/plain": [
       "(0, 300)"
      ]
     },
     "execution_count": 62,
     "metadata": {},
     "output_type": "execute_result"
    },
    {
     "data": {
      "image/png": "[encoded data removed]",
      "text/plain": [
       "<Figure size 432x288 with 1 Axes>"
      ]
     },
     "metadata": {
      "needs_background": "light"
     },
     "output_type": "display_data"
    }
   ],
   "source": [
    "plt.plot(activity)\n",
    "plt.xlabel('Time')\n",
    "plt.ylabel('Activity')\n",
    "plt.xlim([0, 300])"
   ]
  },
  {
   "cell_type": "markdown",
   "metadata": {},
   "source": [
    "Perhaps we can use threshold to detect when a spike occurs. Threshold of `0.5` may be a good start."
   ]
  },
  {
   "cell_type": "code",
   "execution_count": 63,
   "metadata": {},
   "outputs": [
    {
     "data": {
      "text/plain": [
       "(0, 300)"
      ]
     },
     "execution_count": 63,
     "metadata": {},
     "output_type": "execute_result"
    },
    {
     "data": {
      "image/png": "[encoded data removed]",
      "text/plain": [
       "<Figure size 432x288 with 1 Axes>"
      ]
     },
     "metadata": {
      "needs_background": "light"
     },
     "output_type": "display_data"
    }
   ],
   "source": [
    "threshold = 0.5\n",
    "\n",
    "# find activity above threshold\n",
    "above_thrs = (activity > threshold).astype(np.int)   \n",
    "\n",
    "plt.plot(activity)\n",
    "plt.plot(above_thrs)\n",
    "plt.xlabel('Time')\n",
    "plt.xlim([0, 300])"
   ]
  },
  {
   "cell_type": "markdown",
   "metadata": {},
   "source": [
    "We want to find out **when** it crossed the threshold. That is, find time bins where `above_thrs` goes from 0 (`False`) to 1 (`True`)."
   ]
  },
  {
   "cell_type": "code",
   "execution_count": 64,
   "metadata": {},
   "outputs": [
    {
     "data": {
      "text/plain": [
       "(0, 300)"
      ]
     },
     "execution_count": 64,
     "metadata": {},
     "output_type": "execute_result"
    },
    {
     "data": {
      "image/png": "[encoded data removed]",
      "text/plain": [
       "<Figure size 432x288 with 1 Axes>"
      ]
     },
     "metadata": {
      "needs_background": "light"
     },
     "output_type": "display_data"
    }
   ],
   "source": [
    "rising = (np.diff(above_thrs) > 0).astype(np.int)   # find rising edge of crossing threshold\n",
    "spikes = np.hstack((0, rising))    # prepend 0 to account for shortening due to np.diff\n",
    "\n",
    "plt.plot(activity)\n",
    "plt.plot(above_thrs)\n",
    "plt.plot(np.where(spikes>0), 1,  'ro'); # plot only spike points\n",
    "plt.xlabel('Time')\n",
    "plt.xlim([0, 300])"
   ]
  },
  {
   "cell_type": "markdown",
   "metadata": {},
   "source": [
    "Finally, let's also compute the spike counts"
   ]
  },
  {
   "cell_type": "code",
   "execution_count": 65,
   "metadata": {},
   "outputs": [
    {
     "data": {
      "text/plain": [
       "26"
      ]
     },
     "execution_count": 65,
     "metadata": {},
     "output_type": "execute_result"
    }
   ],
   "source": [
    "count = spikes.sum()   # compute total spike counts\n",
    "count"
   ]
  },
  {
   "cell_type": "markdown",
   "metadata": {},
   "source": [
    "Here is our complete spike detection algorithm:"
   ]
  },
  {
   "cell_type": "code",
   "execution_count": 66,
   "metadata": {},
   "outputs": [
    {
     "data": {
      "image/png": "[encoded data removed]",
      "text/plain": [
       "<Figure size 432x288 with 1 Axes>"
      ]
     },
     "metadata": {
      "needs_background": "light"
     },
     "output_type": "display_data"
    }
   ],
   "source": [
    "threshold = 0.5   # try experimenting with this\n",
    "\n",
    "# find activity above threshold\n",
    "above_thrs = (activity > threshold).astype(np.int) \n",
    "\n",
    "rising = (np.diff(above_thrs) > 0).astype(np.int)   # find rising edge of crossing threshold\n",
    "spikes = np.hstack((0, rising))    # prepend 0 to account for shortening due to np.diff\n",
    "\n",
    "count = spikes.sum()   # compute total spike counts\n",
    "\n",
    "\n",
    "plt.plot(activity)\n",
    "plt.plot(above_thrs)\n",
    "plt.plot(np.where(spikes>0), 1,  'ro'); # plot only spike points\n",
    "plt.xlabel('Time')\n",
    "plt.title('Total spike counts: {}'.format(count));"
   ]
  },
  {
   "cell_type": "markdown",
   "metadata": {},
   "source": [
    "Now notice that the exact spikes you detect depend on the value of the `threshold`. Therefore, the **`threshold` is a parameter** for our spike detection computation. Rather than fixing the value of the threshold, we might want to try different values and see what works well.\n",
    "\n",
    "In other words, you want to compute `Spikes` for a **combination** of `Neuron`s and different `threshold` values. To do this while still taking advantage of the `make` and `populate` logic, you would want to define a table to house parameters for spike detection in a `Lookup` table!"
   ]
  },
  {
   "cell_type": "markdown",
   "metadata": {},
   "source": [
    "## Parameter **Lookup** table"
   ]
  },
  {
   "cell_type": "markdown",
   "metadata": {},
   "source": [
    "In DataJoint we house things like parameters in a **look up table**."
   ]
  },
  {
   "cell_type": "code",
   "execution_count": 67,
   "metadata": {},
   "outputs": [],
   "source": [
    "@schema\n",
    "class SpikeDetectionParam(dj.Lookup):\n",
    "    definition = \"\"\"\n",
    "    sdp_id: int      # unique id for spike detection parameter set\n",
    "    ---\n",
    "    threshold: float   # threshold for spike detection\n",
    "    \"\"\""
   ]
  },
  {
   "cell_type": "code",
   "execution_count": 68,
   "metadata": {},
   "outputs": [
    {
     "data": {
      "image/svg+xml": [
       "<svg height=\"247pt\" viewBox=\"0.00 0.00 215.00 247.00\" width=\"215pt\" xmlns=\"http://www.w3.org/2000/svg\" xmlns:xlink=\"http://www.w3.org/1999/xlink\">\n",
       "<g class=\"graph\" id=\"graph0\" transform=\"scale(1 1) rotate(0) translate(4 243)\">\n",
       "<title>%3</title>\n",
       "<polygon fill=\"#ffffff\" points=\"-4,4 -4,-243 211,-243 211,4 -4,4\" stroke=\"transparent\"/>\n",
       "<!-- SpikeDetectionParam -->\n",
       "<g class=\"node\" id=\"node1\">\n",
       "<title>SpikeDetectionParam</title>\n",
       "<g id=\"a_node1\"><a xlink:title=\"sdp_id               \r",
       "------------------------------\r",
       "threshold            \r",
       "\">\n",
       "<polygon fill=\"#000000\" fill-opacity=\"0.125490\" points=\"111,-239 0,-239 0,-204 111,-204 111,-239\" stroke=\"transparent\"/>\n",
       "<text fill=\"#000000\" font-family=\"arial\" font-size=\"10.00\" text-anchor=\"start\" text-decoration=\"underline\" x=\"8\" y=\"-220\">SpikeDetectionParam</text>\n",
       "</a>\n",
       "</g>\n",
       "</g>\n",
       "<!-- Mouse -->\n",
       "<g class=\"node\" id=\"node2\">\n",
       "<title>Mouse</title>\n",
       "<g id=\"a_node2\"><a xlink:title=\"mouse_id             \r",
       "------------------------------\r",
       "dob=null             \r",
       "sex=&quot;unknown&quot;        \r",
       "\">\n",
       "<polygon fill=\"#00ff00\" fill-opacity=\"0.188235\" points=\"182,-239 129,-239 129,-204 182,-204 182,-239\" stroke=\"#00ff00\" stroke-opacity=\"0.188235\"/>\n",
       "<text fill=\"#006400\" font-family=\"arial\" font-size=\"12.00\" text-anchor=\"start\" text-decoration=\"underline\" x=\"137\" y=\"-219.4\">Mouse</text>\n",
       "</a>\n",
       "</g>\n",
       "</g>\n",
       "<!-- Session -->\n",
       "<g class=\"node\" id=\"node4\">\n",
       "<title>Session</title>\n",
       "<g id=\"a_node4\"><a xlink:title=\"→ Mouse\r",
       "session_date         \r",
       "------------------------------\r",
       "experiment_setup     \r",
       "experimenter         \r",
       "\">\n",
       "<polygon fill=\"#00ff00\" fill-opacity=\"0.188235\" points=\"185.5,-168 125.5,-168 125.5,-133 185.5,-133 185.5,-168\" stroke=\"#00ff00\" stroke-opacity=\"0.188235\"/>\n",
       "<text fill=\"#006400\" font-family=\"arial\" font-size=\"12.00\" text-anchor=\"start\" text-decoration=\"underline\" x=\"133.5\" y=\"-148.4\">Session</text>\n",
       "</a>\n",
       "</g>\n",
       "</g>\n",
       "<!-- Mouse&#45;&gt;Session -->\n",
       "<g class=\"edge\" id=\"edge1\">\n",
       "<title>Mouse-&gt;Session</title>\n",
       "<path d=\"M155.5,-203.9494C155.5,-193.1083 155.5,-179.2366 155.5,-168.3418\" fill=\"none\" stroke=\"#000000\" stroke-opacity=\"0.250980\" stroke-width=\".75\"/>\n",
       "</g>\n",
       "<!-- ActivityStatistics -->\n",
       "<g class=\"node\" id=\"node3\">\n",
       "<title>ActivityStatistics</title>\n",
       "<g id=\"a_node3\"><a xlink:title=\"→ Neuron\r",
       "------------------------------\r",
       "mean                 \r",
       "stdev                \r",
       "max                  \r",
       "\">\n",
       "<ellipse cx=\"155.5\" cy=\"-13\" fill=\"#ff0000\" fill-opacity=\"0.125490\" rx=\"13\" ry=\"13\" stroke=\"#ff0000\" stroke-opacity=\"0.125490\"/>\n",
       "<text fill=\"#7f0000\" font-family=\"arial\" font-size=\"12.00\" text-anchor=\"middle\" x=\"155.5\" y=\"-9.9\">ActivityStatistics</text>\n",
       "</a>\n",
       "</g>\n",
       "</g>\n",
       "<!-- Neuron -->\n",
       "<g class=\"node\" id=\"node5\">\n",
       "<title>Neuron</title>\n",
       "<g id=\"a_node5\"><a xlink:title=\"→ Session\r",
       "------------------------------\r",
       "activity             \r",
       "\">\n",
       "<ellipse cx=\"155.5\" cy=\"-79.5\" fill=\"#00007f\" fill-opacity=\"0.250980\" rx=\"35\" ry=\"17.5\" stroke=\"#00007f\" stroke-opacity=\"0.250980\"/>\n",
       "<text fill=\"#00007f\" font-family=\"arial\" font-size=\"12.00\" text-anchor=\"middle\" x=\"155.5\" y=\"-76.4\">Neuron</text>\n",
       "</a>\n",
       "</g>\n",
       "</g>\n",
       "<!-- Session&#45;&gt;Neuron -->\n",
       "<g class=\"edge\" id=\"edge2\">\n",
       "<title>Session-&gt;Neuron</title>\n",
       "<path d=\"M155.5,-132.9494C155.5,-122.1083 155.5,-108.2366 155.5,-97.3418\" fill=\"none\" stroke=\"#000000\" stroke-opacity=\"0.250980\" stroke-width=\"2\"/>\n",
       "</g>\n",
       "<!-- Neuron&#45;&gt;ActivityStatistics -->\n",
       "<g class=\"edge\" id=\"edge3\">\n",
       "<title>Neuron-&gt;ActivityStatistics</title>\n",
       "<path d=\"M155.5,-61.6792C155.5,-50.4451 155.5,-36.1917 155.5,-26.0168\" fill=\"none\" stroke=\"#000000\" stroke-opacity=\"0.250980\" stroke-width=\"2\"/>\n",
       "</g>\n",
       "</g>\n",
       "</svg>"
      ],
      "text/plain": [
       "<datajoint.diagram.Diagram at 0x7f549926d1d0>"
      ]
     },
     "execution_count": 68,
     "metadata": {},
     "output_type": "execute_result"
    }
   ],
   "source": [
    "dj.ERD(schema)"
   ]
  },
  {
   "cell_type": "markdown",
   "metadata": {},
   "source": [
    "### Defining `Spikes` table"
   ]
  },
  {
   "cell_type": "markdown",
   "metadata": {},
   "source": [
    "Now let's take everything together and define the `Spikes` table. Here each entry of the table will be *a set of spikes* for a single neuron, using a particular value of the `SpikeDetectionParam`. In other words, any particular entry of the `Spikes` table is determined by **a combination of a neuron and spike detection parameters**.\n",
    "\n",
    "We capture this by depending on both `Neuron` and `SpikeDetectionParam`. For each spike set, we want to store the detected spikes and the total number of spikes. The table definition will look something like:"
   ]
  },
  {
   "cell_type": "code",
   "execution_count": 69,
   "metadata": {},
   "outputs": [],
   "source": [
    "@schema\n",
    "class Spikes(dj.Computed):\n",
    "    definition = \"\"\"\n",
    "    -> Neuron\n",
    "    -> SpikeDetectionParam\n",
    "    ---\n",
    "    spikes: longblob     # detected spikes\n",
    "    count: int           # total number of detected spikes\n",
    "    \"\"\""
   ]
  },
  {
   "cell_type": "code",
   "execution_count": 70,
   "metadata": {},
   "outputs": [
    {
     "data": {
      "image/svg+xml": [
       "<svg height=\"247pt\" viewBox=\"0.00 0.00 224.00 247.00\" width=\"224pt\" xmlns=\"http://www.w3.org/2000/svg\" xmlns:xlink=\"http://www.w3.org/1999/xlink\">\n",
       "<g class=\"graph\" id=\"graph0\" transform=\"scale(1 1) rotate(0) translate(4 243)\">\n",
       "<title>%3</title>\n",
       "<polygon fill=\"#ffffff\" points=\"-4,4 -4,-243 220,-243 220,4 -4,4\" stroke=\"transparent\"/>\n",
       "<!-- SpikeDetectionParam -->\n",
       "<g class=\"node\" id=\"node1\">\n",
       "<title>SpikeDetectionParam</title>\n",
       "<g id=\"a_node1\"><a xlink:title=\"sdp_id               \r",
       "------------------------------\r",
       "threshold            \r",
       "\">\n",
       "<polygon fill=\"#000000\" fill-opacity=\"0.125490\" points=\"111,-97 0,-97 0,-62 111,-62 111,-97\" stroke=\"transparent\"/>\n",
       "<text fill=\"#000000\" font-family=\"arial\" font-size=\"10.00\" text-anchor=\"start\" text-decoration=\"underline\" x=\"8\" y=\"-78\">SpikeDetectionParam</text>\n",
       "</a>\n",
       "</g>\n",
       "</g>\n",
       "<!-- Spikes -->\n",
       "<g class=\"node\" id=\"node3\">\n",
       "<title>Spikes</title>\n",
       "<g id=\"a_node3\"><a xlink:title=\"→ Neuron\r",
       "→ SpikeDetectionParam\r",
       "------------------------------\r",
       "spikes               \r",
       "count                \r",
       "\">\n",
       "<ellipse cx=\"62.5\" cy=\"-13\" fill=\"#ff0000\" fill-opacity=\"0.125490\" rx=\"13\" ry=\"13\" stroke=\"#ff0000\" stroke-opacity=\"0.125490\"/>\n",
       "<text fill=\"#7f0000\" font-family=\"arial\" font-size=\"12.00\" text-anchor=\"middle\" x=\"62.5\" y=\"-9.9\">Spikes</text>\n",
       "</a>\n",
       "</g>\n",
       "</g>\n",
       "<!-- SpikeDetectionParam&#45;&gt;Spikes -->\n",
       "<g class=\"edge\" id=\"edge1\">\n",
       "<title>SpikeDetectionParam-&gt;Spikes</title>\n",
       "<path d=\"M57.3759,-61.6792C58.5584,-50.4451 60.0588,-36.1917 61.1298,-26.0168\" fill=\"none\" stroke=\"#000000\" stroke-opacity=\"0.250980\" stroke-width=\".75\"/>\n",
       "</g>\n",
       "<!-- Mouse -->\n",
       "<g class=\"node\" id=\"node2\">\n",
       "<title>Mouse</title>\n",
       "<g id=\"a_node2\"><a xlink:title=\"mouse_id             \r",
       "------------------------------\r",
       "dob=null             \r",
       "sex=&quot;unknown&quot;        \r",
       "\">\n",
       "<polygon fill=\"#00ff00\" fill-opacity=\"0.188235\" points=\"191,-239 138,-239 138,-204 191,-204 191,-239\" stroke=\"#00ff00\" stroke-opacity=\"0.188235\"/>\n",
       "<text fill=\"#006400\" font-family=\"arial\" font-size=\"12.00\" text-anchor=\"start\" text-decoration=\"underline\" x=\"146\" y=\"-219.4\">Mouse</text>\n",
       "</a>\n",
       "</g>\n",
       "</g>\n",
       "<!-- Session -->\n",
       "<g class=\"node\" id=\"node5\">\n",
       "<title>Session</title>\n",
       "<g id=\"a_node5\"><a xlink:title=\"→ Mouse\r",
       "session_date         \r",
       "------------------------------\r",
       "experiment_setup     \r",
       "experimenter         \r",
       "\">\n",
       "<polygon fill=\"#00ff00\" fill-opacity=\"0.188235\" points=\"194.5,-168 134.5,-168 134.5,-133 194.5,-133 194.5,-168\" stroke=\"#00ff00\" stroke-opacity=\"0.188235\"/>\n",
       "<text fill=\"#006400\" font-family=\"arial\" font-size=\"12.00\" text-anchor=\"start\" text-decoration=\"underline\" x=\"142.5\" y=\"-148.4\">Session</text>\n",
       "</a>\n",
       "</g>\n",
       "</g>\n",
       "<!-- Mouse&#45;&gt;Session -->\n",
       "<g class=\"edge\" id=\"edge2\">\n",
       "<title>Mouse-&gt;Session</title>\n",
       "<path d=\"M164.5,-203.9494C164.5,-193.1083 164.5,-179.2366 164.5,-168.3418\" fill=\"none\" stroke=\"#000000\" stroke-opacity=\"0.250980\" stroke-width=\".75\"/>\n",
       "</g>\n",
       "<!-- ActivityStatistics -->\n",
       "<g class=\"node\" id=\"node4\">\n",
       "<title>ActivityStatistics</title>\n",
       "<g id=\"a_node4\"><a xlink:title=\"→ Neuron\r",
       "------------------------------\r",
       "mean                 \r",
       "stdev                \r",
       "max                  \r",
       "\">\n",
       "<ellipse cx=\"164.5\" cy=\"-13\" fill=\"#ff0000\" fill-opacity=\"0.125490\" rx=\"13\" ry=\"13\" stroke=\"#ff0000\" stroke-opacity=\"0.125490\"/>\n",
       "<text fill=\"#7f0000\" font-family=\"arial\" font-size=\"12.00\" text-anchor=\"middle\" x=\"164.5\" y=\"-9.9\">ActivityStatistics</text>\n",
       "</a>\n",
       "</g>\n",
       "</g>\n",
       "<!-- Neuron -->\n",
       "<g class=\"node\" id=\"node6\">\n",
       "<title>Neuron</title>\n",
       "<g id=\"a_node6\"><a xlink:title=\"→ Session\r",
       "------------------------------\r",
       "activity             \r",
       "\">\n",
       "<ellipse cx=\"164.5\" cy=\"-79.5\" fill=\"#00007f\" fill-opacity=\"0.250980\" rx=\"35\" ry=\"17.5\" stroke=\"#00007f\" stroke-opacity=\"0.250980\"/>\n",
       "<text fill=\"#00007f\" font-family=\"arial\" font-size=\"12.00\" text-anchor=\"middle\" x=\"164.5\" y=\"-76.4\">Neuron</text>\n",
       "</a>\n",
       "</g>\n",
       "</g>\n",
       "<!-- Session&#45;&gt;Neuron -->\n",
       "<g class=\"edge\" id=\"edge3\">\n",
       "<title>Session-&gt;Neuron</title>\n",
       "<path d=\"M164.5,-132.9494C164.5,-122.1083 164.5,-108.2366 164.5,-97.3418\" fill=\"none\" stroke=\"#000000\" stroke-opacity=\"0.250980\" stroke-width=\"2\"/>\n",
       "</g>\n",
       "<!-- Neuron&#45;&gt;Spikes -->\n",
       "<g class=\"edge\" id=\"edge4\">\n",
       "<title>Neuron-&gt;Spikes</title>\n",
       "<path d=\"M142.8684,-65.3971C121.5821,-51.5192 89.9415,-30.8908 73.4279,-20.1246\" fill=\"none\" stroke=\"#000000\" stroke-opacity=\"0.250980\" stroke-width=\".75\"/>\n",
       "</g>\n",
       "<!-- Neuron&#45;&gt;ActivityStatistics -->\n",
       "<g class=\"edge\" id=\"edge5\">\n",
       "<title>Neuron-&gt;ActivityStatistics</title>\n",
       "<path d=\"M164.5,-61.6792C164.5,-50.4451 164.5,-36.1917 164.5,-26.0168\" fill=\"none\" stroke=\"#000000\" stroke-opacity=\"0.250980\" stroke-width=\"2\"/>\n",
       "</g>\n",
       "</g>\n",
       "</svg>"
      ],
      "text/plain": [
       "<datajoint.diagram.Diagram at 0x7f5495a1beb8>"
      ]
     },
     "execution_count": 70,
     "metadata": {},
     "output_type": "execute_result"
    }
   ],
   "source": [
    "dj.ERD(schema)"
   ]
  },
  {
   "cell_type": "markdown",
   "metadata": {},
   "source": [
    "In the ERD, we see that `Spikes` is a computed table (red circle) that depends on **both Neuron and SpikeDetectionParam**. Finally, let's go ahead and implement the `make` method for the `Spikes` table. "
   ]
  },
  {
   "cell_type": "code",
   "execution_count": 71,
   "metadata": {},
   "outputs": [],
   "source": [
    "@schema\n",
    "class Spikes(dj.Computed):\n",
    "    definition = \"\"\"\n",
    "    -> Neuron\n",
    "    -> SpikeDetectionParam\n",
    "    ---\n",
    "    spikes: longblob     # detected spikes\n",
    "    count: int           # total number of detected spikes\n",
    "    \"\"\"\n",
    "    def make(self, key):\n",
    "        print('Populating for: ', key)\n",
    "\n",
    "        activity = (Neuron() & key).fetch1('activity')\n",
    "        threshold = (SpikeDetectionParam() & key).fetch1('threshold')\n",
    "\n",
    "        above_thrs = (activity > threshold).astype(np.int)   # find activity above threshold\n",
    "        rising = (np.diff(above_thrs) > 0).astype(np.int)   # find rising edge of crossing threshold\n",
    "        spikes = np.hstack((0, rising))    # prepend 0 to account for shortening due to np.diff\n",
    "\n",
    "        count = spikes.sum()   # compute total spike counts\n",
    "        print('Detected {} spikes!\\n'.format(count))\n",
    "\n",
    "        # save results and insert\n",
    "        key['spikes'] = spikes\n",
    "        key['count'] = count\n",
    "        self.insert1(key)"
   ]
  },
  {
   "cell_type": "markdown",
   "metadata": {},
   "source": [
    "The implementation of the spike detection is pretty much what we had above, except that we now fetch the value of `threshold` from the `SpikeDetectionParam` table."
   ]
  },
  {
   "cell_type": "markdown",
   "metadata": {},
   "source": [
    "Looking at the `Spikes` table, we see that it indeed inherits the primary key attributes from **both Neuron (`mouse_id`, `session_date`) and SpikeDetectionParam (`sdp_id`)**."
   ]
  },
  {
   "cell_type": "code",
   "execution_count": 72,
   "metadata": {},
   "outputs": [
    {
     "data": {
      "text/html": [
       "\n",
       "        \n",
       "        <style type=\"text/css\">\n",
       "            .Relation{\n",
       "                border-collapse:collapse;\n",
       "            }\n",
       "            .Relation th{\n",
       "                background: #A0A0A0; color: #ffffff; padding:4px; border:#f0e0e0 1px solid;\n",
       "                font-weight: normal; font-family: monospace; font-size: 100%;\n",
       "            }\n",
       "            .Relation td{\n",
       "                padding:4px; border:#f0e0e0 1px solid; font-size:100%;\n",
       "            }\n",
       "            .Relation tr:nth-child(odd){\n",
       "                background: #ffffff;\n",
       "            }\n",
       "            .Relation tr:nth-child(even){\n",
       "                background: #f3f1ff;\n",
       "            }\n",
       "            /* Tooltip container */\n",
       "            .djtooltip {\n",
       "            }\n",
       "            /* Tooltip text */\n",
       "            .djtooltip .djtooltiptext {\n",
       "                visibility: hidden;\n",
       "                width: 120px;\n",
       "                background-color: black;\n",
       "                color: #fff;\n",
       "                text-align: center;\n",
       "                padding: 5px 0;\n",
       "                border-radius: 6px;\n",
       "                /* Position the tooltip text - see examples below! */\n",
       "                position: absolute;\n",
       "                z-index: 1;\n",
       "            }\n",
       "            #primary {\n",
       "                font-weight: bold;\n",
       "                color: black;\n",
       "            }\n",
       "\n",
       "            #nonprimary {\n",
       "                font-weight: normal;\n",
       "                color: white;\n",
       "            }\n",
       "\n",
       "            /* Show the tooltip text when you mouse over the tooltip container */\n",
       "            .djtooltip:hover .djtooltiptext {\n",
       "                visibility: visible;\n",
       "            }\n",
       "        </style>\n",
       "        \n",
       "        <b></b>\n",
       "            <div style=\"max-height:1000px;max-width:1500px;overflow:auto;\">\n",
       "            <table border=\"1\" class=\"Relation\">\n",
       "                <thead> <tr style=\"text-align: right;\"> <th> <div class=\"djtooltip\">\n",
       "                                <p id=\"primary\">mouse_id</p>\n",
       "                                <span class=\"djtooltiptext\">Unique animal ID</span>\n",
       "                            </div></th><th><div class=\"djtooltip\">\n",
       "                                <p id=\"primary\">session_date</p>\n",
       "                                <span class=\"djtooltiptext\">date</span>\n",
       "                            </div></th><th><div class=\"djtooltip\">\n",
       "                                <p id=\"primary\">sdp_id</p>\n",
       "                                <span class=\"djtooltiptext\">unique id for spike detection parameter set</span>\n",
       "                            </div></th><th><div class=\"djtooltip\">\n",
       "                                <p id=\"nonprimary\">spikes</p>\n",
       "                                <span class=\"djtooltiptext\">detected spikes</span>\n",
       "                            </div></th><th><div class=\"djtooltip\">\n",
       "                                <p id=\"nonprimary\">count</p>\n",
       "                                <span class=\"djtooltiptext\">total number of detected spikes</span>\n",
       "                            </div> </th> </tr> </thead>\n",
       "                <tbody> <tr>  </tr> </tbody>\n",
       "            </table>\n",
       "            \n",
       "            <p>Total: 0</p></div>\n",
       "            "
      ],
      "text/plain": [
       "*mouse_id    *session_date  *sdp_id    spikes     count    \n",
       "+----------+ +------------+ +--------+ +--------+ +-------+\n",
       "\n",
       " (Total: 0)"
      ]
     },
     "execution_count": 72,
     "metadata": {},
     "output_type": "execute_result"
    }
   ],
   "source": [
    "Spikes()"
   ]
  },
  {
   "cell_type": "markdown",
   "metadata": {},
   "source": [
    "### Populating `Spikes` table"
   ]
  },
  {
   "cell_type": "markdown",
   "metadata": {},
   "source": [
    "We are now ready to populate! When we call `populate` on `Spikes`, DataJoint will automatically call `make` on **every valid combination of the parent tables - Neuron and SpikeDetectionParam**."
   ]
  },
  {
   "cell_type": "code",
   "execution_count": 73,
   "metadata": {},
   "outputs": [],
   "source": [
    "Spikes.populate()"
   ]
  },
  {
   "cell_type": "markdown",
   "metadata": {},
   "source": [
    "Hm... `populate` doesn't seem to be doing anything... What could be the cause?"
   ]
  },
  {
   "cell_type": "markdown",
   "metadata": {},
   "source": [
    "Looking at `SpikeDetectionParam` reveals the issue:"
   ]
  },
  {
   "cell_type": "code",
   "execution_count": 74,
   "metadata": {},
   "outputs": [
    {
     "data": {
      "text/html": [
       "\n",
       "        \n",
       "        <style type=\"text/css\">\n",
       "            .Relation{\n",
       "                border-collapse:collapse;\n",
       "            }\n",
       "            .Relation th{\n",
       "                background: #A0A0A0; color: #ffffff; padding:4px; border:#f0e0e0 1px solid;\n",
       "                font-weight: normal; font-family: monospace; font-size: 100%;\n",
       "            }\n",
       "            .Relation td{\n",
       "                padding:4px; border:#f0e0e0 1px solid; font-size:100%;\n",
       "            }\n",
       "            .Relation tr:nth-child(odd){\n",
       "                background: #ffffff;\n",
       "            }\n",
       "            .Relation tr:nth-child(even){\n",
       "                background: #f3f1ff;\n",
       "            }\n",
       "            /* Tooltip container */\n",
       "            .djtooltip {\n",
       "            }\n",
       "            /* Tooltip text */\n",
       "            .djtooltip .djtooltiptext {\n",
       "                visibility: hidden;\n",
       "                width: 120px;\n",
       "                background-color: black;\n",
       "                color: #fff;\n",
       "                text-align: center;\n",
       "                padding: 5px 0;\n",
       "                border-radius: 6px;\n",
       "                /* Position the tooltip text - see examples below! */\n",
       "                position: absolute;\n",
       "                z-index: 1;\n",
       "            }\n",
       "            #primary {\n",
       "                font-weight: bold;\n",
       "                color: black;\n",
       "            }\n",
       "\n",
       "            #nonprimary {\n",
       "                font-weight: normal;\n",
       "                color: white;\n",
       "            }\n",
       "\n",
       "            /* Show the tooltip text when you mouse over the tooltip container */\n",
       "            .djtooltip:hover .djtooltiptext {\n",
       "                visibility: visible;\n",
       "            }\n",
       "        </style>\n",
       "        \n",
       "        <b></b>\n",
       "            <div style=\"max-height:1000px;max-width:1500px;overflow:auto;\">\n",
       "            <table border=\"1\" class=\"Relation\">\n",
       "                <thead> <tr style=\"text-align: right;\"> <th> <div class=\"djtooltip\">\n",
       "                                <p id=\"primary\">sdp_id</p>\n",
       "                                <span class=\"djtooltiptext\">unique id for spike detection parameter set</span>\n",
       "                            </div></th><th><div class=\"djtooltip\">\n",
       "                                <p id=\"nonprimary\">threshold</p>\n",
       "                                <span class=\"djtooltiptext\">threshold for spike detection</span>\n",
       "                            </div> </th> </tr> </thead>\n",
       "                <tbody> <tr>  </tr> </tbody>\n",
       "            </table>\n",
       "            \n",
       "            <p>Total: 0</p></div>\n",
       "            "
      ],
      "text/plain": [
       "*sdp_id    threshold    \n",
       "+--------+ +-----------+\n",
       "\n",
       " (Total: 0)"
      ]
     },
     "execution_count": 74,
     "metadata": {},
     "output_type": "execute_result"
    }
   ],
   "source": [
    "SpikeDetectionParam()"
   ]
  },
  {
   "cell_type": "markdown",
   "metadata": {},
   "source": [
    "That's right! We have not added a detection parameter set yet. Let's go ahead and add one."
   ]
  },
  {
   "cell_type": "code",
   "execution_count": 75,
   "metadata": {},
   "outputs": [],
   "source": [
    "SpikeDetectionParam.insert1((0, 0.5))"
   ]
  },
  {
   "cell_type": "code",
   "execution_count": 76,
   "metadata": {},
   "outputs": [
    {
     "data": {
      "text/html": [
       "\n",
       "        \n",
       "        <style type=\"text/css\">\n",
       "            .Relation{\n",
       "                border-collapse:collapse;\n",
       "            }\n",
       "            .Relation th{\n",
       "                background: #A0A0A0; color: #ffffff; padding:4px; border:#f0e0e0 1px solid;\n",
       "                font-weight: normal; font-family: monospace; font-size: 100%;\n",
       "            }\n",
       "            .Relation td{\n",
       "                padding:4px; border:#f0e0e0 1px solid; font-size:100%;\n",
       "            }\n",
       "            .Relation tr:nth-child(odd){\n",
       "                background: #ffffff;\n",
       "            }\n",
       "            .Relation tr:nth-child(even){\n",
       "                background: #f3f1ff;\n",
       "            }\n",
       "            /* Tooltip container */\n",
       "            .djtooltip {\n",
       "            }\n",
       "            /* Tooltip text */\n",
       "            .djtooltip .djtooltiptext {\n",
       "                visibility: hidden;\n",
       "                width: 120px;\n",
       "                background-color: black;\n",
       "                color: #fff;\n",
       "                text-align: center;\n",
       "                padding: 5px 0;\n",
       "                border-radius: 6px;\n",
       "                /* Position the tooltip text - see examples below! */\n",
       "                position: absolute;\n",
       "                z-index: 1;\n",
       "            }\n",
       "            #primary {\n",
       "                font-weight: bold;\n",
       "                color: black;\n",
       "            }\n",
       "\n",
       "            #nonprimary {\n",
       "                font-weight: normal;\n",
       "                color: white;\n",
       "            }\n",
       "\n",
       "            /* Show the tooltip text when you mouse over the tooltip container */\n",
       "            .djtooltip:hover .djtooltiptext {\n",
       "                visibility: visible;\n",
       "            }\n",
       "        </style>\n",
       "        \n",
       "        <b></b>\n",
       "            <div style=\"max-height:1000px;max-width:1500px;overflow:auto;\">\n",
       "            <table border=\"1\" class=\"Relation\">\n",
       "                <thead> <tr style=\"text-align: right;\"> <th> <div class=\"djtooltip\">\n",
       "                                <p id=\"primary\">sdp_id</p>\n",
       "                                <span class=\"djtooltiptext\">unique id for spike detection parameter set</span>\n",
       "                            </div></th><th><div class=\"djtooltip\">\n",
       "                                <p id=\"nonprimary\">threshold</p>\n",
       "                                <span class=\"djtooltiptext\">threshold for spike detection</span>\n",
       "                            </div> </th> </tr> </thead>\n",
       "                <tbody> <tr> <td>0</td>\n",
       "<td>0.5</td> </tr> </tbody>\n",
       "            </table>\n",
       "            \n",
       "            <p>Total: 1</p></div>\n",
       "            "
      ],
      "text/plain": [
       "*sdp_id    threshold    \n",
       "+--------+ +-----------+\n",
       "0          0.5          \n",
       " (Total: 1)"
      ]
     },
     "execution_count": 76,
     "metadata": {},
     "output_type": "execute_result"
    }
   ],
   "source": [
    "SpikeDetectionParam()"
   ]
  },
  {
   "cell_type": "markdown",
   "metadata": {},
   "source": [
    "Now we should really be ready to perform the computation..."
   ]
  },
  {
   "cell_type": "code",
   "execution_count": 77,
   "metadata": {},
   "outputs": [
    {
     "name": "stdout",
     "output_type": "stream",
     "text": [
      "Populating for:  {'mouse_id': 0, 'session_date': datetime.date(2017, 5, 15), 'sdp_id': 0}\n",
      "Detected 26 spikes!\n",
      "\n",
      "Populating for:  {'mouse_id': 0, 'session_date': datetime.date(2017, 5, 19), 'sdp_id': 0}\n",
      "Detected 24 spikes!\n",
      "\n",
      "Populating for:  {'mouse_id': 5, 'session_date': datetime.date(2017, 1, 5), 'sdp_id': 0}\n",
      "Detected 18 spikes!\n",
      "\n"
     ]
    }
   ],
   "source": [
    "Spikes.populate()"
   ]
  },
  {
   "cell_type": "code",
   "execution_count": 78,
   "metadata": {},
   "outputs": [
    {
     "data": {
      "text/html": [
       "\n",
       "        \n",
       "        <style type=\"text/css\">\n",
       "            .Relation{\n",
       "                border-collapse:collapse;\n",
       "            }\n",
       "            .Relation th{\n",
       "                background: #A0A0A0; color: #ffffff; padding:4px; border:#f0e0e0 1px solid;\n",
       "                font-weight: normal; font-family: monospace; font-size: 100%;\n",
       "            }\n",
       "            .Relation td{\n",
       "                padding:4px; border:#f0e0e0 1px solid; font-size:100%;\n",
       "            }\n",
       "            .Relation tr:nth-child(odd){\n",
       "                background: #ffffff;\n",
       "            }\n",
       "            .Relation tr:nth-child(even){\n",
       "                background: #f3f1ff;\n",
       "            }\n",
       "            /* Tooltip container */\n",
       "            .djtooltip {\n",
       "            }\n",
       "            /* Tooltip text */\n",
       "            .djtooltip .djtooltiptext {\n",
       "                visibility: hidden;\n",
       "                width: 120px;\n",
       "                background-color: black;\n",
       "                color: #fff;\n",
       "                text-align: center;\n",
       "                padding: 5px 0;\n",
       "                border-radius: 6px;\n",
       "                /* Position the tooltip text - see examples below! */\n",
       "                position: absolute;\n",
       "                z-index: 1;\n",
       "            }\n",
       "            #primary {\n",
       "                font-weight: bold;\n",
       "                color: black;\n",
       "            }\n",
       "\n",
       "            #nonprimary {\n",
       "                font-weight: normal;\n",
       "                color: white;\n",
       "            }\n",
       "\n",
       "            /* Show the tooltip text when you mouse over the tooltip container */\n",
       "            .djtooltip:hover .djtooltiptext {\n",
       "                visibility: visible;\n",
       "            }\n",
       "        </style>\n",
       "        \n",
       "        <b></b>\n",
       "            <div style=\"max-height:1000px;max-width:1500px;overflow:auto;\">\n",
       "            <table border=\"1\" class=\"Relation\">\n",
       "                <thead> <tr style=\"text-align: right;\"> <th> <div class=\"djtooltip\">\n",
       "                                <p id=\"primary\">mouse_id</p>\n",
       "                                <span class=\"djtooltiptext\">Unique animal ID</span>\n",
       "                            </div></th><th><div class=\"djtooltip\">\n",
       "                                <p id=\"primary\">session_date</p>\n",
       "                                <span class=\"djtooltiptext\">date</span>\n",
       "                            </div></th><th><div class=\"djtooltip\">\n",
       "                                <p id=\"primary\">sdp_id</p>\n",
       "                                <span class=\"djtooltiptext\">unique id for spike detection parameter set</span>\n",
       "                            </div></th><th><div class=\"djtooltip\">\n",
       "                                <p id=\"nonprimary\">spikes</p>\n",
       "                                <span class=\"djtooltiptext\">detected spikes</span>\n",
       "                            </div></th><th><div class=\"djtooltip\">\n",
       "                                <p id=\"nonprimary\">count</p>\n",
       "                                <span class=\"djtooltiptext\">total number of detected spikes</span>\n",
       "                            </div> </th> </tr> </thead>\n",
       "                <tbody> <tr> <td>0</td>\n",
       "<td>2017-05-15</td>\n",
       "<td>0</td>\n",
       "<td>=BLOB=</td>\n",
       "<td>26</td></tr><tr><td>0</td>\n",
       "<td>2017-05-19</td>\n",
       "<td>0</td>\n",
       "<td>=BLOB=</td>\n",
       "<td>24</td></tr><tr><td>5</td>\n",
       "<td>2017-01-05</td>\n",
       "<td>0</td>\n",
       "<td>=BLOB=</td>\n",
       "<td>18</td> </tr> </tbody>\n",
       "            </table>\n",
       "            \n",
       "            <p>Total: 3</p></div>\n",
       "            "
      ],
      "text/plain": [
       "*mouse_id    *session_date  *sdp_id    spikes     count    \n",
       "+----------+ +------------+ +--------+ +--------+ +-------+\n",
       "0            2017-05-15     0          =BLOB=     26       \n",
       "0            2017-05-19     0          =BLOB=     24       \n",
       "5            2017-01-05     0          =BLOB=     18       \n",
       " (Total: 3)"
      ]
     },
     "execution_count": 78,
     "metadata": {},
     "output_type": "execute_result"
    }
   ],
   "source": [
    "Spikes()"
   ]
  },
  {
   "cell_type": "markdown",
   "metadata": {},
   "source": [
    "...and we now have spike detection running!"
   ]
  },
  {
   "cell_type": "markdown",
   "metadata": {},
   "source": [
    "### Trying out other parameter values"
   ]
  },
  {
   "cell_type": "markdown",
   "metadata": {},
   "source": [
    "Let's see how different thresholds affect the results."
   ]
  },
  {
   "cell_type": "code",
   "execution_count": 79,
   "metadata": {},
   "outputs": [],
   "source": [
    "SpikeDetectionParam.insert1((1, 0.9))  # add another threshold"
   ]
  },
  {
   "cell_type": "code",
   "execution_count": 80,
   "metadata": {},
   "outputs": [
    {
     "data": {
      "text/html": [
       "\n",
       "        \n",
       "        <style type=\"text/css\">\n",
       "            .Relation{\n",
       "                border-collapse:collapse;\n",
       "            }\n",
       "            .Relation th{\n",
       "                background: #A0A0A0; color: #ffffff; padding:4px; border:#f0e0e0 1px solid;\n",
       "                font-weight: normal; font-family: monospace; font-size: 100%;\n",
       "            }\n",
       "            .Relation td{\n",
       "                padding:4px; border:#f0e0e0 1px solid; font-size:100%;\n",
       "            }\n",
       "            .Relation tr:nth-child(odd){\n",
       "                background: #ffffff;\n",
       "            }\n",
       "            .Relation tr:nth-child(even){\n",
       "                background: #f3f1ff;\n",
       "            }\n",
       "            /* Tooltip container */\n",
       "            .djtooltip {\n",
       "            }\n",
       "            /* Tooltip text */\n",
       "            .djtooltip .djtooltiptext {\n",
       "                visibility: hidden;\n",
       "                width: 120px;\n",
       "                background-color: black;\n",
       "                color: #fff;\n",
       "                text-align: center;\n",
       "                padding: 5px 0;\n",
       "                border-radius: 6px;\n",
       "                /* Position the tooltip text - see examples below! */\n",
       "                position: absolute;\n",
       "                z-index: 1;\n",
       "            }\n",
       "            #primary {\n",
       "                font-weight: bold;\n",
       "                color: black;\n",
       "            }\n",
       "\n",
       "            #nonprimary {\n",
       "                font-weight: normal;\n",
       "                color: white;\n",
       "            }\n",
       "\n",
       "            /* Show the tooltip text when you mouse over the tooltip container */\n",
       "            .djtooltip:hover .djtooltiptext {\n",
       "                visibility: visible;\n",
       "            }\n",
       "        </style>\n",
       "        \n",
       "        <b></b>\n",
       "            <div style=\"max-height:1000px;max-width:1500px;overflow:auto;\">\n",
       "            <table border=\"1\" class=\"Relation\">\n",
       "                <thead> <tr style=\"text-align: right;\"> <th> <div class=\"djtooltip\">\n",
       "                                <p id=\"primary\">sdp_id</p>\n",
       "                                <span class=\"djtooltiptext\">unique id for spike detection parameter set</span>\n",
       "                            </div></th><th><div class=\"djtooltip\">\n",
       "                                <p id=\"nonprimary\">threshold</p>\n",
       "                                <span class=\"djtooltiptext\">threshold for spike detection</span>\n",
       "                            </div> </th> </tr> </thead>\n",
       "                <tbody> <tr> <td>0</td>\n",
       "<td>0.5</td></tr><tr><td>1</td>\n",
       "<td>0.9</td> </tr> </tbody>\n",
       "            </table>\n",
       "            \n",
       "            <p>Total: 2</p></div>\n",
       "            "
      ],
      "text/plain": [
       "*sdp_id    threshold    \n",
       "+--------+ +-----------+\n",
       "0          0.5          \n",
       "1          0.9          \n",
       " (Total: 2)"
      ]
     },
     "execution_count": 80,
     "metadata": {},
     "output_type": "execute_result"
    }
   ],
   "source": [
    "SpikeDetectionParam()"
   ]
  },
  {
   "cell_type": "code",
   "execution_count": 81,
   "metadata": {},
   "outputs": [
    {
     "name": "stdout",
     "output_type": "stream",
     "text": [
      "Populating for:  {'mouse_id': 0, 'session_date': datetime.date(2017, 5, 15), 'sdp_id': 1}\n",
      "Detected 27 spikes!\n",
      "\n",
      "Populating for:  {'mouse_id': 0, 'session_date': datetime.date(2017, 5, 19), 'sdp_id': 1}\n",
      "Detected 21 spikes!\n",
      "\n",
      "Populating for:  {'mouse_id': 5, 'session_date': datetime.date(2017, 1, 5), 'sdp_id': 1}\n",
      "Detected 14 spikes!\n",
      "\n"
     ]
    }
   ],
   "source": [
    "Spikes.populate()"
   ]
  },
  {
   "cell_type": "code",
   "execution_count": 82,
   "metadata": {},
   "outputs": [
    {
     "data": {
      "text/html": [
       "\n",
       "        \n",
       "        <style type=\"text/css\">\n",
       "            .Relation{\n",
       "                border-collapse:collapse;\n",
       "            }\n",
       "            .Relation th{\n",
       "                background: #A0A0A0; color: #ffffff; padding:4px; border:#f0e0e0 1px solid;\n",
       "                font-weight: normal; font-family: monospace; font-size: 100%;\n",
       "            }\n",
       "            .Relation td{\n",
       "                padding:4px; border:#f0e0e0 1px solid; font-size:100%;\n",
       "            }\n",
       "            .Relation tr:nth-child(odd){\n",
       "                background: #ffffff;\n",
       "            }\n",
       "            .Relation tr:nth-child(even){\n",
       "                background: #f3f1ff;\n",
       "            }\n",
       "            /* Tooltip container */\n",
       "            .djtooltip {\n",
       "            }\n",
       "            /* Tooltip text */\n",
       "            .djtooltip .djtooltiptext {\n",
       "                visibility: hidden;\n",
       "                width: 120px;\n",
       "                background-color: black;\n",
       "                color: #fff;\n",
       "                text-align: center;\n",
       "                padding: 5px 0;\n",
       "                border-radius: 6px;\n",
       "                /* Position the tooltip text - see examples below! */\n",
       "                position: absolute;\n",
       "                z-index: 1;\n",
       "            }\n",
       "            #primary {\n",
       "                font-weight: bold;\n",
       "                color: black;\n",
       "            }\n",
       "\n",
       "            #nonprimary {\n",
       "                font-weight: normal;\n",
       "                color: white;\n",
       "            }\n",
       "\n",
       "            /* Show the tooltip text when you mouse over the tooltip container */\n",
       "            .djtooltip:hover .djtooltiptext {\n",
       "                visibility: visible;\n",
       "            }\n",
       "        </style>\n",
       "        \n",
       "        <b></b>\n",
       "            <div style=\"max-height:1000px;max-width:1500px;overflow:auto;\">\n",
       "            <table border=\"1\" class=\"Relation\">\n",
       "                <thead> <tr style=\"text-align: right;\"> <th> <div class=\"djtooltip\">\n",
       "                                <p id=\"primary\">mouse_id</p>\n",
       "                                <span class=\"djtooltiptext\">Unique animal ID</span>\n",
       "                            </div></th><th><div class=\"djtooltip\">\n",
       "                                <p id=\"primary\">session_date</p>\n",
       "                                <span class=\"djtooltiptext\">date</span>\n",
       "                            </div></th><th><div class=\"djtooltip\">\n",
       "                                <p id=\"primary\">sdp_id</p>\n",
       "                                <span class=\"djtooltiptext\">unique id for spike detection parameter set</span>\n",
       "                            </div></th><th><div class=\"djtooltip\">\n",
       "                                <p id=\"nonprimary\">spikes</p>\n",
       "                                <span class=\"djtooltiptext\">detected spikes</span>\n",
       "                            </div></th><th><div class=\"djtooltip\">\n",
       "                                <p id=\"nonprimary\">count</p>\n",
       "                                <span class=\"djtooltiptext\">total number of detected spikes</span>\n",
       "                            </div> </th> </tr> </thead>\n",
       "                <tbody> <tr> <td>0</td>\n",
       "<td>2017-05-15</td>\n",
       "<td>0</td>\n",
       "<td>=BLOB=</td>\n",
       "<td>26</td></tr><tr><td>0</td>\n",
       "<td>2017-05-15</td>\n",
       "<td>1</td>\n",
       "<td>=BLOB=</td>\n",
       "<td>27</td></tr><tr><td>0</td>\n",
       "<td>2017-05-19</td>\n",
       "<td>0</td>\n",
       "<td>=BLOB=</td>\n",
       "<td>24</td></tr><tr><td>0</td>\n",
       "<td>2017-05-19</td>\n",
       "<td>1</td>\n",
       "<td>=BLOB=</td>\n",
       "<td>21</td></tr><tr><td>5</td>\n",
       "<td>2017-01-05</td>\n",
       "<td>0</td>\n",
       "<td>=BLOB=</td>\n",
       "<td>18</td></tr><tr><td>5</td>\n",
       "<td>2017-01-05</td>\n",
       "<td>1</td>\n",
       "<td>=BLOB=</td>\n",
       "<td>14</td> </tr> </tbody>\n",
       "            </table>\n",
       "            \n",
       "            <p>Total: 6</p></div>\n",
       "            "
      ],
      "text/plain": [
       "*mouse_id    *session_date  *sdp_id    spikes     count    \n",
       "+----------+ +------------+ +--------+ +--------+ +-------+\n",
       "0            2017-05-15     0          =BLOB=     26       \n",
       "0            2017-05-15     1          =BLOB=     27       \n",
       "0            2017-05-19     0          =BLOB=     24       \n",
       "0            2017-05-19     1          =BLOB=     21       \n",
       "5            2017-01-05     0          =BLOB=     18       \n",
       "5            2017-01-05     1          =BLOB=     14       \n",
       " (Total: 6)"
      ]
     },
     "execution_count": 82,
     "metadata": {},
     "output_type": "execute_result"
    }
   ],
   "source": [
    "Spikes()"
   ]
  },
  {
   "cell_type": "markdown",
   "metadata": {},
   "source": [
    "You can see that the results of spike detection under different parameter settings can live happily next to each other, without any confusion as to what is what."
   ]
  },
  {
   "cell_type": "markdown",
   "metadata": {},
   "source": [
    "# Deleting cleanly"
   ]
  },
  {
   "cell_type": "markdown",
   "metadata": {},
   "source": [
    "Now suppose we had some issue with one of the mouse's session that we have to remove. DataJoint allows you to cleanly remove everything that was computed using that session by **cascading the deletion**."
   ]
  },
  {
   "cell_type": "code",
   "execution_count": 83,
   "metadata": {},
   "outputs": [],
   "source": [
    "key_to_delete = {\n",
    "    'mouse_id': 0,\n",
    "    'session_date': '2017-05-19'\n",
    "}"
   ]
  },
  {
   "cell_type": "code",
   "execution_count": 84,
   "metadata": {},
   "outputs": [
    {
     "data": {
      "text/html": [
       "\n",
       "        \n",
       "        <style type=\"text/css\">\n",
       "            .Relation{\n",
       "                border-collapse:collapse;\n",
       "            }\n",
       "            .Relation th{\n",
       "                background: #A0A0A0; color: #ffffff; padding:4px; border:#f0e0e0 1px solid;\n",
       "                font-weight: normal; font-family: monospace; font-size: 100%;\n",
       "            }\n",
       "            .Relation td{\n",
       "                padding:4px; border:#f0e0e0 1px solid; font-size:100%;\n",
       "            }\n",
       "            .Relation tr:nth-child(odd){\n",
       "                background: #ffffff;\n",
       "            }\n",
       "            .Relation tr:nth-child(even){\n",
       "                background: #f3f1ff;\n",
       "            }\n",
       "            /* Tooltip container */\n",
       "            .djtooltip {\n",
       "            }\n",
       "            /* Tooltip text */\n",
       "            .djtooltip .djtooltiptext {\n",
       "                visibility: hidden;\n",
       "                width: 120px;\n",
       "                background-color: black;\n",
       "                color: #fff;\n",
       "                text-align: center;\n",
       "                padding: 5px 0;\n",
       "                border-radius: 6px;\n",
       "                /* Position the tooltip text - see examples below! */\n",
       "                position: absolute;\n",
       "                z-index: 1;\n",
       "            }\n",
       "            #primary {\n",
       "                font-weight: bold;\n",
       "                color: black;\n",
       "            }\n",
       "\n",
       "            #nonprimary {\n",
       "                font-weight: normal;\n",
       "                color: white;\n",
       "            }\n",
       "\n",
       "            /* Show the tooltip text when you mouse over the tooltip container */\n",
       "            .djtooltip:hover .djtooltiptext {\n",
       "                visibility: visible;\n",
       "            }\n",
       "        </style>\n",
       "        \n",
       "        <b>Experiment session</b>\n",
       "            <div style=\"max-height:1000px;max-width:1500px;overflow:auto;\">\n",
       "            <table border=\"1\" class=\"Relation\">\n",
       "                <thead> <tr style=\"text-align: right;\"> <th> <div class=\"djtooltip\">\n",
       "                                <p id=\"primary\">mouse_id</p>\n",
       "                                <span class=\"djtooltiptext\">Unique animal ID</span>\n",
       "                            </div></th><th><div class=\"djtooltip\">\n",
       "                                <p id=\"primary\">session_date</p>\n",
       "                                <span class=\"djtooltiptext\">date</span>\n",
       "                            </div></th><th><div class=\"djtooltip\">\n",
       "                                <p id=\"nonprimary\">experiment_setup</p>\n",
       "                                <span class=\"djtooltiptext\">experiment setup ID</span>\n",
       "                            </div></th><th><div class=\"djtooltip\">\n",
       "                                <p id=\"nonprimary\">experimenter</p>\n",
       "                                <span class=\"djtooltiptext\">experimenter name</span>\n",
       "                            </div> </th> </tr> </thead>\n",
       "                <tbody> <tr> <td>0</td>\n",
       "<td>2017-05-19</td>\n",
       "<td>100</td>\n",
       "<td>Jacob Reimer</td> </tr> </tbody>\n",
       "            </table>\n",
       "            \n",
       "            <p>Total: 1</p></div>\n",
       "            "
      ],
      "text/plain": [
       "*mouse_id    *session_date  experiment_set experimenter  \n",
       "+----------+ +------------+ +------------+ +------------+\n",
       "0            2017-05-19     100            Jacob Reimer  \n",
       " (Total: 1)"
      ]
     },
     "execution_count": 84,
     "metadata": {},
     "output_type": "execute_result"
    }
   ],
   "source": [
    "Session & key_to_delete"
   ]
  },
  {
   "cell_type": "markdown",
   "metadata": {},
   "source": [
    "Now let's try deleting this session!"
   ]
  },
  {
   "cell_type": "code",
   "execution_count": 85,
   "metadata": {},
   "outputs": [
    {
     "name": "stdout",
     "output_type": "stream",
     "text": [
      "About to delete:\n",
      "`pipeline`.`__activity_statistics`: 1 items\n",
      "`pipeline`.`__spikes`: 2 items\n",
      "`pipeline`.`_neuron`: 1 items\n",
      "`pipeline`.`session`: 1 items\n"
     ]
    },
    {
     "name": "stdin",
     "output_type": "stream",
     "text": [
      "Proceed? [yes, No]:  no\n"
     ]
    },
    {
     "name": "stdout",
     "output_type": "stream",
     "text": [
      "Cancelled deletes.\n"
     ]
    }
   ],
   "source": [
    "(Session & key_to_delete).delete()"
   ]
  },
  {
   "cell_type": "markdown",
   "metadata": {},
   "source": [
    "Notice that it suggests to delete not only the offending session but everything downstream that depends on that entry of session? This way, we make sure you don't leave behind orphaned dataset or computation results based on invalid data."
   ]
  },
  {
   "cell_type": "markdown",
   "metadata": {},
   "source": [
    "# Summary"
   ]
  },
  {
   "cell_type": "markdown",
   "metadata": {},
   "source": [
    "Congratulations! You have successfully implemented a data pipeline starting with data about experimental subjects (`Mouse`), the experimental sessions (`Session`), recorded data (`Neuron`), and we even added tables for computational results (`ActivityStatistics` and `Spikes`)!"
   ]
  },
  {
   "cell_type": "code",
   "execution_count": 86,
   "metadata": {},
   "outputs": [
    {
     "data": {
      "image/svg+xml": [
       "<svg height=\"247pt\" viewBox=\"0.00 0.00 224.00 247.00\" width=\"224pt\" xmlns=\"http://www.w3.org/2000/svg\" xmlns:xlink=\"http://www.w3.org/1999/xlink\">\n",
       "<g class=\"graph\" id=\"graph0\" transform=\"scale(1 1) rotate(0) translate(4 243)\">\n",
       "<title>%3</title>\n",
       "<polygon fill=\"#ffffff\" points=\"-4,4 -4,-243 220,-243 220,4 -4,4\" stroke=\"transparent\"/>\n",
       "<!-- SpikeDetectionParam -->\n",
       "<g class=\"node\" id=\"node1\">\n",
       "<title>SpikeDetectionParam</title>\n",
       "<g id=\"a_node1\"><a xlink:title=\"sdp_id               \r",
       "------------------------------\r",
       "threshold            \r",
       "\">\n",
       "<polygon fill=\"#000000\" fill-opacity=\"0.125490\" points=\"111,-97 0,-97 0,-62 111,-62 111,-97\" stroke=\"transparent\"/>\n",
       "<text fill=\"#000000\" font-family=\"arial\" font-size=\"10.00\" text-anchor=\"start\" text-decoration=\"underline\" x=\"8\" y=\"-78\">SpikeDetectionParam</text>\n",
       "</a>\n",
       "</g>\n",
       "</g>\n",
       "<!-- Spikes -->\n",
       "<g class=\"node\" id=\"node3\">\n",
       "<title>Spikes</title>\n",
       "<g id=\"a_node3\"><a xlink:title=\"→ Neuron\r",
       "→ SpikeDetectionParam\r",
       "------------------------------\r",
       "spikes               \r",
       "count                \r",
       "\">\n",
       "<ellipse cx=\"62.5\" cy=\"-13\" fill=\"#ff0000\" fill-opacity=\"0.125490\" rx=\"13\" ry=\"13\" stroke=\"#ff0000\" stroke-opacity=\"0.125490\"/>\n",
       "<text fill=\"#7f0000\" font-family=\"arial\" font-size=\"12.00\" text-anchor=\"middle\" x=\"62.5\" y=\"-9.9\">Spikes</text>\n",
       "</a>\n",
       "</g>\n",
       "</g>\n",
       "<!-- SpikeDetectionParam&#45;&gt;Spikes -->\n",
       "<g class=\"edge\" id=\"edge1\">\n",
       "<title>SpikeDetectionParam-&gt;Spikes</title>\n",
       "<path d=\"M57.3759,-61.6792C58.5584,-50.4451 60.0588,-36.1917 61.1298,-26.0168\" fill=\"none\" stroke=\"#000000\" stroke-opacity=\"0.250980\" stroke-width=\".75\"/>\n",
       "</g>\n",
       "<!-- Mouse -->\n",
       "<g class=\"node\" id=\"node2\">\n",
       "<title>Mouse</title>\n",
       "<g id=\"a_node2\"><a xlink:title=\"mouse_id             \r",
       "------------------------------\r",
       "dob=null             \r",
       "sex=&quot;unknown&quot;        \r",
       "\">\n",
       "<polygon fill=\"#00ff00\" fill-opacity=\"0.188235\" points=\"191,-239 138,-239 138,-204 191,-204 191,-239\" stroke=\"#00ff00\" stroke-opacity=\"0.188235\"/>\n",
       "<text fill=\"#006400\" font-family=\"arial\" font-size=\"12.00\" text-anchor=\"start\" text-decoration=\"underline\" x=\"146\" y=\"-219.4\">Mouse</text>\n",
       "</a>\n",
       "</g>\n",
       "</g>\n",
       "<!-- Session -->\n",
       "<g class=\"node\" id=\"node5\">\n",
       "<title>Session</title>\n",
       "<g id=\"a_node5\"><a xlink:title=\"→ Mouse\r",
       "session_date         \r",
       "------------------------------\r",
       "experiment_setup     \r",
       "experimenter         \r",
       "\">\n",
       "<polygon fill=\"#00ff00\" fill-opacity=\"0.188235\" points=\"194.5,-168 134.5,-168 134.5,-133 194.5,-133 194.5,-168\" stroke=\"#00ff00\" stroke-opacity=\"0.188235\"/>\n",
       "<text fill=\"#006400\" font-family=\"arial\" font-size=\"12.00\" text-anchor=\"start\" text-decoration=\"underline\" x=\"142.5\" y=\"-148.4\">Session</text>\n",
       "</a>\n",
       "</g>\n",
       "</g>\n",
       "<!-- Mouse&#45;&gt;Session -->\n",
       "<g class=\"edge\" id=\"edge2\">\n",
       "<title>Mouse-&gt;Session</title>\n",
       "<path d=\"M164.5,-203.9494C164.5,-193.1083 164.5,-179.2366 164.5,-168.3418\" fill=\"none\" stroke=\"#000000\" stroke-opacity=\"0.250980\" stroke-width=\".75\"/>\n",
       "</g>\n",
       "<!-- ActivityStatistics -->\n",
       "<g class=\"node\" id=\"node4\">\n",
       "<title>ActivityStatistics</title>\n",
       "<g id=\"a_node4\"><a xlink:title=\"→ Neuron\r",
       "------------------------------\r",
       "mean                 \r",
       "stdev                \r",
       "max                  \r",
       "\">\n",
       "<ellipse cx=\"164.5\" cy=\"-13\" fill=\"#ff0000\" fill-opacity=\"0.125490\" rx=\"13\" ry=\"13\" stroke=\"#ff0000\" stroke-opacity=\"0.125490\"/>\n",
       "<text fill=\"#7f0000\" font-family=\"arial\" font-size=\"12.00\" text-anchor=\"middle\" x=\"164.5\" y=\"-9.9\">ActivityStatistics</text>\n",
       "</a>\n",
       "</g>\n",
       "</g>\n",
       "<!-- Neuron -->\n",
       "<g class=\"node\" id=\"node6\">\n",
       "<title>Neuron</title>\n",
       "<g id=\"a_node6\"><a xlink:title=\"→ Session\r",
       "------------------------------\r",
       "activity             \r",
       "\">\n",
       "<ellipse cx=\"164.5\" cy=\"-79.5\" fill=\"#00007f\" fill-opacity=\"0.250980\" rx=\"35\" ry=\"17.5\" stroke=\"#00007f\" stroke-opacity=\"0.250980\"/>\n",
       "<text fill=\"#00007f\" font-family=\"arial\" font-size=\"12.00\" text-anchor=\"middle\" x=\"164.5\" y=\"-76.4\">Neuron</text>\n",
       "</a>\n",
       "</g>\n",
       "</g>\n",
       "<!-- Session&#45;&gt;Neuron -->\n",
       "<g class=\"edge\" id=\"edge3\">\n",
       "<title>Session-&gt;Neuron</title>\n",
       "<path d=\"M164.5,-132.9494C164.5,-122.1083 164.5,-108.2366 164.5,-97.3418\" fill=\"none\" stroke=\"#000000\" stroke-opacity=\"0.250980\" stroke-width=\"2\"/>\n",
       "</g>\n",
       "<!-- Neuron&#45;&gt;Spikes -->\n",
       "<g class=\"edge\" id=\"edge4\">\n",
       "<title>Neuron-&gt;Spikes</title>\n",
       "<path d=\"M142.8684,-65.3971C121.5821,-51.5192 89.9415,-30.8908 73.4279,-20.1246\" fill=\"none\" stroke=\"#000000\" stroke-opacity=\"0.250980\" stroke-width=\".75\"/>\n",
       "</g>\n",
       "<!-- Neuron&#45;&gt;ActivityStatistics -->\n",
       "<g class=\"edge\" id=\"edge5\">\n",
       "<title>Neuron-&gt;ActivityStatistics</title>\n",
       "<path d=\"M164.5,-61.6792C164.5,-50.4451 164.5,-36.1917 164.5,-26.0168\" fill=\"none\" stroke=\"#000000\" stroke-opacity=\"0.250980\" stroke-width=\"2\"/>\n",
       "</g>\n",
       "</g>\n",
       "</svg>"
      ],
      "text/plain": [
       "<datajoint.diagram.Diagram at 0x7f5496c77198>"
      ]
     },
     "execution_count": 86,
     "metadata": {},
     "output_type": "execute_result"
    }
   ],
   "source": [
    "dj.ERD(schema)"
   ]
  }
 ],
 "metadata": {
  "kernelspec": {
   "display_name": "Python 3",
   "language": "python",
   "name": "python3"
  },
  "language_info": {
   "codemirror_mode": {
    "name": "ipython",
    "version": 3
   },
   "file_extension": ".py",
   "mimetype": "text/x-python",
   "name": "python",
   "nbconvert_exporter": "python",
   "pygments_lexer": "ipython3",
   "version": "3.6.8"
  }
 },
 "nbformat": 4,
 "nbformat_minor": 4
}
